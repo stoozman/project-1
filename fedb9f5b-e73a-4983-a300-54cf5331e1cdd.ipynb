{
 "cells": [
  {
   "cell_type": "markdown",
   "metadata": {},
   "source": [
    "# Отток клиентов"
   ]
  },
  {
   "cell_type": "markdown",
   "metadata": {},
   "source": [
    "Из «Бета-Банка» стали уходить клиенты. Каждый месяц. Немного, но заметно. Банковские маркетологи посчитали: сохранять текущих клиентов дешевле, чем привлекать новых.\n",
    "\n",
    "Нужно спрогнозировать, уйдёт клиент из банка в ближайшее время или нет. Вам предоставлены исторические данные о поведении клиентов и расторжении договоров с банком. \n",
    "\n",
    "Постройте модель с предельно большим значением *F1*-меры. Чтобы сдать проект успешно, нужно довести метрику до 0.59. Проверьте *F1*-меру на тестовой выборке самостоятельно.\n",
    "\n",
    "Дополнительно измеряйте *AUC-ROC*, сравнивайте её значение с *F1*-мерой.\n",
    "\n",
    "Источник данных: [https://www.kaggle.com/barelydedicated/bank-customer-churn-modeling](https://www.kaggle.com/barelydedicated/bank-customer-churn-modeling)"
   ]
  },
  {
   "cell_type": "markdown",
   "metadata": {},
   "source": [
    "## Подготовка данных"
   ]
  },
  {
   "cell_type": "code",
   "execution_count": 1,
   "metadata": {},
   "outputs": [],
   "source": [
    "import pandas as pd\n",
    "import numpy as np\n",
    "from sklearn.linear_model import LogisticRegression\n",
    "from sklearn.model_selection import train_test_split\n",
    "from sklearn.metrics import f1_score\n",
    "from sklearn.tree import DecisionTreeClassifier\n",
    "from sklearn.ensemble import RandomForestClassifier\n",
    "from sklearn.metrics import accuracy_score\n",
    "from sklearn.utils import shuffle\n",
    "from matplotlib import pyplot as plt\n",
    "from sklearn.metrics import roc_auc_score\n",
    "from sklearn.metrics import precision_score, recall_score\n",
    "from sklearn.preprocessing import StandardScaler\n",
    "from sklearn.model_selection import GridSearchCV\n",
    "from sklearn.dummy import DummyClassifier\n",
    "from sklearn.metrics import roc_curve"
   ]
  },
  {
   "cell_type": "code",
   "execution_count": 2,
   "metadata": {
    "scrolled": false
   },
   "outputs": [
    {
     "name": "stdout",
     "output_type": "stream",
     "text": [
      "<class 'pandas.core.frame.DataFrame'>\n",
      "RangeIndex: 10000 entries, 0 to 9999\n",
      "Data columns (total 14 columns):\n",
      " #   Column           Non-Null Count  Dtype  \n",
      "---  ------           --------------  -----  \n",
      " 0   RowNumber        10000 non-null  int64  \n",
      " 1   CustomerId       10000 non-null  int64  \n",
      " 2   Surname          10000 non-null  object \n",
      " 3   CreditScore      10000 non-null  int64  \n",
      " 4   Geography        10000 non-null  object \n",
      " 5   Gender           10000 non-null  object \n",
      " 6   Age              10000 non-null  int64  \n",
      " 7   Tenure           9091 non-null   float64\n",
      " 8   Balance          10000 non-null  float64\n",
      " 9   NumOfProducts    10000 non-null  int64  \n",
      " 10  HasCrCard        10000 non-null  int64  \n",
      " 11  IsActiveMember   10000 non-null  int64  \n",
      " 12  EstimatedSalary  10000 non-null  float64\n",
      " 13  Exited           10000 non-null  int64  \n",
      "dtypes: float64(3), int64(8), object(3)\n",
      "memory usage: 1.1+ MB\n"
     ]
    }
   ],
   "source": [
    "data = pd.read_csv('/datasets/Churn.csv')\n",
    "data.info()"
   ]
  },
  {
   "cell_type": "markdown",
   "metadata": {},
   "source": [
    "кажется в столбце Tenure нас ожидают пропуски "
   ]
  },
  {
   "cell_type": "code",
   "execution_count": 3,
   "metadata": {
    "scrolled": false
   },
   "outputs": [
    {
     "data": {
      "text/html": [
       "<div>\n",
       "<style scoped>\n",
       "    .dataframe tbody tr th:only-of-type {\n",
       "        vertical-align: middle;\n",
       "    }\n",
       "\n",
       "    .dataframe tbody tr th {\n",
       "        vertical-align: top;\n",
       "    }\n",
       "\n",
       "    .dataframe thead th {\n",
       "        text-align: right;\n",
       "    }\n",
       "</style>\n",
       "<table border=\"1\" class=\"dataframe\">\n",
       "  <thead>\n",
       "    <tr style=\"text-align: right;\">\n",
       "      <th></th>\n",
       "      <th>RowNumber</th>\n",
       "      <th>CustomerId</th>\n",
       "      <th>Surname</th>\n",
       "      <th>CreditScore</th>\n",
       "      <th>Geography</th>\n",
       "      <th>Gender</th>\n",
       "      <th>Age</th>\n",
       "      <th>Tenure</th>\n",
       "      <th>Balance</th>\n",
       "      <th>NumOfProducts</th>\n",
       "      <th>HasCrCard</th>\n",
       "      <th>IsActiveMember</th>\n",
       "      <th>EstimatedSalary</th>\n",
       "      <th>Exited</th>\n",
       "    </tr>\n",
       "  </thead>\n",
       "  <tbody>\n",
       "    <tr>\n",
       "      <th>0</th>\n",
       "      <td>1</td>\n",
       "      <td>15634602</td>\n",
       "      <td>Hargrave</td>\n",
       "      <td>619</td>\n",
       "      <td>France</td>\n",
       "      <td>Female</td>\n",
       "      <td>42</td>\n",
       "      <td>2.0</td>\n",
       "      <td>0.00</td>\n",
       "      <td>1</td>\n",
       "      <td>1</td>\n",
       "      <td>1</td>\n",
       "      <td>101348.88</td>\n",
       "      <td>1</td>\n",
       "    </tr>\n",
       "    <tr>\n",
       "      <th>1</th>\n",
       "      <td>2</td>\n",
       "      <td>15647311</td>\n",
       "      <td>Hill</td>\n",
       "      <td>608</td>\n",
       "      <td>Spain</td>\n",
       "      <td>Female</td>\n",
       "      <td>41</td>\n",
       "      <td>1.0</td>\n",
       "      <td>83807.86</td>\n",
       "      <td>1</td>\n",
       "      <td>0</td>\n",
       "      <td>1</td>\n",
       "      <td>112542.58</td>\n",
       "      <td>0</td>\n",
       "    </tr>\n",
       "    <tr>\n",
       "      <th>2</th>\n",
       "      <td>3</td>\n",
       "      <td>15619304</td>\n",
       "      <td>Onio</td>\n",
       "      <td>502</td>\n",
       "      <td>France</td>\n",
       "      <td>Female</td>\n",
       "      <td>42</td>\n",
       "      <td>8.0</td>\n",
       "      <td>159660.80</td>\n",
       "      <td>3</td>\n",
       "      <td>1</td>\n",
       "      <td>0</td>\n",
       "      <td>113931.57</td>\n",
       "      <td>1</td>\n",
       "    </tr>\n",
       "    <tr>\n",
       "      <th>3</th>\n",
       "      <td>4</td>\n",
       "      <td>15701354</td>\n",
       "      <td>Boni</td>\n",
       "      <td>699</td>\n",
       "      <td>France</td>\n",
       "      <td>Female</td>\n",
       "      <td>39</td>\n",
       "      <td>1.0</td>\n",
       "      <td>0.00</td>\n",
       "      <td>2</td>\n",
       "      <td>0</td>\n",
       "      <td>0</td>\n",
       "      <td>93826.63</td>\n",
       "      <td>0</td>\n",
       "    </tr>\n",
       "    <tr>\n",
       "      <th>4</th>\n",
       "      <td>5</td>\n",
       "      <td>15737888</td>\n",
       "      <td>Mitchell</td>\n",
       "      <td>850</td>\n",
       "      <td>Spain</td>\n",
       "      <td>Female</td>\n",
       "      <td>43</td>\n",
       "      <td>2.0</td>\n",
       "      <td>125510.82</td>\n",
       "      <td>1</td>\n",
       "      <td>1</td>\n",
       "      <td>1</td>\n",
       "      <td>79084.10</td>\n",
       "      <td>0</td>\n",
       "    </tr>\n",
       "  </tbody>\n",
       "</table>\n",
       "</div>"
      ],
      "text/plain": [
       "   RowNumber  CustomerId   Surname  CreditScore Geography  Gender  Age  \\\n",
       "0          1    15634602  Hargrave          619    France  Female   42   \n",
       "1          2    15647311      Hill          608     Spain  Female   41   \n",
       "2          3    15619304      Onio          502    France  Female   42   \n",
       "3          4    15701354      Boni          699    France  Female   39   \n",
       "4          5    15737888  Mitchell          850     Spain  Female   43   \n",
       "\n",
       "   Tenure    Balance  NumOfProducts  HasCrCard  IsActiveMember  \\\n",
       "0     2.0       0.00              1          1               1   \n",
       "1     1.0   83807.86              1          0               1   \n",
       "2     8.0  159660.80              3          1               0   \n",
       "3     1.0       0.00              2          0               0   \n",
       "4     2.0  125510.82              1          1               1   \n",
       "\n",
       "   EstimatedSalary  Exited  \n",
       "0        101348.88       1  \n",
       "1        112542.58       0  \n",
       "2        113931.57       1  \n",
       "3         93826.63       0  \n",
       "4         79084.10       0  "
      ]
     },
     "execution_count": 3,
     "metadata": {},
     "output_type": "execute_result"
    }
   ],
   "source": [
    "data.head()"
   ]
  },
  {
   "cell_type": "code",
   "execution_count": 4,
   "metadata": {
    "scrolled": false
   },
   "outputs": [
    {
     "data": {
      "text/plain": [
       "RowNumber            0\n",
       "CustomerId           0\n",
       "Surname              0\n",
       "CreditScore          0\n",
       "Geography            0\n",
       "Gender               0\n",
       "Age                  0\n",
       "Tenure             909\n",
       "Balance              0\n",
       "NumOfProducts        0\n",
       "HasCrCard            0\n",
       "IsActiveMember       0\n",
       "EstimatedSalary      0\n",
       "Exited               0\n",
       "dtype: int64"
      ]
     },
     "execution_count": 4,
     "metadata": {},
     "output_type": "execute_result"
    }
   ],
   "source": [
    "data.isna().sum()"
   ]
  },
  {
   "cell_type": "markdown",
   "metadata": {},
   "source": [
    "да, так и есть, плюс названия требуют переименования"
   ]
  },
  {
   "cell_type": "code",
   "execution_count": 5,
   "metadata": {},
   "outputs": [
    {
     "data": {
      "text/plain": [
       "array([ 0.,  1.,  2.,  3.,  4.,  5.,  6.,  7.,  8.,  9., 10., nan])"
      ]
     },
     "execution_count": 5,
     "metadata": {},
     "output_type": "execute_result"
    }
   ],
   "source": [
    "data['Tenure'].sort_values().unique()"
   ]
  },
  {
   "cell_type": "markdown",
   "metadata": {},
   "source": [
    "выбивающихся цифр нет. скорее всего пропуски означают 0 лет, тем более, что такое значение имеется"
   ]
  },
  {
   "cell_type": "code",
   "execution_count": 6,
   "metadata": {},
   "outputs": [
    {
     "data": {
      "text/html": [
       "<div>\n",
       "<style scoped>\n",
       "    .dataframe tbody tr th:only-of-type {\n",
       "        vertical-align: middle;\n",
       "    }\n",
       "\n",
       "    .dataframe tbody tr th {\n",
       "        vertical-align: top;\n",
       "    }\n",
       "\n",
       "    .dataframe thead th {\n",
       "        text-align: right;\n",
       "    }\n",
       "</style>\n",
       "<table border=\"1\" class=\"dataframe\">\n",
       "  <thead>\n",
       "    <tr style=\"text-align: right;\">\n",
       "      <th></th>\n",
       "      <th>RowNumber</th>\n",
       "      <th>CustomerId</th>\n",
       "      <th>Surname</th>\n",
       "      <th>CreditScore</th>\n",
       "      <th>Geography</th>\n",
       "      <th>Gender</th>\n",
       "      <th>Age</th>\n",
       "      <th>Tenure</th>\n",
       "      <th>Balance</th>\n",
       "      <th>NumOfProducts</th>\n",
       "      <th>HasCrCard</th>\n",
       "      <th>IsActiveMember</th>\n",
       "      <th>EstimatedSalary</th>\n",
       "      <th>Exited</th>\n",
       "    </tr>\n",
       "  </thead>\n",
       "  <tbody>\n",
       "    <tr>\n",
       "      <th>30</th>\n",
       "      <td>31</td>\n",
       "      <td>15589475</td>\n",
       "      <td>Azikiwe</td>\n",
       "      <td>591</td>\n",
       "      <td>Spain</td>\n",
       "      <td>Female</td>\n",
       "      <td>39</td>\n",
       "      <td>NaN</td>\n",
       "      <td>0.00</td>\n",
       "      <td>3</td>\n",
       "      <td>1</td>\n",
       "      <td>0</td>\n",
       "      <td>140469.38</td>\n",
       "      <td>1</td>\n",
       "    </tr>\n",
       "    <tr>\n",
       "      <th>48</th>\n",
       "      <td>49</td>\n",
       "      <td>15766205</td>\n",
       "      <td>Yin</td>\n",
       "      <td>550</td>\n",
       "      <td>Germany</td>\n",
       "      <td>Male</td>\n",
       "      <td>38</td>\n",
       "      <td>NaN</td>\n",
       "      <td>103391.38</td>\n",
       "      <td>1</td>\n",
       "      <td>0</td>\n",
       "      <td>1</td>\n",
       "      <td>90878.13</td>\n",
       "      <td>0</td>\n",
       "    </tr>\n",
       "    <tr>\n",
       "      <th>51</th>\n",
       "      <td>52</td>\n",
       "      <td>15768193</td>\n",
       "      <td>Trevisani</td>\n",
       "      <td>585</td>\n",
       "      <td>Germany</td>\n",
       "      <td>Male</td>\n",
       "      <td>36</td>\n",
       "      <td>NaN</td>\n",
       "      <td>146050.97</td>\n",
       "      <td>2</td>\n",
       "      <td>0</td>\n",
       "      <td>0</td>\n",
       "      <td>86424.57</td>\n",
       "      <td>0</td>\n",
       "    </tr>\n",
       "    <tr>\n",
       "      <th>53</th>\n",
       "      <td>54</td>\n",
       "      <td>15702298</td>\n",
       "      <td>Parkhill</td>\n",
       "      <td>655</td>\n",
       "      <td>Germany</td>\n",
       "      <td>Male</td>\n",
       "      <td>41</td>\n",
       "      <td>NaN</td>\n",
       "      <td>125561.97</td>\n",
       "      <td>1</td>\n",
       "      <td>0</td>\n",
       "      <td>0</td>\n",
       "      <td>164040.94</td>\n",
       "      <td>1</td>\n",
       "    </tr>\n",
       "    <tr>\n",
       "      <th>60</th>\n",
       "      <td>61</td>\n",
       "      <td>15651280</td>\n",
       "      <td>Hunter</td>\n",
       "      <td>742</td>\n",
       "      <td>Germany</td>\n",
       "      <td>Male</td>\n",
       "      <td>35</td>\n",
       "      <td>NaN</td>\n",
       "      <td>136857.00</td>\n",
       "      <td>1</td>\n",
       "      <td>0</td>\n",
       "      <td>0</td>\n",
       "      <td>84509.57</td>\n",
       "      <td>0</td>\n",
       "    </tr>\n",
       "    <tr>\n",
       "      <th>82</th>\n",
       "      <td>83</td>\n",
       "      <td>15641732</td>\n",
       "      <td>Mills</td>\n",
       "      <td>543</td>\n",
       "      <td>France</td>\n",
       "      <td>Female</td>\n",
       "      <td>36</td>\n",
       "      <td>NaN</td>\n",
       "      <td>0.00</td>\n",
       "      <td>2</td>\n",
       "      <td>0</td>\n",
       "      <td>0</td>\n",
       "      <td>26019.59</td>\n",
       "      <td>0</td>\n",
       "    </tr>\n",
       "    <tr>\n",
       "      <th>85</th>\n",
       "      <td>86</td>\n",
       "      <td>15805254</td>\n",
       "      <td>Ndukaku</td>\n",
       "      <td>652</td>\n",
       "      <td>Spain</td>\n",
       "      <td>Female</td>\n",
       "      <td>75</td>\n",
       "      <td>NaN</td>\n",
       "      <td>0.00</td>\n",
       "      <td>2</td>\n",
       "      <td>1</td>\n",
       "      <td>1</td>\n",
       "      <td>114675.75</td>\n",
       "      <td>0</td>\n",
       "    </tr>\n",
       "    <tr>\n",
       "      <th>94</th>\n",
       "      <td>95</td>\n",
       "      <td>15676966</td>\n",
       "      <td>Capon</td>\n",
       "      <td>730</td>\n",
       "      <td>Spain</td>\n",
       "      <td>Male</td>\n",
       "      <td>42</td>\n",
       "      <td>NaN</td>\n",
       "      <td>0.00</td>\n",
       "      <td>2</td>\n",
       "      <td>0</td>\n",
       "      <td>1</td>\n",
       "      <td>85982.47</td>\n",
       "      <td>0</td>\n",
       "    </tr>\n",
       "    <tr>\n",
       "      <th>99</th>\n",
       "      <td>100</td>\n",
       "      <td>15633059</td>\n",
       "      <td>Fanucci</td>\n",
       "      <td>413</td>\n",
       "      <td>France</td>\n",
       "      <td>Male</td>\n",
       "      <td>34</td>\n",
       "      <td>NaN</td>\n",
       "      <td>0.00</td>\n",
       "      <td>2</td>\n",
       "      <td>0</td>\n",
       "      <td>0</td>\n",
       "      <td>6534.18</td>\n",
       "      <td>0</td>\n",
       "    </tr>\n",
       "    <tr>\n",
       "      <th>111</th>\n",
       "      <td>112</td>\n",
       "      <td>15665790</td>\n",
       "      <td>Rowntree</td>\n",
       "      <td>538</td>\n",
       "      <td>Germany</td>\n",
       "      <td>Male</td>\n",
       "      <td>39</td>\n",
       "      <td>NaN</td>\n",
       "      <td>108055.10</td>\n",
       "      <td>2</td>\n",
       "      <td>1</td>\n",
       "      <td>0</td>\n",
       "      <td>27231.26</td>\n",
       "      <td>0</td>\n",
       "    </tr>\n",
       "  </tbody>\n",
       "</table>\n",
       "</div>"
      ],
      "text/plain": [
       "     RowNumber  CustomerId    Surname  CreditScore Geography  Gender  Age  \\\n",
       "30          31    15589475    Azikiwe          591     Spain  Female   39   \n",
       "48          49    15766205        Yin          550   Germany    Male   38   \n",
       "51          52    15768193  Trevisani          585   Germany    Male   36   \n",
       "53          54    15702298   Parkhill          655   Germany    Male   41   \n",
       "60          61    15651280     Hunter          742   Germany    Male   35   \n",
       "82          83    15641732      Mills          543    France  Female   36   \n",
       "85          86    15805254    Ndukaku          652     Spain  Female   75   \n",
       "94          95    15676966      Capon          730     Spain    Male   42   \n",
       "99         100    15633059    Fanucci          413    France    Male   34   \n",
       "111        112    15665790   Rowntree          538   Germany    Male   39   \n",
       "\n",
       "     Tenure    Balance  NumOfProducts  HasCrCard  IsActiveMember  \\\n",
       "30      NaN       0.00              3          1               0   \n",
       "48      NaN  103391.38              1          0               1   \n",
       "51      NaN  146050.97              2          0               0   \n",
       "53      NaN  125561.97              1          0               0   \n",
       "60      NaN  136857.00              1          0               0   \n",
       "82      NaN       0.00              2          0               0   \n",
       "85      NaN       0.00              2          1               1   \n",
       "94      NaN       0.00              2          0               1   \n",
       "99      NaN       0.00              2          0               0   \n",
       "111     NaN  108055.10              2          1               0   \n",
       "\n",
       "     EstimatedSalary  Exited  \n",
       "30         140469.38       1  \n",
       "48          90878.13       0  \n",
       "51          86424.57       0  \n",
       "53         164040.94       1  \n",
       "60          84509.57       0  \n",
       "82          26019.59       0  \n",
       "85         114675.75       0  \n",
       "94          85982.47       0  \n",
       "99           6534.18       0  \n",
       "111         27231.26       0  "
      ]
     },
     "execution_count": 6,
     "metadata": {},
     "output_type": "execute_result"
    }
   ],
   "source": [
    "data[data['Tenure'].isna()].head(10)"
   ]
  },
  {
   "cell_type": "markdown",
   "metadata": {},
   "source": [
    "в целом, все остальные данные нормальные (во всяком случае, в первых 10 строчках с пропусками), так что просто заменим пропуски на 0"
   ]
  },
  {
   "cell_type": "code",
   "execution_count": 7,
   "metadata": {
    "scrolled": true
   },
   "outputs": [
    {
     "data": {
      "text/html": [
       "<div>\n",
       "<style scoped>\n",
       "    .dataframe tbody tr th:only-of-type {\n",
       "        vertical-align: middle;\n",
       "    }\n",
       "\n",
       "    .dataframe tbody tr th {\n",
       "        vertical-align: top;\n",
       "    }\n",
       "\n",
       "    .dataframe thead th {\n",
       "        text-align: right;\n",
       "    }\n",
       "</style>\n",
       "<table border=\"1\" class=\"dataframe\">\n",
       "  <thead>\n",
       "    <tr style=\"text-align: right;\">\n",
       "      <th></th>\n",
       "      <th>RowNumber</th>\n",
       "      <th>CustomerId</th>\n",
       "      <th>Surname</th>\n",
       "      <th>CreditScore</th>\n",
       "      <th>Geography</th>\n",
       "      <th>Gender</th>\n",
       "      <th>Age</th>\n",
       "      <th>Tenure</th>\n",
       "      <th>Balance</th>\n",
       "      <th>NumOfProducts</th>\n",
       "      <th>HasCrCard</th>\n",
       "      <th>IsActiveMember</th>\n",
       "      <th>EstimatedSalary</th>\n",
       "      <th>Exited</th>\n",
       "    </tr>\n",
       "  </thead>\n",
       "  <tbody>\n",
       "    <tr>\n",
       "      <th>29</th>\n",
       "      <td>30</td>\n",
       "      <td>15656300</td>\n",
       "      <td>Lucciano</td>\n",
       "      <td>411</td>\n",
       "      <td>France</td>\n",
       "      <td>Male</td>\n",
       "      <td>29</td>\n",
       "      <td>0.0</td>\n",
       "      <td>59697.17</td>\n",
       "      <td>2</td>\n",
       "      <td>1</td>\n",
       "      <td>1</td>\n",
       "      <td>53483.21</td>\n",
       "      <td>0</td>\n",
       "    </tr>\n",
       "    <tr>\n",
       "      <th>35</th>\n",
       "      <td>36</td>\n",
       "      <td>15794171</td>\n",
       "      <td>Lombardo</td>\n",
       "      <td>475</td>\n",
       "      <td>France</td>\n",
       "      <td>Female</td>\n",
       "      <td>45</td>\n",
       "      <td>0.0</td>\n",
       "      <td>134264.04</td>\n",
       "      <td>1</td>\n",
       "      <td>1</td>\n",
       "      <td>0</td>\n",
       "      <td>27822.99</td>\n",
       "      <td>1</td>\n",
       "    </tr>\n",
       "    <tr>\n",
       "      <th>57</th>\n",
       "      <td>58</td>\n",
       "      <td>15647091</td>\n",
       "      <td>Endrizzi</td>\n",
       "      <td>725</td>\n",
       "      <td>Germany</td>\n",
       "      <td>Male</td>\n",
       "      <td>19</td>\n",
       "      <td>0.0</td>\n",
       "      <td>75888.20</td>\n",
       "      <td>1</td>\n",
       "      <td>0</td>\n",
       "      <td>0</td>\n",
       "      <td>45613.75</td>\n",
       "      <td>0</td>\n",
       "    </tr>\n",
       "    <tr>\n",
       "      <th>72</th>\n",
       "      <td>73</td>\n",
       "      <td>15812518</td>\n",
       "      <td>Palermo</td>\n",
       "      <td>657</td>\n",
       "      <td>Spain</td>\n",
       "      <td>Female</td>\n",
       "      <td>37</td>\n",
       "      <td>0.0</td>\n",
       "      <td>163607.18</td>\n",
       "      <td>1</td>\n",
       "      <td>0</td>\n",
       "      <td>1</td>\n",
       "      <td>44203.55</td>\n",
       "      <td>0</td>\n",
       "    </tr>\n",
       "    <tr>\n",
       "      <th>127</th>\n",
       "      <td>128</td>\n",
       "      <td>15782688</td>\n",
       "      <td>Piccio</td>\n",
       "      <td>625</td>\n",
       "      <td>Germany</td>\n",
       "      <td>Male</td>\n",
       "      <td>56</td>\n",
       "      <td>0.0</td>\n",
       "      <td>148507.24</td>\n",
       "      <td>1</td>\n",
       "      <td>1</td>\n",
       "      <td>0</td>\n",
       "      <td>46824.08</td>\n",
       "      <td>1</td>\n",
       "    </tr>\n",
       "    <tr>\n",
       "      <th>149</th>\n",
       "      <td>150</td>\n",
       "      <td>15794413</td>\n",
       "      <td>Harris</td>\n",
       "      <td>416</td>\n",
       "      <td>France</td>\n",
       "      <td>Male</td>\n",
       "      <td>32</td>\n",
       "      <td>0.0</td>\n",
       "      <td>0.00</td>\n",
       "      <td>2</td>\n",
       "      <td>0</td>\n",
       "      <td>1</td>\n",
       "      <td>878.87</td>\n",
       "      <td>0</td>\n",
       "    </tr>\n",
       "    <tr>\n",
       "      <th>164</th>\n",
       "      <td>165</td>\n",
       "      <td>15658929</td>\n",
       "      <td>Taverner</td>\n",
       "      <td>683</td>\n",
       "      <td>Spain</td>\n",
       "      <td>Male</td>\n",
       "      <td>29</td>\n",
       "      <td>0.0</td>\n",
       "      <td>133702.89</td>\n",
       "      <td>1</td>\n",
       "      <td>1</td>\n",
       "      <td>0</td>\n",
       "      <td>55582.54</td>\n",
       "      <td>1</td>\n",
       "    </tr>\n",
       "    <tr>\n",
       "      <th>176</th>\n",
       "      <td>177</td>\n",
       "      <td>15645248</td>\n",
       "      <td>Ho</td>\n",
       "      <td>510</td>\n",
       "      <td>France</td>\n",
       "      <td>Female</td>\n",
       "      <td>30</td>\n",
       "      <td>0.0</td>\n",
       "      <td>0.00</td>\n",
       "      <td>2</td>\n",
       "      <td>1</td>\n",
       "      <td>1</td>\n",
       "      <td>130553.47</td>\n",
       "      <td>0</td>\n",
       "    </tr>\n",
       "    <tr>\n",
       "      <th>187</th>\n",
       "      <td>188</td>\n",
       "      <td>15708710</td>\n",
       "      <td>Ford</td>\n",
       "      <td>525</td>\n",
       "      <td>Spain</td>\n",
       "      <td>Female</td>\n",
       "      <td>37</td>\n",
       "      <td>0.0</td>\n",
       "      <td>0.00</td>\n",
       "      <td>1</td>\n",
       "      <td>0</td>\n",
       "      <td>1</td>\n",
       "      <td>131521.72</td>\n",
       "      <td>0</td>\n",
       "    </tr>\n",
       "    <tr>\n",
       "      <th>231</th>\n",
       "      <td>232</td>\n",
       "      <td>15627000</td>\n",
       "      <td>Freeman</td>\n",
       "      <td>610</td>\n",
       "      <td>France</td>\n",
       "      <td>Male</td>\n",
       "      <td>40</td>\n",
       "      <td>0.0</td>\n",
       "      <td>0.00</td>\n",
       "      <td>2</td>\n",
       "      <td>1</td>\n",
       "      <td>0</td>\n",
       "      <td>62232.60</td>\n",
       "      <td>0</td>\n",
       "    </tr>\n",
       "  </tbody>\n",
       "</table>\n",
       "</div>"
      ],
      "text/plain": [
       "     RowNumber  CustomerId   Surname  CreditScore Geography  Gender  Age  \\\n",
       "29          30    15656300  Lucciano          411    France    Male   29   \n",
       "35          36    15794171  Lombardo          475    France  Female   45   \n",
       "57          58    15647091  Endrizzi          725   Germany    Male   19   \n",
       "72          73    15812518   Palermo          657     Spain  Female   37   \n",
       "127        128    15782688    Piccio          625   Germany    Male   56   \n",
       "149        150    15794413    Harris          416    France    Male   32   \n",
       "164        165    15658929  Taverner          683     Spain    Male   29   \n",
       "176        177    15645248        Ho          510    France  Female   30   \n",
       "187        188    15708710      Ford          525     Spain  Female   37   \n",
       "231        232    15627000   Freeman          610    France    Male   40   \n",
       "\n",
       "     Tenure    Balance  NumOfProducts  HasCrCard  IsActiveMember  \\\n",
       "29      0.0   59697.17              2          1               1   \n",
       "35      0.0  134264.04              1          1               0   \n",
       "57      0.0   75888.20              1          0               0   \n",
       "72      0.0  163607.18              1          0               1   \n",
       "127     0.0  148507.24              1          1               0   \n",
       "149     0.0       0.00              2          0               1   \n",
       "164     0.0  133702.89              1          1               0   \n",
       "176     0.0       0.00              2          1               1   \n",
       "187     0.0       0.00              1          0               1   \n",
       "231     0.0       0.00              2          1               0   \n",
       "\n",
       "     EstimatedSalary  Exited  \n",
       "29          53483.21       0  \n",
       "35          27822.99       1  \n",
       "57          45613.75       0  \n",
       "72          44203.55       0  \n",
       "127         46824.08       1  \n",
       "149           878.87       0  \n",
       "164         55582.54       1  \n",
       "176        130553.47       0  \n",
       "187        131521.72       0  \n",
       "231         62232.60       0  "
      ]
     },
     "execution_count": 7,
     "metadata": {},
     "output_type": "execute_result"
    }
   ],
   "source": [
    "data[data['Tenure'] == 0].head(10)"
   ]
  },
  {
   "cell_type": "markdown",
   "metadata": {},
   "source": [
    "сделал лишнюю проверку, посмотрел на строки с клиентами, которые меньше года. в целом, такие же, как и с пропусками. можно было бы, конечно, просто удалить, но люблю драться за каждый пропуск"
   ]
  },
  {
   "cell_type": "code",
   "execution_count": 8,
   "metadata": {
    "scrolled": true
   },
   "outputs": [
    {
     "data": {
      "text/plain": [
       "RowNumber          0\n",
       "CustomerId         0\n",
       "Surname            0\n",
       "CreditScore        0\n",
       "Geography          0\n",
       "Gender             0\n",
       "Age                0\n",
       "Tenure             0\n",
       "Balance            0\n",
       "NumOfProducts      0\n",
       "HasCrCard          0\n",
       "IsActiveMember     0\n",
       "EstimatedSalary    0\n",
       "Exited             0\n",
       "dtype: int64"
      ]
     },
     "execution_count": 8,
     "metadata": {},
     "output_type": "execute_result"
    }
   ],
   "source": [
    "data = data.fillna(0)\n",
    "data.isna().sum()"
   ]
  },
  {
   "cell_type": "markdown",
   "metadata": {},
   "source": [
    "пропусков нет. быстро пробежимся по тем столбцам, где может быть что-то не то, а именно: Age и Gender"
   ]
  },
  {
   "cell_type": "code",
   "execution_count": 9,
   "metadata": {
    "scrolled": true
   },
   "outputs": [
    {
     "data": {
      "text/plain": [
       "array([18, 19, 20, 21, 22, 23, 24, 25, 26, 27, 28, 29, 30, 31, 32, 33, 34,\n",
       "       35, 36, 37, 38, 39, 40, 41, 42, 43, 44, 45, 46, 47, 48, 49, 50, 51,\n",
       "       52, 53, 54, 55, 56, 57, 58, 59, 60, 61, 62, 63, 64, 65, 66, 67, 68,\n",
       "       69, 70, 71, 72, 73, 74, 75, 76, 77, 78, 79, 80, 81, 82, 83, 84, 85,\n",
       "       88, 92])"
      ]
     },
     "execution_count": 9,
     "metadata": {},
     "output_type": "execute_result"
    }
   ],
   "source": [
    "data['Age'].sort_values().unique()"
   ]
  },
  {
   "cell_type": "markdown",
   "metadata": {},
   "source": [
    "в целом, нормально - минимальный возраст 18, максимальный 92 (надеюсь, что он не ипотеку до сих пор выплачивает)"
   ]
  },
  {
   "cell_type": "code",
   "execution_count": 10,
   "metadata": {
    "scrolled": true
   },
   "outputs": [
    {
     "data": {
      "text/plain": [
       "array(['Female', 'Male'], dtype=object)"
      ]
     },
     "execution_count": 10,
     "metadata": {},
     "output_type": "execute_result"
    }
   ],
   "source": [
    "data['Gender'].unique()"
   ]
  },
  {
   "cell_type": "markdown",
   "metadata": {},
   "source": [
    "да, тоже всего два гендера, хотя в наших реалиях их могло бы быть и больше 40"
   ]
  },
  {
   "cell_type": "code",
   "execution_count": 11,
   "metadata": {},
   "outputs": [
    {
     "data": {
      "text/plain": [
       "0"
      ]
     },
     "execution_count": 11,
     "metadata": {},
     "output_type": "execute_result"
    }
   ],
   "source": [
    "data.duplicated().sum()"
   ]
  },
  {
   "cell_type": "markdown",
   "metadata": {},
   "source": [
    "также глянем дубликаты в CustomerId"
   ]
  },
  {
   "cell_type": "code",
   "execution_count": 12,
   "metadata": {
    "scrolled": true
   },
   "outputs": [
    {
     "data": {
      "text/plain": [
       "0"
      ]
     },
     "execution_count": 12,
     "metadata": {},
     "output_type": "execute_result"
    }
   ],
   "source": [
    "data['CustomerId'].duplicated().sum()"
   ]
  },
  {
   "cell_type": "markdown",
   "metadata": {},
   "source": [
    "теперь можно и переименовывать"
   ]
  },
  {
   "cell_type": "code",
   "execution_count": 13,
   "metadata": {
    "scrolled": true
   },
   "outputs": [
    {
     "data": {
      "text/plain": [
       "Index(['RowNumber', 'CustomerId', 'Surname', 'CreditScore', 'Geography',\n",
       "       'Gender', 'Age', 'Tenure', 'Balance', 'NumOfProducts', 'HasCrCard',\n",
       "       'IsActiveMember', 'EstimatedSalary', 'Exited'],\n",
       "      dtype='object')"
      ]
     },
     "execution_count": 13,
     "metadata": {},
     "output_type": "execute_result"
    }
   ],
   "source": [
    "data.columns"
   ]
  },
  {
   "cell_type": "code",
   "execution_count": 14,
   "metadata": {},
   "outputs": [],
   "source": [
    "data = data.rename(columns={'RowNumber':'Row_Number', 'CustomerId':'Customer_Id', 'CreditScore':'Credit_Score',\n",
    "       'NumOfProducts':'Num_Of_Products', 'HasCrCard':'Has_Cr_Card',\n",
    "       'IsActiveMember':'Is_Active_Member', 'EstimatedSalary':'Estimated_Salary'})"
   ]
  },
  {
   "cell_type": "code",
   "execution_count": 15,
   "metadata": {},
   "outputs": [
    {
     "data": {
      "text/plain": [
       "Index(['Row_Number', 'Customer_Id', 'Surname', 'Credit_Score', 'Geography',\n",
       "       'Gender', 'Age', 'Tenure', 'Balance', 'Num_Of_Products', 'Has_Cr_Card',\n",
       "       'Is_Active_Member', 'Estimated_Salary', 'Exited'],\n",
       "      dtype='object')"
      ]
     },
     "execution_count": 15,
     "metadata": {},
     "output_type": "execute_result"
    }
   ],
   "source": [
    "data.columns"
   ]
  },
  {
   "cell_type": "code",
   "execution_count": 16,
   "metadata": {},
   "outputs": [],
   "source": [
    "data.drop(['Surname', 'Customer_Id', 'Row_Number'],axis=1,inplace =True)"
   ]
  },
  {
   "cell_type": "markdown",
   "metadata": {},
   "source": [
    "удалили столбцы Surname, Customer_Id и Row_Number, поскольку они будут мешать применению методов"
   ]
  },
  {
   "cell_type": "code",
   "execution_count": 17,
   "metadata": {},
   "outputs": [
    {
     "data": {
      "text/plain": [
       "(10000, 12)"
      ]
     },
     "execution_count": 17,
     "metadata": {},
     "output_type": "execute_result"
    }
   ],
   "source": [
    "data_ohe = pd.get_dummies(data, drop_first=True)\n",
    "data_ohe.shape"
   ]
  },
  {
   "cell_type": "markdown",
   "metadata": {},
   "source": [
    "Дабы не попасть в дамми-ловушку, преобразовали столбцы Geography и Gender техникой OHE"
   ]
  },
  {
   "cell_type": "code",
   "execution_count": 18,
   "metadata": {
    "scrolled": true
   },
   "outputs": [
    {
     "data": {
      "text/html": [
       "<div>\n",
       "<style scoped>\n",
       "    .dataframe tbody tr th:only-of-type {\n",
       "        vertical-align: middle;\n",
       "    }\n",
       "\n",
       "    .dataframe tbody tr th {\n",
       "        vertical-align: top;\n",
       "    }\n",
       "\n",
       "    .dataframe thead th {\n",
       "        text-align: right;\n",
       "    }\n",
       "</style>\n",
       "<table border=\"1\" class=\"dataframe\">\n",
       "  <thead>\n",
       "    <tr style=\"text-align: right;\">\n",
       "      <th></th>\n",
       "      <th>Credit_Score</th>\n",
       "      <th>Age</th>\n",
       "      <th>Tenure</th>\n",
       "      <th>Balance</th>\n",
       "      <th>Num_Of_Products</th>\n",
       "      <th>Has_Cr_Card</th>\n",
       "      <th>Is_Active_Member</th>\n",
       "      <th>Estimated_Salary</th>\n",
       "      <th>Exited</th>\n",
       "      <th>Geography_Germany</th>\n",
       "      <th>Geography_Spain</th>\n",
       "      <th>Gender_Male</th>\n",
       "    </tr>\n",
       "  </thead>\n",
       "  <tbody>\n",
       "    <tr>\n",
       "      <th>0</th>\n",
       "      <td>619</td>\n",
       "      <td>42</td>\n",
       "      <td>2.0</td>\n",
       "      <td>0.00</td>\n",
       "      <td>1</td>\n",
       "      <td>1</td>\n",
       "      <td>1</td>\n",
       "      <td>101348.88</td>\n",
       "      <td>1</td>\n",
       "      <td>0</td>\n",
       "      <td>0</td>\n",
       "      <td>0</td>\n",
       "    </tr>\n",
       "    <tr>\n",
       "      <th>1</th>\n",
       "      <td>608</td>\n",
       "      <td>41</td>\n",
       "      <td>1.0</td>\n",
       "      <td>83807.86</td>\n",
       "      <td>1</td>\n",
       "      <td>0</td>\n",
       "      <td>1</td>\n",
       "      <td>112542.58</td>\n",
       "      <td>0</td>\n",
       "      <td>0</td>\n",
       "      <td>1</td>\n",
       "      <td>0</td>\n",
       "    </tr>\n",
       "    <tr>\n",
       "      <th>2</th>\n",
       "      <td>502</td>\n",
       "      <td>42</td>\n",
       "      <td>8.0</td>\n",
       "      <td>159660.80</td>\n",
       "      <td>3</td>\n",
       "      <td>1</td>\n",
       "      <td>0</td>\n",
       "      <td>113931.57</td>\n",
       "      <td>1</td>\n",
       "      <td>0</td>\n",
       "      <td>0</td>\n",
       "      <td>0</td>\n",
       "    </tr>\n",
       "    <tr>\n",
       "      <th>3</th>\n",
       "      <td>699</td>\n",
       "      <td>39</td>\n",
       "      <td>1.0</td>\n",
       "      <td>0.00</td>\n",
       "      <td>2</td>\n",
       "      <td>0</td>\n",
       "      <td>0</td>\n",
       "      <td>93826.63</td>\n",
       "      <td>0</td>\n",
       "      <td>0</td>\n",
       "      <td>0</td>\n",
       "      <td>0</td>\n",
       "    </tr>\n",
       "    <tr>\n",
       "      <th>4</th>\n",
       "      <td>850</td>\n",
       "      <td>43</td>\n",
       "      <td>2.0</td>\n",
       "      <td>125510.82</td>\n",
       "      <td>1</td>\n",
       "      <td>1</td>\n",
       "      <td>1</td>\n",
       "      <td>79084.10</td>\n",
       "      <td>0</td>\n",
       "      <td>0</td>\n",
       "      <td>1</td>\n",
       "      <td>0</td>\n",
       "    </tr>\n",
       "  </tbody>\n",
       "</table>\n",
       "</div>"
      ],
      "text/plain": [
       "   Credit_Score  Age  Tenure    Balance  Num_Of_Products  Has_Cr_Card  \\\n",
       "0           619   42     2.0       0.00                1            1   \n",
       "1           608   41     1.0   83807.86                1            0   \n",
       "2           502   42     8.0  159660.80                3            1   \n",
       "3           699   39     1.0       0.00                2            0   \n",
       "4           850   43     2.0  125510.82                1            1   \n",
       "\n",
       "   Is_Active_Member  Estimated_Salary  Exited  Geography_Germany  \\\n",
       "0                 1         101348.88       1                  0   \n",
       "1                 1         112542.58       0                  0   \n",
       "2                 0         113931.57       1                  0   \n",
       "3                 0          93826.63       0                  0   \n",
       "4                 1          79084.10       0                  0   \n",
       "\n",
       "   Geography_Spain  Gender_Male  \n",
       "0                0            0  \n",
       "1                1            0  \n",
       "2                0            0  \n",
       "3                0            0  \n",
       "4                1            0  "
      ]
     },
     "execution_count": 18,
     "metadata": {},
     "output_type": "execute_result"
    }
   ],
   "source": [
    "data_ohe.head()"
   ]
  },
  {
   "cell_type": "markdown",
   "metadata": {},
   "source": [
    "###### Вывод\n",
    "\n",
    "В исследуемом файле были обнаружены пропуски в столбце \"Tenure\", которые решено было заменить на нулевые значения. В остальных столбцах пропусков, равно, как и дубликатов обнаружено не было. Все столбцы имели соответствующий тип данных. Столбцы были переименованы в соттветствии с т.н. \"змеиным регистром\". Столбцы \"Surname\", \"Customer_Id\" и \"Row_Number\" были удалены, поскольку для конкрентной задачи они не требовались, но повлияли бы на исходные результаты. Другие нечисловые столбцы (\"Geography\" и \"Gender\") преобразовали техникой OHE. Таким образом, новый DataFrame полностью готов к дальнейшей работе "
   ]
  },
  {
   "cell_type": "markdown",
   "metadata": {},
   "source": [
    "## Исследование задачи"
   ]
  },
  {
   "cell_type": "code",
   "execution_count": 19,
   "metadata": {
    "scrolled": true
   },
   "outputs": [
    {
     "data": {
      "text/plain": [
       "[5000, 2500, 2500]"
      ]
     },
     "execution_count": 19,
     "metadata": {},
     "output_type": "execute_result"
    }
   ],
   "source": [
    "data_ohe_train, data_ohe_valid, data_ohe_test = np.split(data_ohe.sample(frac=1, random_state=12345), [int(.5*len(data_ohe)), int(.75*len(data_ohe))])\n",
    "[len(data_ohe_train), len(data_ohe_valid), len(data_ohe_test)]"
   ]
  },
  {
   "cell_type": "markdown",
   "metadata": {},
   "source": [
    "Разбили данные на выборки. На обучающую - 50%, на валидационную - 25%, на тестовую - 25%"
   ]
  },
  {
   "cell_type": "code",
   "execution_count": 20,
   "metadata": {
    "scrolled": true
   },
   "outputs": [
    {
     "data": {
      "text/plain": [
       "((5000, 12), (2500, 12), (2500, 12))"
      ]
     },
     "execution_count": 20,
     "metadata": {},
     "output_type": "execute_result"
    }
   ],
   "source": [
    "data_ohe_train.shape, data_ohe_valid.shape, data_ohe_test.shape"
   ]
  },
  {
   "cell_type": "code",
   "execution_count": 21,
   "metadata": {},
   "outputs": [
    {
     "data": {
      "text/html": [
       "<div>\n",
       "<style scoped>\n",
       "    .dataframe tbody tr th:only-of-type {\n",
       "        vertical-align: middle;\n",
       "    }\n",
       "\n",
       "    .dataframe tbody tr th {\n",
       "        vertical-align: top;\n",
       "    }\n",
       "\n",
       "    .dataframe thead th {\n",
       "        text-align: right;\n",
       "    }\n",
       "</style>\n",
       "<table border=\"1\" class=\"dataframe\">\n",
       "  <thead>\n",
       "    <tr style=\"text-align: right;\">\n",
       "      <th></th>\n",
       "      <th>Credit_Score</th>\n",
       "      <th>Age</th>\n",
       "      <th>Tenure</th>\n",
       "      <th>Balance</th>\n",
       "      <th>Num_Of_Products</th>\n",
       "      <th>Has_Cr_Card</th>\n",
       "      <th>Is_Active_Member</th>\n",
       "      <th>Estimated_Salary</th>\n",
       "      <th>Exited</th>\n",
       "      <th>Geography_Germany</th>\n",
       "      <th>Geography_Spain</th>\n",
       "      <th>Gender_Male</th>\n",
       "    </tr>\n",
       "  </thead>\n",
       "  <tbody>\n",
       "    <tr>\n",
       "      <th>7867</th>\n",
       "      <td>640</td>\n",
       "      <td>46</td>\n",
       "      <td>3.0</td>\n",
       "      <td>0.00</td>\n",
       "      <td>1</td>\n",
       "      <td>1</td>\n",
       "      <td>1</td>\n",
       "      <td>156260.08</td>\n",
       "      <td>0</td>\n",
       "      <td>0</td>\n",
       "      <td>1</td>\n",
       "      <td>0</td>\n",
       "    </tr>\n",
       "    <tr>\n",
       "      <th>1402</th>\n",
       "      <td>757</td>\n",
       "      <td>29</td>\n",
       "      <td>8.0</td>\n",
       "      <td>130306.49</td>\n",
       "      <td>1</td>\n",
       "      <td>1</td>\n",
       "      <td>0</td>\n",
       "      <td>77469.38</td>\n",
       "      <td>0</td>\n",
       "      <td>0</td>\n",
       "      <td>0</td>\n",
       "      <td>1</td>\n",
       "    </tr>\n",
       "    <tr>\n",
       "      <th>8606</th>\n",
       "      <td>807</td>\n",
       "      <td>42</td>\n",
       "      <td>5.0</td>\n",
       "      <td>0.00</td>\n",
       "      <td>2</td>\n",
       "      <td>1</td>\n",
       "      <td>1</td>\n",
       "      <td>74900.90</td>\n",
       "      <td>0</td>\n",
       "      <td>0</td>\n",
       "      <td>1</td>\n",
       "      <td>1</td>\n",
       "    </tr>\n",
       "    <tr>\n",
       "      <th>8885</th>\n",
       "      <td>668</td>\n",
       "      <td>45</td>\n",
       "      <td>4.0</td>\n",
       "      <td>102486.21</td>\n",
       "      <td>2</td>\n",
       "      <td>1</td>\n",
       "      <td>1</td>\n",
       "      <td>158379.25</td>\n",
       "      <td>0</td>\n",
       "      <td>0</td>\n",
       "      <td>1</td>\n",
       "      <td>1</td>\n",
       "    </tr>\n",
       "    <tr>\n",
       "      <th>6494</th>\n",
       "      <td>699</td>\n",
       "      <td>28</td>\n",
       "      <td>7.0</td>\n",
       "      <td>0.00</td>\n",
       "      <td>2</td>\n",
       "      <td>1</td>\n",
       "      <td>1</td>\n",
       "      <td>22684.78</td>\n",
       "      <td>0</td>\n",
       "      <td>0</td>\n",
       "      <td>0</td>\n",
       "      <td>1</td>\n",
       "    </tr>\n",
       "  </tbody>\n",
       "</table>\n",
       "</div>"
      ],
      "text/plain": [
       "      Credit_Score  Age  Tenure    Balance  Num_Of_Products  Has_Cr_Card  \\\n",
       "7867           640   46     3.0       0.00                1            1   \n",
       "1402           757   29     8.0  130306.49                1            1   \n",
       "8606           807   42     5.0       0.00                2            1   \n",
       "8885           668   45     4.0  102486.21                2            1   \n",
       "6494           699   28     7.0       0.00                2            1   \n",
       "\n",
       "      Is_Active_Member  Estimated_Salary  Exited  Geography_Germany  \\\n",
       "7867                 1         156260.08       0                  0   \n",
       "1402                 0          77469.38       0                  0   \n",
       "8606                 1          74900.90       0                  0   \n",
       "8885                 1         158379.25       0                  0   \n",
       "6494                 1          22684.78       0                  0   \n",
       "\n",
       "      Geography_Spain  Gender_Male  \n",
       "7867                1            0  \n",
       "1402                0            1  \n",
       "8606                1            1  \n",
       "8885                1            1  \n",
       "6494                0            1  "
      ]
     },
     "execution_count": 21,
     "metadata": {},
     "output_type": "execute_result"
    }
   ],
   "source": [
    "data_ohe_train.head()"
   ]
  },
  {
   "cell_type": "markdown",
   "metadata": {},
   "source": [
    "проверили по длине и размеру. всё разбилось нацело"
   ]
  },
  {
   "cell_type": "code",
   "execution_count": 22,
   "metadata": {},
   "outputs": [],
   "source": [
    "numeric = ['Credit_Score', 'Tenure', 'Age', 'Balance', 'Estimated_Salary']\n",
    "scaler = StandardScaler()\n",
    "features_train = data_ohe_train.drop(['Exited'], axis=1)\n",
    "features_valid = data_ohe_valid.drop(['Exited'], axis=1)\n",
    "features_test = data_ohe_test.drop(['Exited'], axis=1)\n",
    "target_train = data_ohe_train['Exited']\n",
    "target_valid = data_ohe_valid['Exited']\n",
    "target_test = data_ohe_test['Exited']\n",
    "scaler.fit(features_train[numeric])\n",
    "features_train[numeric] = scaler.transform(features_train[numeric])\n",
    "features_valid[numeric] = scaler.transform(features_valid[numeric])\n",
    "features_test[numeric] = scaler.transform(features_test[numeric])"
   ]
  },
  {
   "cell_type": "markdown",
   "metadata": {},
   "source": [
    "задали целевые признаки, подготовили данные и сразу же стандартизировали численные признаки"
   ]
  },
  {
   "cell_type": "code",
   "execution_count": 23,
   "metadata": {
    "scrolled": false
   },
   "outputs": [
    {
     "data": {
      "text/plain": [
       "0    0.7958\n",
       "1    0.2042\n",
       "Name: Exited, dtype: float64"
      ]
     },
     "execution_count": 23,
     "metadata": {},
     "output_type": "execute_result"
    }
   ],
   "source": [
    "target_train.value_counts(normalize=True)"
   ]
  },
  {
   "cell_type": "code",
   "execution_count": 24,
   "metadata": {},
   "outputs": [
    {
     "data": {
      "image/png": "[encoded data removed]",
      "text/plain": [
       "<Figure size 432x288 with 1 Axes>"
      ]
     },
     "metadata": {
      "needs_background": "light"
     },
     "output_type": "display_data"
    }
   ],
   "source": [
    "target_train.plot(kind='hist', )\n",
    "plt.title('баланс')\n",
    "plt.ylabel('True Positive Rate')\n",
    "\n",
    "plt.show()"
   ]
  },
  {
   "cell_type": "code",
   "execution_count": 25,
   "metadata": {
    "scrolled": true
   },
   "outputs": [
    {
     "data": {
      "text/plain": [
       "0    0.8112\n",
       "1    0.1888\n",
       "Name: Exited, dtype: float64"
      ]
     },
     "execution_count": 25,
     "metadata": {},
     "output_type": "execute_result"
    }
   ],
   "source": [
    "target_valid.value_counts(normalize=True)"
   ]
  },
  {
   "cell_type": "code",
   "execution_count": 26,
   "metadata": {},
   "outputs": [
    {
     "data": {
      "image/png": "[encoded data removed]",
      "text/plain": [
       "<Figure size 432x288 with 1 Axes>"
      ]
     },
     "metadata": {
      "needs_background": "light"
     },
     "output_type": "display_data"
    }
   ],
   "source": [
    "target_valid.plot(kind='hist', )\n",
    "plt.title('баланс')\n",
    "plt.ylabel('True Positive Rate')\n",
    "\n",
    "plt.show()"
   ]
  },
  {
   "cell_type": "code",
   "execution_count": 27,
   "metadata": {
    "scrolled": true
   },
   "outputs": [
    {
     "data": {
      "text/plain": [
       "0    0.7824\n",
       "1    0.2176\n",
       "Name: Exited, dtype: float64"
      ]
     },
     "execution_count": 27,
     "metadata": {},
     "output_type": "execute_result"
    }
   ],
   "source": [
    "target_test.value_counts(normalize=True)"
   ]
  },
  {
   "cell_type": "code",
   "execution_count": 28,
   "metadata": {},
   "outputs": [
    {
     "data": {
      "image/png": "[encoded data removed]",
      "text/plain": [
       "<Figure size 432x288 with 1 Axes>"
      ]
     },
     "metadata": {
      "needs_background": "light"
     },
     "output_type": "display_data"
    }
   ],
   "source": [
    "target_test.plot(kind='hist', )\n",
    "plt.title('баланс')\n",
    "plt.ylabel('True Positive Rate')\n",
    "\n",
    "plt.show()"
   ]
  },
  {
   "cell_type": "markdown",
   "metadata": {},
   "source": [
    "Баланс между положительными и отрицательными классами примерно 80:20, то есть, конечно же, классы не сбалансированы "
   ]
  },
  {
   "cell_type": "code",
   "execution_count": 29,
   "metadata": {},
   "outputs": [],
   "source": [
    "model_result = pd.DataFrame(columns=['model','F1', 'accuracy', 'auc_roc'])"
   ]
  },
  {
   "cell_type": "markdown",
   "metadata": {},
   "source": [
    "сделаем DataFrame для сбора данных, чтобы всё было наглядно в конце, а сейчас пройдёмся по моделям"
   ]
  },
  {
   "cell_type": "markdown",
   "metadata": {},
   "source": [
    "###### логиcтическая регрессия без учёта дисбаланса"
   ]
  },
  {
   "cell_type": "code",
   "execution_count": 30,
   "metadata": {},
   "outputs": [
    {
     "name": "stdout",
     "output_type": "stream",
     "text": [
      "Порог = 0.00 | Точность = 0.189, Полнота = 1.000\n",
      "Порог = 0.02 | Точность = 0.189, Полнота = 0.998\n",
      "Порог = 0.04 | Точность = 0.198, Полнота = 0.996\n",
      "Порог = 0.06 | Точность = 0.215, Полнота = 0.985\n",
      "Порог = 0.08 | Точность = 0.234, Полнота = 0.958\n",
      "Порог = 0.10 | Точность = 0.252, Полнота = 0.930\n",
      "Порог = 0.12 | Точность = 0.268, Полнота = 0.875\n",
      "Порог = 0.14 | Точность = 0.298, Полнота = 0.852\n",
      "Порог = 0.16 | Точность = 0.320, Полнота = 0.818\n",
      "Порог = 0.18 | Точность = 0.347, Полнота = 0.782\n",
      "Порог = 0.20 | Точность = 0.370, Полнота = 0.727\n",
      "Порог = 0.22 | Точность = 0.389, Полнота = 0.663\n",
      "Порог = 0.24 | Точность = 0.405, Полнота = 0.612\n",
      "Порог = 0.26 | Точность = 0.438, Полнота = 0.587\n",
      "Порог = 0.28 | Точность = 0.464, Полнота = 0.547\n",
      "Порог = 0.30 | Точность = 0.477, Полнота = 0.494\n",
      "Порог = 0.32 | Точность = 0.502, Полнота = 0.462\n",
      "Порог = 0.34 | Точность = 0.530, Полнота = 0.430\n",
      "Порог = 0.36 | Точность = 0.525, Полнота = 0.379\n",
      "Порог = 0.38 | Точность = 0.549, Полнота = 0.356\n",
      "Порог = 0.40 | Точность = 0.556, Полнота = 0.326\n",
      "Порог = 0.42 | Точность = 0.577, Полнота = 0.301\n",
      "Порог = 0.44 | Точность = 0.587, Полнота = 0.278\n",
      "Порог = 0.46 | Точность = 0.600, Полнота = 0.254\n",
      "Порог = 0.48 | Точность = 0.610, Полнота = 0.222\n",
      "Порог = 0.50 | Точность = 0.644, Полнота = 0.199\n",
      "Порог = 0.52 | Точность = 0.669, Полнота = 0.184\n",
      "Порог = 0.54 | Точность = 0.685, Полнота = 0.157\n",
      "Порог = 0.56 | Точность = 0.687, Полнота = 0.144\n",
      "Порог = 0.58 | Точность = 0.713, Полнота = 0.131\n",
      "Порог = 0.60 | Точность = 0.722, Полнота = 0.110\n",
      "Порог = 0.62 | Точность = 0.708, Полнота = 0.097\n",
      "Порог = 0.64 | Точность = 0.684, Полнота = 0.083\n",
      "Порог = 0.66 | Точность = 0.680, Полнота = 0.072\n",
      "Порог = 0.68 | Точность = 0.667, Полнота = 0.064\n",
      "Порог = 0.70 | Точность = 0.639, Полнота = 0.049\n",
      "Порог = 0.72 | Точность = 0.692, Полнота = 0.038\n",
      "Порог = 0.74 | Точность = 0.714, Полнота = 0.032\n",
      "Порог = 0.76 | Точность = 0.722, Полнота = 0.028\n",
      "Порог = 0.78 | Точность = 0.769, Полнота = 0.021\n",
      "Порог = 0.80 | Точность = 0.750, Полнота = 0.013\n",
      "Порог = 0.82 | Точность = 1.000, Полнота = 0.008\n",
      "Порог = 0.84 | Точность = 1.000, Полнота = 0.006\n",
      "Порог = 0.86 | Точность = 1.000, Полнота = 0.002\n",
      "Порог = 0.88 | Точность = 1.000, Полнота = 0.002\n",
      "\n",
      "F1: 0.304\n",
      "accuracy: 0.828\n",
      "auc_roc: 0.787\n",
      "\n",
      "баланс:  0    0.9416\n",
      "1    0.0584\n",
      "dtype: float64\n"
     ]
    }
   ],
   "source": [
    "model_logic = LogisticRegression(random_state=12345, solver='liblinear')\n",
    "model_logic.fit(features_train, target_train)\n",
    "predictions_logic = model_logic.predict(features_valid)\n",
    "probabilities_valid = model_logic.predict_proba(features_valid)\n",
    "probabilities_one_valid = probabilities_valid[:, 1]\n",
    "f1 = f1_score(target_valid, predictions_logic)\n",
    "accuracy = accuracy_score(target_valid, predictions_logic)   \n",
    "auc_roc = roc_auc_score(target_valid, probabilities_one_valid)\n",
    "\n",
    "for threshold in np.arange(0, 0.9, 0.02):\n",
    "    predicted_valid = probabilities_one_valid > threshold \n",
    "    precision = precision_score(target_valid, predicted_valid) \n",
    "    recall = recall_score(target_valid, predicted_valid) \n",
    "\n",
    "    print(\"Порог = {:.2f} | Точность = {:.3f}, Полнота = {:.3f}\".format(\n",
    "        threshold, precision, recall))\n",
    "print()\n",
    "print('F1: {:.3f}'.format(f1))\n",
    "print('accuracy: {:.3f}'.format(accuracy))\n",
    "print('auc_roc: {:.3f}'.format(auc_roc))\n",
    "print()\n",
    "print('баланс: ', pd.Series(predictions_logic).value_counts(normalize=True))\n",
    "new_row = pd.Series(data={'model': 'model_logic_without','F1': f1, 'accuracy':accuracy, 'auc_roc':auc_roc}) \n",
    "model_result = model_result.append(new_row,ignore_index=True)"
   ]
  },
  {
   "cell_type": "markdown",
   "metadata": {},
   "source": [
    "###### дерево решений без учёта дисбаланса"
   ]
  },
  {
   "cell_type": "code",
   "execution_count": 31,
   "metadata": {},
   "outputs": [
    {
     "name": "stdout",
     "output_type": "stream",
     "text": [
      "Порог = 0.00 | Точность = 0.458, Полнота = 0.498\n",
      "Порог = 0.02 | Точность = 0.458, Полнота = 0.498\n",
      "Порог = 0.04 | Точность = 0.458, Полнота = 0.498\n",
      "Порог = 0.06 | Точность = 0.458, Полнота = 0.498\n",
      "Порог = 0.08 | Точность = 0.458, Полнота = 0.498\n",
      "Порог = 0.10 | Точность = 0.458, Полнота = 0.498\n",
      "Порог = 0.12 | Точность = 0.458, Полнота = 0.498\n",
      "Порог = 0.14 | Точность = 0.458, Полнота = 0.498\n",
      "Порог = 0.16 | Точность = 0.458, Полнота = 0.498\n",
      "Порог = 0.18 | Точность = 0.458, Полнота = 0.498\n",
      "Порог = 0.20 | Точность = 0.458, Полнота = 0.498\n",
      "Порог = 0.22 | Точность = 0.458, Полнота = 0.498\n",
      "Порог = 0.24 | Точность = 0.458, Полнота = 0.498\n",
      "Порог = 0.26 | Точность = 0.458, Полнота = 0.498\n",
      "Порог = 0.28 | Точность = 0.458, Полнота = 0.498\n",
      "Порог = 0.30 | Точность = 0.458, Полнота = 0.498\n",
      "Порог = 0.32 | Точность = 0.458, Полнота = 0.498\n",
      "Порог = 0.34 | Точность = 0.458, Полнота = 0.498\n",
      "Порог = 0.36 | Точность = 0.458, Полнота = 0.498\n",
      "Порог = 0.38 | Точность = 0.458, Полнота = 0.498\n",
      "Порог = 0.40 | Точность = 0.458, Полнота = 0.498\n",
      "Порог = 0.42 | Точность = 0.458, Полнота = 0.498\n",
      "Порог = 0.44 | Точность = 0.458, Полнота = 0.498\n",
      "Порог = 0.46 | Точность = 0.458, Полнота = 0.498\n",
      "Порог = 0.48 | Точность = 0.458, Полнота = 0.498\n",
      "Порог = 0.50 | Точность = 0.458, Полнота = 0.498\n",
      "Порог = 0.52 | Точность = 0.458, Полнота = 0.498\n",
      "Порог = 0.54 | Точность = 0.458, Полнота = 0.498\n",
      "Порог = 0.56 | Точность = 0.458, Полнота = 0.498\n",
      "Порог = 0.58 | Точность = 0.458, Полнота = 0.498\n",
      "Порог = 0.60 | Точность = 0.458, Полнота = 0.498\n",
      "Порог = 0.62 | Точность = 0.458, Полнота = 0.498\n",
      "Порог = 0.64 | Точность = 0.458, Полнота = 0.498\n",
      "Порог = 0.66 | Точность = 0.458, Полнота = 0.498\n",
      "Порог = 0.68 | Точность = 0.458, Полнота = 0.498\n",
      "Порог = 0.70 | Точность = 0.458, Полнота = 0.498\n",
      "Порог = 0.72 | Точность = 0.458, Полнота = 0.498\n",
      "Порог = 0.74 | Точность = 0.458, Полнота = 0.498\n",
      "Порог = 0.76 | Точность = 0.458, Полнота = 0.498\n",
      "Порог = 0.78 | Точность = 0.458, Полнота = 0.498\n",
      "Порог = 0.80 | Точность = 0.458, Полнота = 0.498\n",
      "Порог = 0.82 | Точность = 0.458, Полнота = 0.498\n",
      "Порог = 0.84 | Точность = 0.458, Полнота = 0.498\n",
      "Порог = 0.86 | Точность = 0.458, Полнота = 0.498\n",
      "Порог = 0.88 | Точность = 0.458, Полнота = 0.498\n",
      "Порог = 0.90 | Точность = 0.458, Полнота = 0.498\n",
      "Порог = 0.92 | Точность = 0.458, Полнота = 0.498\n",
      "Порог = 0.94 | Точность = 0.458, Полнота = 0.498\n",
      "Порог = 0.96 | Точность = 0.458, Полнота = 0.498\n",
      "Порог = 0.98 | Точность = 0.458, Полнота = 0.498\n",
      "\n",
      "F1: 0.477\n",
      "accuracy: 0.794\n",
      "auc_roc: 0.68\n",
      "\n",
      "баланс:  0    0.9416\n",
      "1    0.0584\n",
      "dtype: float64\n"
     ]
    }
   ],
   "source": [
    "model_tree = DecisionTreeClassifier(random_state=12345)\n",
    "model_tree.fit(features_train, target_train)\n",
    "predictions_tree = model_tree.predict(features_valid)\n",
    "probabilities_valid = model_tree.predict_proba(features_valid)\n",
    "probabilities_one_valid = probabilities_valid[:, 1]\n",
    "f1 = f1_score(target_valid, predictions_tree)\n",
    "accuracy = accuracy_score(target_valid, predictions_tree)   \n",
    "auc_roc = roc_auc_score(target_valid, probabilities_one_valid)\n",
    "\n",
    "for threshold in np.arange(0, 1, 0.02):\n",
    "    predicted_valid = probabilities_one_valid > threshold \n",
    "    precision = precision_score(target_valid, predicted_valid) \n",
    "    recall = recall_score(target_valid, predicted_valid) \n",
    "\n",
    "    print(\"Порог = {:.2f} | Точность = {:.3f}, Полнота = {:.3f}\".format(\n",
    "        threshold, precision, recall))\n",
    "    \n",
    "print()\n",
    "print('F1:', round(f1, 3))\n",
    "print('accuracy:', round(accuracy, 3))\n",
    "print('auc_roc:', round(auc_roc, 3))\n",
    "print()\n",
    "print('баланс: ', pd.Series(predictions_logic).value_counts(normalize=True))\n",
    "new_row = pd.Series(data={'model': 'model_tree_without','F1': f1, 'accuracy':accuracy, 'auc_roc':auc_roc}) \n",
    "model_result = model_result.append(new_row,ignore_index=True)"
   ]
  },
  {
   "cell_type": "markdown",
   "metadata": {},
   "source": [
    "###### случайный лес без учёта дисбаланса"
   ]
  },
  {
   "cell_type": "code",
   "execution_count": 32,
   "metadata": {
    "scrolled": false
   },
   "outputs": [
    {
     "name": "stdout",
     "output_type": "stream",
     "text": [
      "Порог = 0.00 | Точность = 0.197, Полнота = 0.996\n",
      "Порог = 0.02 | Точность = 0.226, Полнота = 0.989\n",
      "Порог = 0.04 | Точность = 0.251, Полнота = 0.970\n",
      "Порог = 0.06 | Точность = 0.279, Полнота = 0.956\n",
      "Порог = 0.08 | Точность = 0.304, Полнота = 0.932\n",
      "Порог = 0.10 | Точность = 0.325, Полнота = 0.898\n",
      "Порог = 0.12 | Точность = 0.349, Полнота = 0.871\n",
      "Порог = 0.14 | Точность = 0.365, Полнота = 0.845\n",
      "Порог = 0.16 | Точность = 0.382, Полнота = 0.816\n",
      "Порог = 0.18 | Точность = 0.397, Полнота = 0.778\n",
      "Порог = 0.20 | Точность = 0.420, Полнота = 0.754\n",
      "Порог = 0.22 | Точность = 0.437, Полнота = 0.731\n",
      "Порог = 0.24 | Точность = 0.455, Полнота = 0.701\n",
      "Порог = 0.26 | Точность = 0.477, Полнота = 0.678\n",
      "Порог = 0.28 | Точность = 0.507, Полнота = 0.665\n",
      "Порог = 0.30 | Точность = 0.528, Полнота = 0.644\n",
      "Порог = 0.32 | Точность = 0.554, Полнота = 0.629\n",
      "Порог = 0.34 | Точность = 0.570, Полнота = 0.606\n",
      "Порог = 0.36 | Точность = 0.601, Полнота = 0.585\n",
      "Порог = 0.38 | Точность = 0.624, Полнота = 0.561\n",
      "Порог = 0.40 | Точность = 0.647, Полнота = 0.547\n",
      "Порог = 0.42 | Точность = 0.658, Полнота = 0.525\n",
      "Порог = 0.44 | Точность = 0.674, Полнота = 0.504\n",
      "Порог = 0.46 | Точность = 0.712, Полнота = 0.492\n",
      "Порог = 0.48 | Точность = 0.743, Полнота = 0.483\n",
      "Порог = 0.50 | Точность = 0.758, Полнота = 0.464\n",
      "Порог = 0.52 | Точность = 0.781, Полнота = 0.445\n",
      "Порог = 0.54 | Точность = 0.804, Полнота = 0.417\n",
      "Порог = 0.56 | Точность = 0.828, Полнота = 0.398\n",
      "Порог = 0.58 | Точность = 0.830, Полнота = 0.373\n",
      "Порог = 0.60 | Точность = 0.840, Полнота = 0.356\n",
      "Порог = 0.62 | Точность = 0.845, Полнота = 0.335\n",
      "Порог = 0.64 | Точность = 0.852, Полнота = 0.318\n",
      "Порог = 0.66 | Точность = 0.859, Полнота = 0.284\n",
      "Порог = 0.68 | Точность = 0.854, Полнота = 0.261\n",
      "Порог = 0.70 | Точность = 0.892, Полнота = 0.246\n",
      "Порог = 0.72 | Точность = 0.908, Полнота = 0.229\n",
      "Порог = 0.74 | Точность = 0.905, Полнота = 0.201\n",
      "Порог = 0.76 | Точность = 0.929, Полнота = 0.193\n",
      "Порог = 0.78 | Точность = 0.918, Полнота = 0.165\n",
      "Порог = 0.80 | Точность = 0.944, Полнота = 0.144\n",
      "Порог = 0.82 | Точность = 0.953, Полнота = 0.129\n",
      "Порог = 0.84 | Точность = 0.963, Полнота = 0.110\n",
      "Порог = 0.86 | Точность = 0.976, Полнота = 0.087\n",
      "Порог = 0.88 | Точность = 0.964, Полнота = 0.057\n",
      "Порог = 0.90 | Точность = 1.000, Полнота = 0.032\n",
      "Порог = 0.92 | Точность = 1.000, Полнота = 0.021\n",
      "Порог = 0.94 | Точность = 1.000, Полнота = 0.008\n",
      "Порог = 0.96 | Точность = 1.000, Полнота = 0.006\n",
      "\n",
      "F1: 0.576\n",
      "accuracy: 0.871\n",
      "auc_roc: 0.853\n",
      "\n",
      "баланс:  0    0.9416\n",
      "1    0.0584\n",
      "dtype: float64\n"
     ]
    }
   ],
   "source": [
    "model_forest = RandomForestClassifier(random_state = 12345)\n",
    "model_forest.fit(features_train, target_train)\n",
    "predictions_forest = model_forest.predict(features_valid)\n",
    "probabilities_valid = model_forest.predict_proba(features_valid)\n",
    "probabilities_one_valid = probabilities_valid[:, 1]\n",
    "f1 = f1_score(target_valid, predictions_forest)\n",
    "accuracy = accuracy_score(target_valid, predictions_forest)   \n",
    "auc_roc = roc_auc_score(target_valid, probabilities_one_valid)\n",
    "\n",
    "for threshold in np.arange(0, 0.98, 0.02):\n",
    "    predicted_valid = probabilities_one_valid > threshold \n",
    "    precision = precision_score(target_valid, predicted_valid) \n",
    "    recall = recall_score(target_valid, predicted_valid) \n",
    "\n",
    "    print(\"Порог = {:.2f} | Точность = {:.3f}, Полнота = {:.3f}\".format(\n",
    "        threshold, precision, recall))\n",
    "print()\n",
    "print('F1:', round(f1, 3))\n",
    "print('accuracy:', round(accuracy, 3))\n",
    "print('auc_roc:', round(auc_roc, 3))\n",
    "print()\n",
    "print('баланс: ', pd.Series(predictions_logic).value_counts(normalize=True))\n",
    "new_row = pd.Series(data={'model': 'model_forest_without','F1': f1, 'accuracy':accuracy, 'auc_roc':auc_roc}) \n",
    "model_result = model_result.append(new_row,ignore_index=True)"
   ]
  },
  {
   "cell_type": "markdown",
   "metadata": {},
   "source": [
    "###### Вывод\n",
    "\n",
    "Без учёта дисбаланса самое большое значение F1-меры оказалось у модели Случайного леса (0.576), кстати, она же оказалась и самой точной (0.871) и с самым большим значением AUC-ROC (0.853). Вероятнее всего, именно с данной моделью мы и будем работать в дальнейшем. Баланс на всех трёх представленных моделях оказался примерно одинаковым - 94:6 отрицательные:положительные ответы"
   ]
  },
  {
   "cell_type": "markdown",
   "metadata": {},
   "source": [
    "## Борьба с дисбалансом"
   ]
  },
  {
   "cell_type": "markdown",
   "metadata": {},
   "source": [
    "###### взвешивание классов Логистическая регрессия"
   ]
  },
  {
   "cell_type": "code",
   "execution_count": 33,
   "metadata": {},
   "outputs": [
    {
     "name": "stdout",
     "output_type": "stream",
     "text": [
      "F1: 0.502\n",
      "accuracy: 0.734\n",
      "auc_roc: 0.788\n",
      "\n",
      "баланс:  \n",
      " 0    0.6548\n",
      "1    0.3452\n",
      "dtype: float64\n"
     ]
    }
   ],
   "source": [
    "model_logic = LogisticRegression(random_state=12345, solver='liblinear', class_weight='balanced')\n",
    "model_logic.fit(features_train, target_train)\n",
    "predictions_logic = model_logic.predict(features_valid)\n",
    "probabilities_valid = model_logic.predict_proba(features_valid)\n",
    "probabilities_one_valid = probabilities_valid[:, 1]   \n",
    "f1 = f1_score(target_valid, predictions_logic)\n",
    "accuracy = accuracy_score(target_valid, predictions_logic)   \n",
    "auc_roc = roc_auc_score(target_valid, probabilities_one_valid)\n",
    "\n",
    "print('F1:', round(f1, 3))\n",
    "print('accuracy:', round(accuracy, 3))\n",
    "print('auc_roc:', round(auc_roc, 3))\n",
    "print()\n",
    "print('баланс: ','\\n', pd.Series(predictions_logic).value_counts(normalize=True))\n",
    "new_row = pd.Series(data={'model': 'model_logic_balanced','F1': f1, 'accuracy':accuracy, 'auc_roc':auc_roc}) \n",
    "model_result = model_result.append(new_row,ignore_index=True)"
   ]
  },
  {
   "cell_type": "markdown",
   "metadata": {},
   "source": [
    "После \"взвешивания классов\" значение F1-меры увеличилось до 0.47 в модели Логической регрессии, правда, качество чуть снизилось до 0.715"
   ]
  },
  {
   "cell_type": "markdown",
   "metadata": {},
   "source": [
    "###### увеличение выборки (upsampling ) Логистическая регрессия"
   ]
  },
  {
   "cell_type": "code",
   "execution_count": 34,
   "metadata": {
    "scrolled": true
   },
   "outputs": [
    {
     "name": "stdout",
     "output_type": "stream",
     "text": [
      "F1: 0.505\n",
      "accuracy: 0.73\n",
      "auc_roc: 0.788\n",
      "\n",
      "баланс:  \n",
      " 0    0.6436\n",
      "1    0.3564\n",
      "dtype: float64\n"
     ]
    }
   ],
   "source": [
    "def upsample(features, target, repeat):\n",
    "    features_zeros = features[target == 0]\n",
    "    features_ones = features[target == 1]\n",
    "    target_zeros = target[target == 0]\n",
    "    target_ones = target[target == 1]\n",
    "\n",
    "    features_upsampled = pd.concat([features_zeros] + [features_ones] * repeat)\n",
    "    target_upsampled = pd.concat([target_zeros] + [target_ones] * repeat)\n",
    "    \n",
    "    features_upsampled, target_upsampled = shuffle(\n",
    "        features_upsampled, target_upsampled, random_state=12345)\n",
    "    \n",
    "    return features_upsampled, target_upsampled\n",
    "\n",
    "features_upsampled, target_upsampled = upsample(features_train, target_train, 4)\n",
    "\n",
    "model_logic = LogisticRegression(random_state=12345, solver='liblinear')\n",
    "model_logic.fit(features_upsampled, target_upsampled)\n",
    "predictions_logic = model_logic.predict(features_valid)\n",
    "probabilities_valid = model_logic.predict_proba(features_valid)\n",
    "probabilities_one_valid = probabilities_valid[:, 1]\n",
    "f1 = f1_score(target_valid, predictions_logic)\n",
    "accuracy = accuracy_score(predictions_logic,target_valid)   \n",
    "auc_roc = roc_auc_score(target_valid, probabilities_one_valid)\n",
    "\n",
    "print('F1:', round(f1, 3))\n",
    "print('accuracy:', round(accuracy, 3))\n",
    "print('auc_roc:', round(auc_roc, 3))\n",
    "print()\n",
    "print('баланс: ','\\n', pd.Series(predictions_logic).value_counts(normalize=True))\n",
    "new_row = pd.Series(data={'model': 'model_logic_upsample','F1': f1, 'accuracy':accuracy, 'auc_roc':auc_roc}) \n",
    "model_result = model_result.append(new_row,ignore_index=True)"
   ]
  },
  {
   "cell_type": "markdown",
   "metadata": {},
   "source": [
    "###### уменьшение выборки (downsample) Логистическая регрессия"
   ]
  },
  {
   "cell_type": "code",
   "execution_count": 35,
   "metadata": {},
   "outputs": [
    {
     "name": "stdout",
     "output_type": "stream",
     "text": [
      "F1: 0.41\n",
      "accuracy: 0.513\n",
      "auc_roc: 0.777\n",
      "\n",
      "баланс:  \n",
      " 1    0.6376\n",
      "0    0.3624\n",
      "dtype: float64\n"
     ]
    }
   ],
   "source": [
    "def downsample(features, target, fraction):\n",
    "    features_zeros = features[target == 0]\n",
    "    features_ones = features[target == 1]\n",
    "    target_zeros = target[target == 0]\n",
    "    target_ones = target[target == 1]\n",
    "\n",
    "    features_downsampled = pd.concat(\n",
    "        [features_zeros.sample(frac=fraction, random_state=12345)] + [features_ones])\n",
    "    target_downsampled = pd.concat(\n",
    "        [target_zeros.sample(frac=fraction, random_state=12345)] + [target_ones])\n",
    "    \n",
    "    features_downsampled, target_downsampled = shuffle(\n",
    "        features_downsampled, target_downsampled, random_state=12345)\n",
    "    \n",
    "    return features_downsampled, target_downsampled\n",
    "\n",
    "features_downsampled, target_downsampled = downsample(features_train, target_train, 0.12)\n",
    "\n",
    "model_logic = LogisticRegression(random_state=12345, solver='liblinear')\n",
    "model_logic.fit(features_downsampled, target_downsampled)\n",
    "predictions_logic = model_logic.predict(features_valid)\n",
    "probabilities_valid = model_logic.predict_proba(features_valid)\n",
    "probabilities_one_valid = probabilities_valid[:, 1]\n",
    "f1 = f1_score(target_valid, predictions_logic)\n",
    "accuracy = accuracy_score(target_valid, predictions_logic)   \n",
    "auc_roc = roc_auc_score(target_valid, probabilities_one_valid)\n",
    "\n",
    "print('F1:', round(f1, 3))\n",
    "print('accuracy:', round(accuracy, 3))\n",
    "print('auc_roc:', round(auc_roc, 3))\n",
    "print()\n",
    "print('баланс: ','\\n', pd.Series(predictions_logic).value_counts(normalize=True))\n",
    "new_row = pd.Series(data={'model': 'model_logic_downsample','F1': f1, 'accuracy':accuracy, 'auc_roc':auc_roc}) \n",
    "model_result = model_result.append(new_row,ignore_index=True)"
   ]
  },
  {
   "cell_type": "markdown",
   "metadata": {},
   "source": [
    "###### взвешивание класов в модели Дерево решений"
   ]
  },
  {
   "cell_type": "code",
   "execution_count": 36,
   "metadata": {},
   "outputs": [
    {
     "name": "stdout",
     "output_type": "stream",
     "text": [
      "F1: 0.463\n",
      "accuracy: 0.789\n",
      "auc_roc: 0.671\n",
      "\n",
      "баланс:  \n",
      " 0    0.7964\n",
      "1    0.2036\n",
      "dtype: float64\n"
     ]
    }
   ],
   "source": [
    "model_tree = DecisionTreeClassifier(random_state = 12345, class_weight='balanced')\n",
    "model_tree.fit(features_train, target_train)\n",
    "predictions_tree = model_tree.predict(features_valid)\n",
    "probabilities_valid = model_tree.predict_proba(features_valid)\n",
    "probabilities_one_valid = probabilities_valid[:, 1]\n",
    "f1 = f1_score(target_valid, predictions_tree)\n",
    "accuracy = accuracy_score(target_valid, predictions_tree)   \n",
    "auc_roc = roc_auc_score(target_valid, probabilities_one_valid)\n",
    "            \n",
    "print('F1:', round(f1, 3))\n",
    "print('accuracy:', round(accuracy, 3))\n",
    "print('auc_roc:', round(auc_roc, 3))\n",
    "print()\n",
    "print('баланс: ','\\n', pd.Series(predictions_tree).value_counts(normalize=True))\n",
    "new_row = pd.Series(data={'model': 'model_tree_balanced','F1': f1, 'accuracy':accuracy, 'auc_roc':auc_roc}) \n",
    "model_result = model_result.append(new_row,ignore_index=True)"
   ]
  },
  {
   "cell_type": "markdown",
   "metadata": {},
   "source": [
    "###### взвешивание классов в модели Случайный лес"
   ]
  },
  {
   "cell_type": "code",
   "execution_count": 37,
   "metadata": {},
   "outputs": [
    {
     "name": "stdout",
     "output_type": "stream",
     "text": [
      "F1: 0.568\n",
      "accuracy: 0.871\n",
      "auc_roc: 0.847\n",
      "\n",
      "баланс:  \n",
      " 0    0.89\n",
      "1    0.11\n",
      "dtype: float64\n"
     ]
    }
   ],
   "source": [
    "model_forest = RandomForestClassifier(random_state = 12345, class_weight='balanced')\n",
    "model_forest.fit(features_train, target_train)\n",
    "predictions_forest = model_forest.predict(features_valid)\n",
    "probabilities_valid = model_forest.predict_proba(features_valid)\n",
    "probabilities_one_valid = probabilities_valid[:, 1]\n",
    "f1 = f1_score(target_valid, predictions_forest)\n",
    "accuracy = accuracy_score(target_valid, predictions_forest)   \n",
    "auc_roc = roc_auc_score(target_valid, probabilities_one_valid)\n",
    "          \n",
    "print('F1:', round(f1, 3))\n",
    "print('accuracy:', round(accuracy, 3))\n",
    "print('auc_roc:', round(auc_roc, 3))\n",
    "print()\n",
    "print('баланс: ','\\n', pd.Series(predictions_forest).value_counts(normalize=True))\n",
    "new_row = pd.Series(data={'model': 'model_forest_balanced','F1': f1, 'accuracy':accuracy, 'auc_roc':auc_roc}) \n",
    "model_result = model_result.append(new_row,ignore_index=True)"
   ]
  },
  {
   "cell_type": "markdown",
   "metadata": {},
   "source": [
    "###### увеличение выборки Дерево решений"
   ]
  },
  {
   "cell_type": "code",
   "execution_count": 38,
   "metadata": {},
   "outputs": [
    {
     "name": "stdout",
     "output_type": "stream",
     "text": [
      "F1: 0.451\n",
      "accuracy: 0.788\n",
      "auc_roc: 0.663\n",
      "\n",
      "баланс:  \n",
      " 0    0.802\n",
      "1    0.198\n",
      "dtype: float64\n"
     ]
    }
   ],
   "source": [
    "model_tree = DecisionTreeClassifier(random_state = 12345)\n",
    "model_tree.fit(features_upsampled, target_upsampled)\n",
    "predictions_tree = model_tree.predict(features_valid)\n",
    "probabilities_valid = model_tree.predict_proba(features_valid)\n",
    "probabilities_one_valid = probabilities_valid[:, 1]\n",
    "f1 = f1_score(target_valid, predictions_tree)\n",
    "accuracy = accuracy_score(target_valid, predictions_tree)   \n",
    "auc_roc = roc_auc_score(target_valid, probabilities_one_valid)\n",
    "            \n",
    "print('F1:', round(f1, 3))\n",
    "print('accuracy:', round(accuracy, 3))\n",
    "print('auc_roc:', round(auc_roc, 3))\n",
    "print()\n",
    "print('баланс: ','\\n', pd.Series(predictions_tree).value_counts(normalize=True))\n",
    "new_row = pd.Series(data={'model': 'model_tree_upsample','F1': f1, 'accuracy':accuracy, 'auc_roc':auc_roc}) \n",
    "model_result = model_result.append(new_row,ignore_index=True)"
   ]
  },
  {
   "cell_type": "markdown",
   "metadata": {},
   "source": [
    "###### увеличение выборки Случайный лес"
   ]
  },
  {
   "cell_type": "code",
   "execution_count": 39,
   "metadata": {
    "scrolled": false
   },
   "outputs": [
    {
     "name": "stdout",
     "output_type": "stream",
     "text": [
      "F1: 0.588\n",
      "accuracy: 0.853\n",
      "auc_roc: 0.846\n",
      "\n",
      "баланс:  \n",
      " 0    0.8324\n",
      "1    0.1676\n",
      "dtype: float64\n"
     ]
    }
   ],
   "source": [
    "model_forest = RandomForestClassifier(random_state = 12345)\n",
    "model_forest.fit(features_upsampled, target_upsampled)\n",
    "predictions_forest = model_forest.predict(features_valid)\n",
    "probabilities_valid = model_forest.predict_proba(features_valid)\n",
    "probabilities_one_valid = probabilities_valid[:, 1]\n",
    "f1 = f1_score(target_valid, predictions_forest)\n",
    "accuracy = accuracy_score(target_valid, predictions_forest)   \n",
    "auc_roc = roc_auc_score(target_valid, probabilities_one_valid)\n",
    "          \n",
    "print('F1:', round(f1, 3))\n",
    "print('accuracy:', round(accuracy, 3))\n",
    "print('auc_roc:', round(auc_roc, 3))\n",
    "print()\n",
    "print('баланс: ','\\n', pd.Series(predictions_forest).value_counts(normalize=True))\n",
    "new_row = pd.Series(data={'model': 'model_forest_upsample','F1': f1, 'accuracy':accuracy, 'auc_roc':auc_roc}) \n",
    "model_result = model_result.append(new_row,ignore_index=True)\n"
   ]
  },
  {
   "cell_type": "markdown",
   "metadata": {},
   "source": [
    "###### уменьшение выборки Дерево решений"
   ]
  },
  {
   "cell_type": "code",
   "execution_count": 40,
   "metadata": {
    "scrolled": true
   },
   "outputs": [
    {
     "name": "stdout",
     "output_type": "stream",
     "text": [
      "F1: 0.429\n",
      "accuracy: 0.615\n",
      "auc_roc: 0.673\n",
      "\n",
      "баланс:  \n",
      " 0    0.5152\n",
      "1    0.4848\n",
      "dtype: float64\n"
     ]
    }
   ],
   "source": [
    "model_tree = DecisionTreeClassifier(random_state = 12345)\n",
    "model_tree.fit(features_downsampled, target_downsampled)\n",
    "predictions_tree = model_tree.predict(features_valid)\n",
    "probabilities_valid = model_tree.predict_proba(features_valid)\n",
    "probabilities_one_valid = probabilities_valid[:, 1]\n",
    "f1 = f1_score(target_valid, predictions_tree)\n",
    "accuracy = accuracy_score(target_valid, predictions_tree)   \n",
    "auc_roc = roc_auc_score(target_valid, probabilities_one_valid)\n",
    "            \n",
    "print('F1:', round(f1, 3))\n",
    "print('accuracy:', round(accuracy, 3))\n",
    "print('auc_roc:', round(auc_roc, 3))\n",
    "print()\n",
    "print('баланс: ','\\n', pd.Series(predictions_tree).value_counts(normalize=True))\n",
    "new_row = pd.Series(data={'model': 'model_tree_downsample','F1': f1, 'accuracy':accuracy, 'auc_roc':auc_roc}) \n",
    "model_result = model_result.append(new_row,ignore_index=True)"
   ]
  },
  {
   "cell_type": "markdown",
   "metadata": {},
   "source": [
    "###### уменьшение выборки Случайный лес"
   ]
  },
  {
   "cell_type": "code",
   "execution_count": 41,
   "metadata": {
    "scrolled": true
   },
   "outputs": [
    {
     "name": "stdout",
     "output_type": "stream",
     "text": [
      "F1: 0.465\n",
      "accuracy: 0.614\n",
      "auc_roc: 0.839\n",
      "\n",
      "баланс:  \n",
      " 1    0.5328\n",
      "0    0.4672\n",
      "dtype: float64\n"
     ]
    }
   ],
   "source": [
    "model_forest = RandomForestClassifier(random_state = 12345)\n",
    "model_forest.fit(features_downsampled, target_downsampled)\n",
    "predictions_forest = model_forest.predict(features_valid)\n",
    "probabilities_valid = model_forest.predict_proba(features_valid)\n",
    "probabilities_one_valid = probabilities_valid[:, 1]\n",
    "f1 = f1_score(target_valid, predictions_forest)\n",
    "accuracy = accuracy_score(target_valid, predictions_forest)   \n",
    "auc_roc = roc_auc_score(target_valid, probabilities_one_valid)\n",
    "          \n",
    "print('F1:', round(f1, 3))\n",
    "print('accuracy:', round(accuracy, 3))\n",
    "print('auc_roc:', round(auc_roc, 3))\n",
    "print()\n",
    "print('баланс: ','\\n', pd.Series(predictions_forest).value_counts(normalize=True))\n",
    "new_row = pd.Series(data={'model': 'model_tree_downsample','F1': f1, 'accuracy':accuracy, 'auc_roc':auc_roc}) \n",
    "model_result = model_result.append(new_row,ignore_index=True)"
   ]
  },
  {
   "cell_type": "code",
   "execution_count": 42,
   "metadata": {
    "scrolled": false
   },
   "outputs": [
    {
     "data": {
      "text/html": [
       "<div>\n",
       "<style scoped>\n",
       "    .dataframe tbody tr th:only-of-type {\n",
       "        vertical-align: middle;\n",
       "    }\n",
       "\n",
       "    .dataframe tbody tr th {\n",
       "        vertical-align: top;\n",
       "    }\n",
       "\n",
       "    .dataframe thead th {\n",
       "        text-align: right;\n",
       "    }\n",
       "</style>\n",
       "<table border=\"1\" class=\"dataframe\">\n",
       "  <thead>\n",
       "    <tr style=\"text-align: right;\">\n",
       "      <th></th>\n",
       "      <th>model</th>\n",
       "      <th>F1</th>\n",
       "      <th>accuracy</th>\n",
       "      <th>auc_roc</th>\n",
       "    </tr>\n",
       "  </thead>\n",
       "  <tbody>\n",
       "    <tr>\n",
       "      <th>9</th>\n",
       "      <td>model_forest_upsample</td>\n",
       "      <td>0.588103</td>\n",
       "      <td>0.8532</td>\n",
       "      <td>0.846281</td>\n",
       "    </tr>\n",
       "    <tr>\n",
       "      <th>2</th>\n",
       "      <td>model_forest_without</td>\n",
       "      <td>0.575558</td>\n",
       "      <td>0.8708</td>\n",
       "      <td>0.852579</td>\n",
       "    </tr>\n",
       "    <tr>\n",
       "      <th>7</th>\n",
       "      <td>model_forest_balanced</td>\n",
       "      <td>0.567604</td>\n",
       "      <td>0.8708</td>\n",
       "      <td>0.847386</td>\n",
       "    </tr>\n",
       "    <tr>\n",
       "      <th>4</th>\n",
       "      <td>model_logic_upsample</td>\n",
       "      <td>0.504769</td>\n",
       "      <td>0.7300</td>\n",
       "      <td>0.788136</td>\n",
       "    </tr>\n",
       "    <tr>\n",
       "      <th>3</th>\n",
       "      <td>model_logic_balanced</td>\n",
       "      <td>0.501873</td>\n",
       "      <td>0.7340</td>\n",
       "      <td>0.788124</td>\n",
       "    </tr>\n",
       "    <tr>\n",
       "      <th>1</th>\n",
       "      <td>model_tree_without</td>\n",
       "      <td>0.477157</td>\n",
       "      <td>0.7940</td>\n",
       "      <td>0.680400</td>\n",
       "    </tr>\n",
       "    <tr>\n",
       "      <th>11</th>\n",
       "      <td>model_tree_downsample</td>\n",
       "      <td>0.464523</td>\n",
       "      <td>0.6136</td>\n",
       "      <td>0.838542</td>\n",
       "    </tr>\n",
       "    <tr>\n",
       "      <th>6</th>\n",
       "      <td>model_tree_balanced</td>\n",
       "      <td>0.462793</td>\n",
       "      <td>0.7892</td>\n",
       "      <td>0.670939</td>\n",
       "    </tr>\n",
       "    <tr>\n",
       "      <th>8</th>\n",
       "      <td>model_tree_upsample</td>\n",
       "      <td>0.450879</td>\n",
       "      <td>0.7876</td>\n",
       "      <td>0.662638</td>\n",
       "    </tr>\n",
       "    <tr>\n",
       "      <th>10</th>\n",
       "      <td>model_tree_downsample</td>\n",
       "      <td>0.428741</td>\n",
       "      <td>0.6152</td>\n",
       "      <td>0.672603</td>\n",
       "    </tr>\n",
       "    <tr>\n",
       "      <th>5</th>\n",
       "      <td>model_logic_downsample</td>\n",
       "      <td>0.410455</td>\n",
       "      <td>0.5128</td>\n",
       "      <td>0.776505</td>\n",
       "    </tr>\n",
       "    <tr>\n",
       "      <th>0</th>\n",
       "      <td>model_logic_without</td>\n",
       "      <td>0.304207</td>\n",
       "      <td>0.8280</td>\n",
       "      <td>0.786512</td>\n",
       "    </tr>\n",
       "  </tbody>\n",
       "</table>\n",
       "</div>"
      ],
      "text/plain": [
       "                     model        F1  accuracy   auc_roc\n",
       "9    model_forest_upsample  0.588103    0.8532  0.846281\n",
       "2     model_forest_without  0.575558    0.8708  0.852579\n",
       "7    model_forest_balanced  0.567604    0.8708  0.847386\n",
       "4     model_logic_upsample  0.504769    0.7300  0.788136\n",
       "3     model_logic_balanced  0.501873    0.7340  0.788124\n"
       
      ]
     },
     "execution_count": 42,
     "metadata": {},
     "output_type": "execute_result"
    }
   ],
   "source": [
    "model_result.sort_values(by = 'F1',ascending=False).head()"
   ]
  },
  {
   "cell_type": "markdown",
   "metadata": {},
   "source": [
    "Как видим из таблицы, наилучшие значения F1-меры оказались у модели Случайного леса, худшее - у модели логистической регрессии. При этом, значение F1-меры после 'борьбы с дисбалансом' увеличилось (с 0.576 до 0.588). Наилучшие значение показала техника увеличения выборки (upsampling). Теперь используя её подберём оптимальные гиперпараметры "
   ]
  },
  {
   "cell_type": "code",
   "execution_count": 43,
   "metadata": {},
   "outputs": [
    {
     "name": "stdout",
     "output_type": "stream",
     "text": [
      "CPU times: user 2min 48s, sys: 694 ms, total: 2min 49s\n",
      "Wall time: 2min 50s\n"
     ]
    }
   ],
   "source": [
    "%%time\n",
    "df_result = pd.DataFrame(columns=['depth', 'n_est', 'f1', 'accuracy', 'auc_roc'])\n",
    "\n",
    "for n_est in range(210, 230):\n",
    "    for depth in range (15, 20):\n",
    "        model_forest = RandomForestClassifier(n_estimators = n_est, max_depth = depth, random_state=12345)\n",
    "        model_forest.fit(features_upsampled, target_upsampled)\n",
    "        predictions_forest = model_forest.predict(features_valid)\n",
    "        probabilities_valid = model_forest.predict_proba(features_valid)\n",
    "        probabilities_one_valid = probabilities_valid[:, 1]\n",
    "        f1 = f1_score(target_valid, predictions_forest)\n",
    "        accuracy = accuracy_score(target_valid, predictions_forest)   \n",
    "        auc_roc = roc_auc_score(target_valid, probabilities_one_valid)\n",
    "        \n",
    "        new_row = pd.Series(data={'depth': depth, 'n_est': n_est, 'f1': f1, 'accuracy': accuracy, 'auc_roc': auc_roc})\n",
    "        df_result = df_result.append(new_row,ignore_index=True)\n"
   ]
  },
  {
   "cell_type": "code",
   "execution_count": 44,
   "metadata": {
    "scrolled": true
   },
   "outputs": [
    {
     "data": {
      "text/html": [
       "<div>\n",
       "<style scoped>\n",
       "    .dataframe tbody tr th:only-of-type {\n",
       "        vertical-align: middle;\n",
       "    }\n",
       "\n",
       "    .dataframe tbody tr th {\n",
       "        vertical-align: top;\n",
       "    }\n",
       "\n",
       "    .dataframe thead th {\n",
       "        text-align: right;\n",
       "    }\n",
       "</style>\n",
       "<table border=\"1\" class=\"dataframe\">\n",
       "  <thead>\n",
       "    <tr style=\"text-align: right;\">\n",
       "      <th></th>\n",
       "      <th>depth</th>\n",
       "      <th>n_est</th>\n",
       "      <th>f1</th>\n",
       "      <th>accuracy</th>\n",
       "      <th>auc_roc</th>\n",
       "    </tr>\n",
       "  </thead>\n",
       "  <tbody>\n",
       "    <tr>\n",
       "      <th>89</th>\n",
       "      <td>19.0</td>\n",
       "      <td>227.0</td>\n",
       "      <td>0.605322</td>\n",
       "      <td>0.8576</td>\n",
       "      <td>0.848183</td>\n",
       "    </tr>\n",
       "    <tr>\n",
       "      <th>84</th>\n",
       "      <td>19.0</td>\n",
       "      <td>226.0</td>\n",
       "      <td>0.605117</td>\n",
       "      <td>0.8580</td>\n",
       "      <td>0.848353</td>\n",
       "    </tr>\n",
       "    <tr>\n",
       "      <th>94</th>\n",
       "      <td>19.0</td>\n",
       "      <td>228.0</td>\n",
       "      <td>0.604444</td>\n",
       "      <td>0.8576</td>\n",
       "      <td>0.848194</td>\n",
       "    </tr>\n",
       "    <tr>\n",
       "      <th>99</th>\n",
       "      <td>19.0</td>\n",
       "      <td>229.0</td>\n",
       "      <td>0.603774</td>\n",
       "      <td>0.8572</td>\n",
       "      <td>0.848079</td>\n",
       "    </tr>\n",
       "    <tr>\n",
       "      <th>44</th>\n",
       "      <td>19.0</td>\n",
       "      <td>218.0</td>\n",
       "      <td>0.603774</td>\n",
       "      <td>0.8572</td>\n",
       "      <td>0.848497</td>\n",
       "    </tr>\n",
       "    <tr>\n",
       "      <th>9</th>\n",
       "      <td>19.0</td>\n",
       "      <td>211.0</td>\n",
       "      <td>0.603104</td>\n",
       "      <td>0.8568</td>\n",
       "      <td>0.847725</td>\n",
       "    </tr>\n",
       "    <tr>\n",
       "      <th>19</th>\n",
       "      <td>19.0</td>\n",
       "      <td>213.0</td>\n",
       "      <td>0.603104</td>\n",
       "      <td>0.8568</td>\n",
       "      <td>0.847956</td>\n",
       "    </tr>\n",
       "    <tr>\n",
       "      <th>54</th>\n",
       "      <td>19.0</td>\n",
       "      <td>220.0</td>\n",
       "      <td>0.603104</td>\n",
       "      <td>0.8568</td>\n",
       "      <td>0.848563</td>\n",
       "    </tr>\n",
       "    <tr>\n",
       "      <th>24</th>\n",
       "      <td>19.0</td>\n",
       "      <td>214.0</td>\n",
       "      <td>0.603104</td>\n",
       "      <td>0.8568</td>\n",
       "      <td>0.848166</td>\n",
       "    </tr>\n",
       "    <tr>\n",
       "      <th>79</th>\n",
       "      <td>19.0</td>\n",
       "      <td>225.0</td>\n",
       "      <td>0.603104</td>\n",
       "      <td>0.8568</td>\n",
       "      <td>0.848343</td>\n",
       "    </tr>\n",
       "  </tbody>\n",
       "</table>\n",
       "</div>"
      ],
      "text/plain": [
       "    depth  n_est        f1  accuracy   auc_roc\n",
       "89   19.0  227.0  0.605322    0.8576  0.848183\n",
       "84   19.0  226.0  0.605117    0.8580  0.848353\n",
       "94   19.0  228.0  0.604444    0.8576  0.848194\n",
       "99   19.0  229.0  0.603774    0.8572  0.848079\n",
       "44   19.0  218.0  0.603774    0.8572  0.848497\n",
       "9    19.0  211.0  0.603104    0.8568  0.847725\n",
       "19   19.0  213.0  0.603104    0.8568  0.847956\n",
       "54   19.0  220.0  0.603104    0.8568  0.848563\n",
       "24   19.0  214.0  0.603104    0.8568  0.848166\n",
       "79   19.0  225.0  0.603104    0.8568  0.848343"
      ]
     },
     "execution_count": 44,
     "metadata": {},
     "output_type": "execute_result"
    }
   ],
   "source": [
    "df_result.sort_values(by = 'f1',ascending=False).head(10)"
   ]
  },
  {
   "cell_type": "markdown",
   "metadata": {},
   "source": [
    "Как видим, максимальное значение F1-меры (0.605) получается при при глубине, равной 19 и при числе \"деревьев\" равных 227. (Параметры перебирались долго, просто дабы не загружать код, оставил только те отрезки, где уже обнаружились максимальные параметры). Теперь проверим на тестовой выборке"
   ]
  },
  {
   "cell_type": "markdown",
   "metadata": {},
   "source": [
    "###### Тестирование модели "
   ]
  },
  {
   "cell_type": "code",
   "execution_count": 45,
   "metadata": {
    "scrolled": false
   },
   "outputs": [
    {
     "data": {
      "image/png": "[encoded data removed]",
      "text/plain": [
       "<Figure size 576x432 with 1 Axes>"
      ]
     },
     "metadata": {
      "needs_background": "light"
     },
     "output_type": "display_data"
    },
    {
     "name": "stdout",
     "output_type": "stream",
     "text": [
      "F1: 0.628\n",
      "accuracy: 0.851\n",
      "auc_roc: 0.854\n",
      "\n",
      "баланс:  \n",
      " 0    0.8176\n",
      "1    0.1824\n",
      "dtype: float64\n"
     ]
    }
   ],
   "source": [
    "model_forest_test = RandomForestClassifier(n_estimators = 227, max_depth = 19, random_state=12345)\n",
    "model_forest_test.fit(features_upsampled, target_upsampled)\n",
    "predictions_forest_test = model_forest_test.predict(features_test)\n",
    "probabilities_valid = model_forest_test.predict_proba(features_test)\n",
    "probabilities_one_valid = probabilities_valid[:, 1]\n",
    "f1 = f1_score(target_test, predictions_forest_test)\n",
    "accuracy = accuracy_score(target_test, predictions_forest_test)   \n",
    "auc_roc = roc_auc_score(target_test, probabilities_one_valid)\n",
    "\n",
    "fpr, tpr, thresholds = roc_curve(target_test, probabilities_one_valid) \n",
    "plt.figure(figsize=(8,6))\n",
    "plt.plot(fpr, tpr, color='red')\n",
    "plt.plot([0, 1], [0, 1], linestyle='--')\n",
    "plt.xlabel('False Positive Rate')\n",
    "plt.ylabel('True Positive Rate')\n",
    "plt.title('ROC-кривая')\n",
    "plt.grid(True)\n",
    "plt.show()\n",
    "\n",
    "print('F1:', round(f1, 3))\n",
    "print('accuracy:', round(accuracy, 3))\n",
    "print('auc_roc:', round(auc_roc, 3))\n",
    "print()\n",
    "print('баланс: ','\\n', pd.Series(predictions_forest_test).value_counts(normalize=True))"
   ]
  },
  {
   "cell_type": "markdown",
   "metadata": {},
   "source": [
    "Подсчитали следующие показатели на тестовой модели: значение F1-меры, качество модели, построили график зависимости TPR от FPR (ROC-кривую), вычислили площадь под кривой (AUC-ROC),  изучен баланс.\n",
    "\n",
    "Как видим, значение F1-меры увеличилось с 0.605 до 0.628, При этом, качество чуть снизилось (0.851 против 0.858), но увеличилось значение AUC-ROC (0.854 против 0.848). Чтобы оценить качество тестовой модели проверим её на адекватность и подсчитаем качество константной модели"
   ]
  },
  {
   "cell_type": "markdown",
   "metadata": {},
   "source": [
    "###### Качество константной модели "
   ]
  },
  {
   "cell_type": "code",
   "execution_count": 46,
   "metadata": {
    "scrolled": true
   },
   "outputs": [
    {
     "name": "stdout",
     "output_type": "stream",
     "text": [
      "0.811\n"
     ]
    }
   ],
   "source": [
    "target_pred_constant = pd.Series(0, index=target_test.index)\n",
    "print(round(accuracy_score(target_valid, target_pred_constant), 3))"
   ]
  },
  {
   "cell_type": "markdown",
   "metadata": {},
   "source": [
    "Качество константной можели оказалось ниже тестируемой (0.811 простов 0.851), а значит нашу модель можно считать адекватной"
   ]
  },
  {
   "cell_type": "markdown",
   "metadata": {},
   "source": [
    "# Вывод\n",
    "\n",
    "В ходе работы было выполнено:\n",
    "\n",
    "- Открыт файл и изучен, проверена его целостность, выбиающиеся значения, пропуски\n",
    "- Найдены и обработаны пропуски в столбце 'Tenure'\n",
    "- Переименованы столбцы\n",
    "- Удалены лишние столбцы, а именно: 'Surname', 'Customer_Id', 'Row_Number'\n",
    "- Преобразованы столбцы Geography и Gender техникой OHE\n",
    "- Данные были разбиты на выборки: На обучающую - 50%, на валидационную - 25%, на тестовую - 25%\n",
    "- Заданы целевые признаки, подготовка данных \n",
    "- Стандартизированы признаки \n",
    "- Изучен баланс между положительными и отрицательными классами\n",
    "- Исследованы следующие модели без учёта дисбаланса: логистическая регрессия, дерево решений, случайный лес\n",
    "- В качестве борьбы с дисбалансом применялись следующие методы: взвешивание классов, увеличение выборки, уменьшение выборки\n",
    "- Подсчитаны значения F1-меры, качества модели, AUC-ROC\n",
    "- Отобрана наилучшая модель и наилучший метод борьбы с дисбалансом по максимальному значению F1-меры\n",
    "- Подобраны оптимальные гиперпараметры\n",
    "- Гиперпараметры проверены на тестовой модели\n",
    "- У тестовой модели подсчитано значение F1-меры, оценено качество модели, построен график зависимости TPR от FPR (ROC-кривую), вычислена площадь под кривой (AUC-ROC), изучен баланс \n",
    "- Тестовая модель сравнивалась с константной моделью\n",
    "\n",
    "По результатам выбора модели лучшей оказалась **модель Случайный лес** в ней значение **F1-меры** получилось **0.576** без учёта дисбаланса. Лучшей \"борьбой с дисбалансом\" оказался метод **увеличение выборки**, при его использовании значение **F1-меры** увеличилось до **0.588**. Максимальный показатель значения F1-меры оказалсь при следующих гиперпараметрах: **глубина - 19, количество деревьев - 227**. При этих гиперпараметрах были определены показатели **тестовой модели**: значение **F1-меры = 0.628**, **качество 0.851**, **AUC-ROC = 0.854**. **Качество константной** модели равно **0.811**, что говорит о том, что нашу тестовую модель можно считать адекватной и применимой"
   ]
  }
 ],
 "metadata": {
  "ExecuteTimeLog": [
   {
    "duration": 45,
    "start_time": "2022-11-10T07:17:21.915Z"
   },
   {
    "duration": 427,
    "start_time": "2022-11-10T07:17:24.831Z"
   },
   {
    "duration": 149,
    "start_time": "2022-11-10T07:17:25.407Z"
   },
   {
    "duration": 49,
    "start_time": "2022-11-10T07:17:36.550Z"
   },
   {
    "duration": 18,
    "start_time": "2022-11-10T07:19:34.755Z"
   },
   {
    "duration": 7,
    "start_time": "2022-11-10T07:20:03.050Z"
   },
   {
    "duration": 4,
    "start_time": "2022-11-10T07:20:35.681Z"
   },
   {
    "duration": 22,
    "start_time": "2022-11-10T07:21:36.351Z"
   },
   {
    "duration": 13,
    "start_time": "2022-11-10T07:24:34.597Z"
   },
   {
    "duration": 15,
    "start_time": "2022-11-10T07:24:38.633Z"
   },
   {
    "duration": 15,
    "start_time": "2022-11-10T07:27:55.171Z"
   },
   {
    "duration": 6,
    "start_time": "2022-11-10T07:30:32.517Z"
   },
   {
    "duration": 12,
    "start_time": "2022-11-10T07:30:52.479Z"
   },
   {
    "duration": 5,
    "start_time": "2022-11-10T07:32:36.298Z"
   },
   {
    "duration": 5,
    "start_time": "2022-11-10T07:32:49.537Z"
   },
   {
    "duration": 26,
    "start_time": "2022-11-10T07:34:26.174Z"
   },
   {
    "duration": 8,
    "start_time": "2022-11-10T07:34:44.021Z"
   },
   {
    "duration": 194,
    "start_time": "2022-11-10T07:35:09.317Z"
   },
   {
    "duration": 5,
    "start_time": "2022-11-10T07:35:13.101Z"
   },
   {
    "duration": 6,
    "start_time": "2022-11-10T07:36:26.274Z"
   },
   {
    "duration": 6,
    "start_time": "2022-11-10T07:38:31.446Z"
   },
   {
    "duration": 11,
    "start_time": "2022-11-10T07:59:46.793Z"
   },
   {
    "duration": 4,
    "start_time": "2022-11-10T08:01:58.741Z"
   },
   {
    "duration": 42,
    "start_time": "2022-11-10T08:02:13.589Z"
   },
   {
    "duration": 4,
    "start_time": "2022-11-10T08:02:50.236Z"
   },
   {
    "duration": 4,
    "start_time": "2022-11-10T08:03:30.706Z"
   },
   {
    "duration": 5,
    "start_time": "2022-11-10T08:03:36.346Z"
   },
   {
    "duration": 55,
    "start_time": "2022-11-11T07:37:41.613Z"
   },
   {
    "duration": 398,
    "start_time": "2022-11-11T07:38:03.684Z"
   },
   {
    "duration": 28,
    "start_time": "2022-11-11T07:38:08.492Z"
   },
   {
    "duration": 189,
    "start_time": "2022-11-11T07:38:12.612Z"
   },
   {
    "duration": 19,
    "start_time": "2022-11-11T07:38:15.125Z"
   },
   {
    "duration": 8,
    "start_time": "2022-11-11T07:38:15.643Z"
   },
   {
    "duration": 6,
    "start_time": "2022-11-11T07:38:16.363Z"
   },
   {
    "duration": 15,
    "start_time": "2022-11-11T07:38:17.011Z"
   },
   {
    "duration": 15,
    "start_time": "2022-11-11T07:38:17.676Z"
   },
   {
    "duration": 10,
    "start_time": "2022-11-11T07:38:18.299Z"
   },
   {
    "duration": 5,
    "start_time": "2022-11-11T07:38:18.883Z"
   },
   {
    "duration": 4,
    "start_time": "2022-11-11T07:38:19.531Z"
   },
   {
    "duration": 11,
    "start_time": "2022-11-11T07:38:20.307Z"
   },
   {
    "duration": 6,
    "start_time": "2022-11-11T07:38:21.027Z"
   },
   {
    "duration": 4,
    "start_time": "2022-11-11T07:38:21.859Z"
   },
   {
    "duration": 3,
    "start_time": "2022-11-11T07:38:22.243Z"
   },
   {
    "duration": 4,
    "start_time": "2022-11-11T07:38:22.595Z"
   },
   {
    "duration": 7,
    "start_time": "2022-11-11T07:38:23.491Z"
   },
   {
    "duration": 9,
    "start_time": "2022-11-11T07:39:49.905Z"
   },
   {
    "duration": 10,
    "start_time": "2022-11-11T07:40:02.176Z"
   },
   {
    "duration": 4,
    "start_time": "2022-11-11T07:46:21.603Z"
   },
   {
    "duration": 404,
    "start_time": "2022-11-11T12:34:55.900Z"
   },
   {
    "duration": 185,
    "start_time": "2022-11-11T12:34:56.315Z"
   },
   {
    "duration": 23,
    "start_time": "2022-11-11T12:34:57.189Z"
   },
   {
    "duration": 10,
    "start_time": "2022-11-11T12:34:57.565Z"
   },
   {
    "duration": 5,
    "start_time": "2022-11-11T12:34:58.277Z"
   },
   {
    "duration": 22,
    "start_time": "2022-11-11T12:34:58.924Z"
   },
   {
    "duration": 17,
    "start_time": "2022-11-11T12:34:59.677Z"
   },
   {
    "duration": 13,
    "start_time": "2022-11-11T12:35:00.477Z"
   },
   {
    "duration": 7,
    "start_time": "2022-11-11T12:35:01.460Z"
   },
   {
    "duration": 5,
    "start_time": "2022-11-11T12:35:02.060Z"
   },
   {
    "duration": 15,
    "start_time": "2022-11-11T12:35:02.500Z"
   },
   {
    "duration": 6,
    "start_time": "2022-11-11T12:35:02.916Z"
   },
   {
    "duration": 5,
    "start_time": "2022-11-11T12:35:03.323Z"
   },
   {
    "duration": 4,
    "start_time": "2022-11-11T12:35:03.645Z"
   },
   {
    "duration": 4,
    "start_time": "2022-11-11T12:35:03.948Z"
   },
   {
    "duration": 14,
    "start_time": "2022-11-11T12:35:04.708Z"
   },
   {
    "duration": 4,
    "start_time": "2022-11-11T12:35:05.766Z"
   },
   {
    "duration": 95,
    "start_time": "2022-11-11T12:47:56.185Z"
   },
   {
    "duration": 3,
    "start_time": "2022-11-11T12:48:03.179Z"
   },
   {
    "duration": 4,
    "start_time": "2022-11-11T12:48:21.235Z"
   },
   {
    "duration": 61,
    "start_time": "2022-11-11T12:48:56.433Z"
   },
   {
    "duration": 6,
    "start_time": "2022-11-11T12:49:58.050Z"
   },
   {
    "duration": 7,
    "start_time": "2022-11-11T13:19:58.342Z"
   },
   {
    "duration": 651,
    "start_time": "2022-11-11T13:23:11.705Z"
   },
   {
    "duration": 40,
    "start_time": "2022-11-11T13:23:17.256Z"
   },
   {
    "duration": 9,
    "start_time": "2022-11-11T13:25:00.248Z"
   },
   {
    "duration": 20,
    "start_time": "2022-11-11T13:25:15.709Z"
   },
   {
    "duration": 18,
    "start_time": "2022-11-11T13:28:02.864Z"
   },
   {
    "duration": 16,
    "start_time": "2022-11-11T13:28:07.384Z"
   },
   {
    "duration": 5,
    "start_time": "2022-11-11T13:46:41.190Z"
   },
   {
    "duration": 4,
    "start_time": "2022-11-11T13:46:51.125Z"
   },
   {
    "duration": 4,
    "start_time": "2022-11-11T13:47:09.404Z"
   },
   {
    "duration": 4,
    "start_time": "2022-11-11T13:47:17.350Z"
   },
   {
    "duration": 8,
    "start_time": "2022-11-11T13:48:06.387Z"
   },
   {
    "duration": 9,
    "start_time": "2022-11-11T13:48:22.067Z"
   },
   {
    "duration": 9,
    "start_time": "2022-11-11T13:49:36.048Z"
   },
   {
    "duration": 16,
    "start_time": "2022-11-11T13:50:50.165Z"
   },
   {
    "duration": 3,
    "start_time": "2022-11-11T14:10:55.759Z"
   },
   {
    "duration": 16,
    "start_time": "2022-11-11T14:10:59.127Z"
   },
   {
    "duration": 3,
    "start_time": "2022-11-11T14:11:15.479Z"
   },
   {
    "duration": 3,
    "start_time": "2022-11-11T14:11:19.150Z"
   },
   {
    "duration": 49,
    "start_time": "2022-11-11T14:11:19.541Z"
   },
   {
    "duration": 11,
    "start_time": "2022-11-11T14:11:20.231Z"
   },
   {
    "duration": 6,
    "start_time": "2022-11-11T14:11:20.438Z"
   },
   {
    "duration": 5,
    "start_time": "2022-11-11T14:11:20.774Z"
   },
   {
    "duration": 15,
    "start_time": "2022-11-11T14:11:21.134Z"
   },
   {
    "duration": 13,
    "start_time": "2022-11-11T14:11:21.478Z"
   },
   {
    "duration": 8,
    "start_time": "2022-11-11T14:11:21.862Z"
   },
   {
    "duration": 5,
    "start_time": "2022-11-11T14:11:22.230Z"
   },
   {
    "duration": 5,
    "start_time": "2022-11-11T14:11:22.619Z"
   },
   {
    "duration": 13,
    "start_time": "2022-11-11T14:11:23.021Z"
   },
   {
    "duration": 5,
    "start_time": "2022-11-11T14:11:23.430Z"
   },
   {
    "duration": 4,
    "start_time": "2022-11-11T14:11:23.910Z"
   },
   {
    "duration": 4,
    "start_time": "2022-11-11T14:11:24.237Z"
   },
   {
    "duration": 4,
    "start_time": "2022-11-11T14:11:24.469Z"
   },
   {
    "duration": 4,
    "start_time": "2022-11-11T14:11:25.069Z"
   },
   {
    "duration": 9,
    "start_time": "2022-11-11T14:11:25.478Z"
   },
   {
    "duration": 4,
    "start_time": "2022-11-11T14:11:26.109Z"
   },
   {
    "duration": 6,
    "start_time": "2022-11-11T14:11:26.709Z"
   },
   {
    "duration": 5,
    "start_time": "2022-11-11T14:11:27.454Z"
   },
   {
    "duration": 18,
    "start_time": "2022-11-11T14:11:29.029Z"
   },
   {
    "duration": 3,
    "start_time": "2022-11-11T14:11:52.980Z"
   },
   {
    "duration": 47,
    "start_time": "2022-11-11T14:11:53.341Z"
   },
   {
    "duration": 12,
    "start_time": "2022-11-11T14:11:53.701Z"
   },
   {
    "duration": 8,
    "start_time": "2022-11-11T14:11:53.877Z"
   },
   {
    "duration": 5,
    "start_time": "2022-11-11T14:11:54.212Z"
   },
   {
    "duration": 21,
    "start_time": "2022-11-11T14:11:54.577Z"
   },
   {
    "duration": 15,
    "start_time": "2022-11-11T14:11:54.933Z"
   },
   {
    "duration": 9,
    "start_time": "2022-11-11T14:11:55.301Z"
   },
   {
    "duration": 5,
    "start_time": "2022-11-11T14:11:55.669Z"
   },
   {
    "duration": 5,
    "start_time": "2022-11-11T14:11:56.052Z"
   },
   {
    "duration": 11,
    "start_time": "2022-11-11T14:11:56.484Z"
   },
   {
    "duration": 5,
    "start_time": "2022-11-11T14:11:56.876Z"
   },
   {
    "duration": 4,
    "start_time": "2022-11-11T14:11:57.276Z"
   },
   {
    "duration": 5,
    "start_time": "2022-11-11T14:11:57.476Z"
   },
   {
    "duration": 4,
    "start_time": "2022-11-11T14:11:57.660Z"
   },
   {
    "duration": 9,
    "start_time": "2022-11-11T14:11:58.268Z"
   },
   {
    "duration": 5,
    "start_time": "2022-11-11T14:11:58.669Z"
   },
   {
    "duration": 7,
    "start_time": "2022-11-11T14:11:59.076Z"
   },
   {
    "duration": 6,
    "start_time": "2022-11-11T14:11:59.468Z"
   },
   {
    "duration": 17,
    "start_time": "2022-11-11T14:12:00.333Z"
   },
   {
    "duration": 8,
    "start_time": "2022-11-11T14:13:35.723Z"
   },
   {
    "duration": 3,
    "start_time": "2022-11-11T14:14:19.752Z"
   },
   {
    "duration": 5,
    "start_time": "2022-11-11T14:14:28.864Z"
   },
   {
    "duration": 3,
    "start_time": "2022-11-11T14:14:37.552Z"
   },
   {
    "duration": 2,
    "start_time": "2022-11-11T14:14:49.607Z"
   },
   {
    "duration": 46,
    "start_time": "2022-11-11T14:14:49.927Z"
   },
   {
    "duration": 11,
    "start_time": "2022-11-11T14:14:50.295Z"
   },
   {
    "duration": 6,
    "start_time": "2022-11-11T14:14:50.455Z"
   },
   {
    "duration": 4,
    "start_time": "2022-11-11T14:14:50.808Z"
   },
   {
    "duration": 15,
    "start_time": "2022-11-11T14:14:51.319Z"
   },
   {
    "duration": 17,
    "start_time": "2022-11-11T14:14:51.735Z"
   },
   {
    "duration": 10,
    "start_time": "2022-11-11T14:14:52.207Z"
   },
   {
    "duration": 5,
    "start_time": "2022-11-11T14:14:52.912Z"
   },
   {
    "duration": 4,
    "start_time": "2022-11-11T14:14:53.815Z"
   },
   {
    "duration": 11,
    "start_time": "2022-11-11T14:14:54.351Z"
   },
   {
    "duration": 5,
    "start_time": "2022-11-11T14:14:55.087Z"
   },
   {
    "duration": 4,
    "start_time": "2022-11-11T14:14:56.208Z"
   },
   {
    "duration": 4,
    "start_time": "2022-11-11T14:14:56.559Z"
   },
   {
    "duration": 5,
    "start_time": "2022-11-11T14:14:56.862Z"
   },
   {
    "duration": 5,
    "start_time": "2022-11-11T14:14:57.655Z"
   },
   {
    "duration": 3,
    "start_time": "2022-11-11T14:14:58.783Z"
   },
   {
    "duration": 5,
    "start_time": "2022-11-11T14:15:49.533Z"
   },
   {
    "duration": 6,
    "start_time": "2022-11-11T14:15:51.910Z"
   },
   {
    "duration": 19,
    "start_time": "2022-11-11T14:15:54.238Z"
   },
   {
    "duration": 7,
    "start_time": "2022-11-11T14:16:52.589Z"
   },
   {
    "duration": 9,
    "start_time": "2022-11-11T14:17:07.827Z"
   },
   {
    "duration": 8,
    "start_time": "2022-11-11T14:17:14.203Z"
   },
   {
    "duration": 3,
    "start_time": "2022-11-11T14:17:16.979Z"
   },
   {
    "duration": 8,
    "start_time": "2022-11-11T14:17:52.034Z"
   },
   {
    "duration": 6,
    "start_time": "2022-11-11T14:17:55.001Z"
   },
   {
    "duration": 11,
    "start_time": "2022-11-11T14:18:17.529Z"
   },
   {
    "duration": 14,
    "start_time": "2022-11-11T14:19:19.582Z"
   },
   {
    "duration": 4,
    "start_time": "2022-11-11T14:24:18.333Z"
   },
   {
    "duration": 16,
    "start_time": "2022-11-11T14:24:20.621Z"
   },
   {
    "duration": 764,
    "start_time": "2022-11-11T14:24:26.861Z"
   },
   {
    "duration": 10,
    "start_time": "2022-11-11T14:24:41.045Z"
   },
   {
    "duration": 3,
    "start_time": "2022-11-11T14:25:08.494Z"
   },
   {
    "duration": 48,
    "start_time": "2022-11-11T14:25:08.852Z"
   },
   {
    "duration": 13,
    "start_time": "2022-11-11T14:25:09.524Z"
   },
   {
    "duration": 7,
    "start_time": "2022-11-11T14:25:09.732Z"
   },
   {
    "duration": 4,
    "start_time": "2022-11-11T14:25:11.252Z"
   },
   {
    "duration": 16,
    "start_time": "2022-11-11T14:25:11.684Z"
   },
   {
    "duration": 15,
    "start_time": "2022-11-11T14:25:12.084Z"
   },
   {
    "duration": 10,
    "start_time": "2022-11-11T14:25:12.467Z"
   },
   {
    "duration": 6,
    "start_time": "2022-11-11T14:25:12.835Z"
   },
   {
    "duration": 4,
    "start_time": "2022-11-11T14:25:13.221Z"
   },
   {
    "duration": 12,
    "start_time": "2022-11-11T14:25:13.907Z"
   },
   {
    "duration": 5,
    "start_time": "2022-11-11T14:25:14.411Z"
   },
   {
    "duration": 4,
    "start_time": "2022-11-11T14:25:14.932Z"
   },
   {
    "duration": 4,
    "start_time": "2022-11-11T14:25:15.228Z"
   },
   {
    "duration": 3,
    "start_time": "2022-11-11T14:25:15.468Z"
   },
   {
    "duration": 9,
    "start_time": "2022-11-11T14:25:16.084Z"
   },
   {
    "duration": 4,
    "start_time": "2022-11-11T14:25:16.747Z"
   },
   {
    "duration": 8,
    "start_time": "2022-11-11T14:25:17.212Z"
   },
   {
    "duration": 7,
    "start_time": "2022-11-11T14:25:17.707Z"
   },
   {
    "duration": 4,
    "start_time": "2022-11-11T14:25:18.459Z"
   },
   {
    "duration": 17,
    "start_time": "2022-11-11T14:25:18.925Z"
   },
   {
    "duration": 12,
    "start_time": "2022-11-11T14:25:23.243Z"
   },
   {
    "duration": 6,
    "start_time": "2022-11-11T14:25:47.915Z"
   },
   {
    "duration": 12,
    "start_time": "2022-11-11T14:26:13.154Z"
   },
   {
    "duration": 3,
    "start_time": "2022-11-11T14:26:40.026Z"
   },
   {
    "duration": 52,
    "start_time": "2022-11-11T14:26:40.162Z"
   },
   {
    "duration": 13,
    "start_time": "2022-11-11T14:26:40.482Z"
   },
   {
    "duration": 7,
    "start_time": "2022-11-11T14:26:40.642Z"
   },
   {
    "duration": 5,
    "start_time": "2022-11-11T14:26:40.929Z"
   },
   {
    "duration": 18,
    "start_time": "2022-11-11T14:26:41.225Z"
   },
   {
    "duration": 16,
    "start_time": "2022-11-11T14:26:41.521Z"
   },
   {
    "duration": 11,
    "start_time": "2022-11-11T14:26:41.840Z"
   },
   {
    "duration": 5,
    "start_time": "2022-11-11T14:26:42.161Z"
   },
   {
    "duration": 5,
    "start_time": "2022-11-11T14:26:42.616Z"
   },
   {
    "duration": 11,
    "start_time": "2022-11-11T14:26:42.985Z"
   },
   {
    "duration": 4,
    "start_time": "2022-11-11T14:26:43.384Z"
   },
   {
    "duration": 4,
    "start_time": "2022-11-11T14:26:44.001Z"
   },
   {
    "duration": 3,
    "start_time": "2022-11-11T14:26:44.217Z"
   },
   {
    "duration": 4,
    "start_time": "2022-11-11T14:26:44.457Z"
   },
   {
    "duration": 10,
    "start_time": "2022-11-11T14:26:45.097Z"
   },
   {
    "duration": 4,
    "start_time": "2022-11-11T14:26:46.345Z"
   },
   {
    "duration": 7,
    "start_time": "2022-11-11T14:26:46.793Z"
   },
   {
    "duration": 6,
    "start_time": "2022-11-11T14:26:47.208Z"
   },
   {
    "duration": 3,
    "start_time": "2022-11-11T14:26:47.600Z"
   },
   {
    "duration": 17,
    "start_time": "2022-11-11T14:26:48.281Z"
   },
   {
    "duration": 12,
    "start_time": "2022-11-11T14:26:54.456Z"
   },
   {
    "duration": 13,
    "start_time": "2022-11-11T14:27:17.216Z"
   },
   {
    "duration": 4,
    "start_time": "2022-11-11T14:27:47.672Z"
   },
   {
    "duration": 3,
    "start_time": "2022-11-11T14:27:52.999Z"
   },
   {
    "duration": 47,
    "start_time": "2022-11-11T14:27:53.150Z"
   },
   {
    "duration": 12,
    "start_time": "2022-11-11T14:27:53.480Z"
   },
   {
    "duration": 8,
    "start_time": "2022-11-11T14:27:53.639Z"
   },
   {
    "duration": 4,
    "start_time": "2022-11-11T14:27:53.951Z"
   },
   {
    "duration": 16,
    "start_time": "2022-11-11T14:27:54.279Z"
   },
   {
    "duration": 19,
    "start_time": "2022-11-11T14:27:54.599Z"
   },
   {
    "duration": 11,
    "start_time": "2022-11-11T14:27:54.934Z"
   },
   {
    "duration": 6,
    "start_time": "2022-11-11T14:27:55.278Z"
   },
   {
    "duration": 4,
    "start_time": "2022-11-11T14:27:55.622Z"
   },
   {
    "duration": 12,
    "start_time": "2022-11-11T14:27:55.983Z"
   },
   {
    "duration": 5,
    "start_time": "2022-11-11T14:27:56.446Z"
   },
   {
    "duration": 4,
    "start_time": "2022-11-11T14:27:57.134Z"
   },
   {
    "duration": 4,
    "start_time": "2022-11-11T14:27:57.479Z"
   },
   {
    "duration": 4,
    "start_time": "2022-11-11T14:27:57.798Z"
   },
   {
    "duration": 5,
    "start_time": "2022-11-11T14:27:58.446Z"
   },
   {
    "duration": 8,
    "start_time": "2022-11-11T14:27:59.184Z"
   },
   {
    "duration": 4,
    "start_time": "2022-11-11T14:28:02.294Z"
   },
   {
    "duration": 7,
    "start_time": "2022-11-11T14:28:02.687Z"
   },
   {
    "duration": 7,
    "start_time": "2022-11-11T14:28:03.070Z"
   },
   {
    "duration": 20,
    "start_time": "2022-11-11T14:28:04.058Z"
   },
   {
    "duration": 813,
    "start_time": "2022-11-11T14:29:35.396Z"
   },
   {
    "duration": 3,
    "start_time": "2022-11-11T14:29:45.636Z"
   },
   {
    "duration": 51,
    "start_time": "2022-11-11T14:29:45.780Z"
   },
   {
    "duration": 13,
    "start_time": "2022-11-11T14:29:46.091Z"
   },
   {
    "duration": 7,
    "start_time": "2022-11-11T14:29:46.236Z"
   },
   {
    "duration": 5,
    "start_time": "2022-11-11T14:29:46.546Z"
   },
   {
    "duration": 16,
    "start_time": "2022-11-11T14:29:46.923Z"
   },
   {
    "duration": 17,
    "start_time": "2022-11-11T14:29:54.835Z"
   },
   {
    "duration": 15,
    "start_time": "2022-11-11T14:29:55.376Z"
   },
   {
    "duration": 6,
    "start_time": "2022-11-11T14:29:55.891Z"
   },
   {
    "duration": 6,
    "start_time": "2022-11-11T14:29:56.506Z"
   },
   {
    "duration": 16,
    "start_time": "2022-11-11T14:29:56.987Z"
   },
   {
    "duration": 5,
    "start_time": "2022-11-11T14:29:57.707Z"
   },
   {
    "duration": 5,
    "start_time": "2022-11-11T14:29:58.403Z"
   },
   {
    "duration": 5,
    "start_time": "2022-11-11T14:29:59.176Z"
   },
   {
    "duration": 4,
    "start_time": "2022-11-11T14:29:59.402Z"
   },
   {
    "duration": 2,
    "start_time": "2022-11-11T14:30:00.291Z"
   },
   {
    "duration": 7,
    "start_time": "2022-11-11T14:30:01.291Z"
   },
   {
    "duration": 10,
    "start_time": "2022-11-11T14:30:02.579Z"
   },
   {
    "duration": 4,
    "start_time": "2022-11-11T14:30:03.234Z"
   },
   {
    "duration": 7,
    "start_time": "2022-11-11T14:30:03.618Z"
   },
   {
    "duration": 6,
    "start_time": "2022-11-11T14:30:04.018Z"
   },
   {
    "duration": 27,
    "start_time": "2022-11-11T14:30:04.748Z"
   },
   {
    "duration": 12,
    "start_time": "2022-11-11T14:30:05.374Z"
   },
   {
    "duration": 5,
    "start_time": "2022-11-11T14:31:21.729Z"
   },
   {
    "duration": 17,
    "start_time": "2022-11-11T14:31:26.025Z"
   },
   {
    "duration": 2,
    "start_time": "2022-11-11T14:31:32.888Z"
   },
   {
    "duration": 52,
    "start_time": "2022-11-11T14:31:33.024Z"
   },
   {
    "duration": 12,
    "start_time": "2022-11-11T14:31:33.344Z"
   },
   {
    "duration": 6,
    "start_time": "2022-11-11T14:31:33.512Z"
   },
   {
    "duration": 4,
    "start_time": "2022-11-11T14:31:33.824Z"
   },
   {
    "duration": 19,
    "start_time": "2022-11-11T14:31:34.152Z"
   },
   {
    "duration": 14,
    "start_time": "2022-11-11T14:31:34.502Z"
   },
   {
    "duration": 14,
    "start_time": "2022-11-11T14:31:34.848Z"
   },
   {
    "duration": 6,
    "start_time": "2022-11-11T14:31:35.328Z"
   },
   {
    "duration": 5,
    "start_time": "2022-11-11T14:31:35.727Z"
   },
   {
    "duration": 11,
    "start_time": "2022-11-11T14:31:36.135Z"
   },
   {
    "duration": 5,
    "start_time": "2022-11-11T14:31:36.527Z"
   },
   {
    "duration": 4,
    "start_time": "2022-11-11T14:31:36.888Z"
   },
   {
    "duration": 5,
    "start_time": "2022-11-11T14:31:37.080Z"
   },
   {
    "duration": 5,
    "start_time": "2022-11-11T14:31:37.880Z"
   },
   {
    "duration": 6,
    "start_time": "2022-11-11T14:31:38.543Z"
   },
   {
    "duration": 11,
    "start_time": "2022-11-11T14:31:39.416Z"
   },
   {
    "duration": 5,
    "start_time": "2022-11-11T14:31:39.895Z"
   },
   {
    "duration": 7,
    "start_time": "2022-11-11T14:31:40.240Z"
   },
   {
    "duration": 6,
    "start_time": "2022-11-11T14:31:40.727Z"
   },
   {
    "duration": 25,
    "start_time": "2022-11-11T14:31:42.216Z"
   },
   {
    "duration": 3,
    "start_time": "2022-11-11T14:33:03.605Z"
   },
   {
    "duration": 62,
    "start_time": "2022-11-11T14:33:03.758Z"
   },
   {
    "duration": 11,
    "start_time": "2022-11-11T14:33:04.083Z"
   },
   {
    "duration": 10,
    "start_time": "2022-11-11T14:33:04.262Z"
   },
   {
    "duration": 6,
    "start_time": "2022-11-11T14:33:04.576Z"
   },
   {
    "duration": 21,
    "start_time": "2022-11-11T14:33:04.865Z"
   },
   {
    "duration": 15,
    "start_time": "2022-11-11T14:33:05.197Z"
   },
   {
    "duration": 9,
    "start_time": "2022-11-11T14:33:05.517Z"
   },
   {
    "duration": 5,
    "start_time": "2022-11-11T14:33:05.836Z"
   },
   {
    "duration": 9,
    "start_time": "2022-11-11T14:33:06.183Z"
   },
   {
    "duration": 10,
    "start_time": "2022-11-11T14:33:06.485Z"
   },
   {
    "duration": 12,
    "start_time": "2022-11-11T14:33:06.865Z"
   },
   {
    "duration": 4,
    "start_time": "2022-11-11T14:33:07.452Z"
   },
   {
    "duration": 4,
    "start_time": "2022-11-11T14:33:07.820Z"
   },
   {
    "duration": 6,
    "start_time": "2022-11-11T14:33:08.082Z"
   },
   {
    "duration": 9,
    "start_time": "2022-11-11T14:33:08.453Z"
   },
   {
    "duration": 8,
    "start_time": "2022-11-11T14:33:09.126Z"
   },
   {
    "duration": 11,
    "start_time": "2022-11-11T14:33:09.675Z"
   },
   {
    "duration": 5,
    "start_time": "2022-11-11T14:33:40.300Z"
   },
   {
    "duration": 4,
    "start_time": "2022-11-11T14:33:46.219Z"
   },
   {
    "duration": 16,
    "start_time": "2022-11-11T14:34:25.211Z"
   },
   {
    "duration": 4,
    "start_time": "2022-11-11T14:34:39.679Z"
   },
   {
    "duration": 61,
    "start_time": "2022-11-11T14:34:39.841Z"
   },
   {
    "duration": 14,
    "start_time": "2022-11-11T14:34:40.180Z"
   },
   {
    "duration": 7,
    "start_time": "2022-11-11T14:34:40.345Z"
   },
   {
    "duration": 6,
    "start_time": "2022-11-11T14:34:40.683Z"
   },
   {
    "duration": 17,
    "start_time": "2022-11-11T14:34:41.011Z"
   },
   {
    "duration": 19,
    "start_time": "2022-11-11T14:34:41.339Z"
   },
   {
    "duration": 18,
    "start_time": "2022-11-11T14:34:41.658Z"
   },
   {
    "duration": 6,
    "start_time": "2022-11-11T14:34:41.994Z"
   },
   {
    "duration": 7,
    "start_time": "2022-11-11T14:34:42.353Z"
   },
   {
    "duration": 13,
    "start_time": "2022-11-11T14:34:42.689Z"
   },
   {
    "duration": 6,
    "start_time": "2022-11-11T14:34:43.058Z"
   },
   {
    "duration": 6,
    "start_time": "2022-11-11T14:34:43.776Z"
   },
   {
    "duration": 4,
    "start_time": "2022-11-11T14:34:44.122Z"
   },
   {
    "duration": 5,
    "start_time": "2022-11-11T14:34:44.338Z"
   },
   {
    "duration": 8,
    "start_time": "2022-11-11T14:34:45.193Z"
   },
   {
    "duration": 13,
    "start_time": "2022-11-11T14:35:02.713Z"
   },
   {
    "duration": 3,
    "start_time": "2022-11-11T14:35:07.387Z"
   },
   {
    "duration": 69,
    "start_time": "2022-11-11T14:35:07.553Z"
   },
   {
    "duration": 12,
    "start_time": "2022-11-11T14:35:07.994Z"
   },
   {
    "duration": 7,
    "start_time": "2022-11-11T14:35:08.145Z"
   },
   {
    "duration": 7,
    "start_time": "2022-11-11T14:35:08.457Z"
   },
   {
    "duration": 19,
    "start_time": "2022-11-11T14:35:08.788Z"
   },
   {
    "duration": 16,
    "start_time": "2022-11-11T14:35:09.081Z"
   },
   {
    "duration": 9,
    "start_time": "2022-11-11T14:35:09.386Z"
   },
   {
    "duration": 6,
    "start_time": "2022-11-11T14:35:09.704Z"
   },
   {
    "duration": 5,
    "start_time": "2022-11-11T14:35:10.008Z"
   },
   {
    "duration": 13,
    "start_time": "2022-11-11T14:35:10.336Z"
   },
   {
    "duration": 6,
    "start_time": "2022-11-11T14:35:10.678Z"
   },
   {
    "duration": 7,
    "start_time": "2022-11-11T14:35:11.017Z"
   },
   {
    "duration": 4,
    "start_time": "2022-11-11T14:35:11.440Z"
   },
   {
    "duration": 4,
    "start_time": "2022-11-11T14:35:11.809Z"
   },
   {
    "duration": 11,
    "start_time": "2022-11-11T14:35:12.584Z"
   },
   {
    "duration": 5,
    "start_time": "2022-11-11T14:35:13.448Z"
   },
   {
    "duration": 11,
    "start_time": "2022-11-11T14:35:17.800Z"
   },
   {
    "duration": 4,
    "start_time": "2022-11-11T14:35:18.486Z"
   },
   {
    "duration": 7,
    "start_time": "2022-11-11T14:35:19.112Z"
   },
   {
    "duration": 7,
    "start_time": "2022-11-11T14:35:19.792Z"
   },
   {
    "duration": 16,
    "start_time": "2022-11-11T14:35:21.096Z"
   },
   {
    "duration": 1050,
    "start_time": "2022-11-11T14:35:27.200Z"
   },
   {
    "duration": 12,
    "start_time": "2022-11-11T14:35:40.649Z"
   },
   {
    "duration": 14,
    "start_time": "2022-11-11T14:36:32.615Z"
   },
   {
    "duration": 3,
    "start_time": "2022-11-11T14:36:36.207Z"
   },
   {
    "duration": 48,
    "start_time": "2022-11-11T14:36:36.382Z"
   },
   {
    "duration": 13,
    "start_time": "2022-11-11T14:36:36.689Z"
   },
   {
    "duration": 7,
    "start_time": "2022-11-11T14:36:36.838Z"
   },
   {
    "duration": 4,
    "start_time": "2022-11-11T14:36:37.134Z"
   },
   {
    "duration": 19,
    "start_time": "2022-11-11T14:36:37.445Z"
   },
   {
    "duration": 15,
    "start_time": "2022-11-11T14:36:37.742Z"
   },
   {
    "duration": 15,
    "start_time": "2022-11-11T14:36:38.065Z"
   },
   {
    "duration": 6,
    "start_time": "2022-11-11T14:36:38.385Z"
   },
   {
    "duration": 4,
    "start_time": "2022-11-11T14:36:38.710Z"
   },
   {
    "duration": 10,
    "start_time": "2022-11-11T14:36:39.046Z"
   },
   {
    "duration": 5,
    "start_time": "2022-11-11T14:36:39.390Z"
   },
   {
    "duration": 4,
    "start_time": "2022-11-11T14:36:40.038Z"
   },
   {
    "duration": 4,
    "start_time": "2022-11-11T14:36:40.526Z"
   },
   {
    "duration": 6,
    "start_time": "2022-11-11T14:36:42.079Z"
   },
   {
    "duration": 13,
    "start_time": "2022-11-11T14:36:43.054Z"
   },
   {
    "duration": 8,
    "start_time": "2022-11-11T14:36:44.310Z"
   },
   {
    "duration": 5,
    "start_time": "2022-11-11T14:36:44.813Z"
   },
   {
    "duration": 6,
    "start_time": "2022-11-11T14:36:45.191Z"
   },
   {
    "duration": 6,
    "start_time": "2022-11-11T14:36:45.598Z"
   },
   {
    "duration": 162,
    "start_time": "2022-11-11T14:36:46.598Z"
   },
   {
    "duration": 565,
    "start_time": "2022-11-11T14:37:02.910Z"
   },
   {
    "duration": 21,
    "start_time": "2022-11-11T14:37:05.161Z"
   },
   {
    "duration": 3,
    "start_time": "2022-11-11T14:37:29.173Z"
   },
   {
    "duration": 58,
    "start_time": "2022-11-11T14:37:29.325Z"
   },
   {
    "duration": 16,
    "start_time": "2022-11-11T14:37:29.653Z"
   },
   {
    "duration": 10,
    "start_time": "2022-11-11T14:37:29.796Z"
   },
   {
    "duration": 6,
    "start_time": "2022-11-11T14:37:30.100Z"
   },
   {
    "duration": 20,
    "start_time": "2022-11-11T14:37:30.405Z"
   },
   {
    "duration": 19,
    "start_time": "2022-11-11T14:37:30.733Z"
   },
   {
    "duration": 13,
    "start_time": "2022-11-11T14:37:31.036Z"
   },
   {
    "duration": 7,
    "start_time": "2022-11-11T14:37:31.374Z"
   },
   {
    "duration": 5,
    "start_time": "2022-11-11T14:37:31.732Z"
   },
   {
    "duration": 10,
    "start_time": "2022-11-11T14:37:32.196Z"
   },
   {
    "duration": 4,
    "start_time": "2022-11-11T14:37:32.836Z"
   },
   {
    "duration": 4,
    "start_time": "2022-11-11T14:37:33.684Z"
   },
   {
    "duration": 3,
    "start_time": "2022-11-11T14:37:34.075Z"
   },
   {
    "duration": 4,
    "start_time": "2022-11-11T14:37:34.284Z"
   },
   {
    "duration": 11,
    "start_time": "2022-11-11T14:37:35.084Z"
   },
   {
    "duration": 9,
    "start_time": "2022-11-11T14:37:36.004Z"
   },
   {
    "duration": 4,
    "start_time": "2022-11-11T14:37:37.404Z"
   },
   {
    "duration": 6,
    "start_time": "2022-11-11T14:37:37.900Z"
   },
   {
    "duration": 7,
    "start_time": "2022-11-11T14:37:38.748Z"
   },
   {
    "duration": 886,
    "start_time": "2022-11-11T14:37:39.574Z"
   },
   {
    "duration": 105,
    "start_time": "2022-11-11T14:37:40.462Z"
   },
   {
    "duration": 13,
    "start_time": "2022-11-11T14:38:32.074Z"
   },
   {
    "duration": 3,
    "start_time": "2022-11-11T14:38:36.187Z"
   },
   {
    "duration": 51,
    "start_time": "2022-11-11T14:38:36.354Z"
   },
   {
    "duration": 25,
    "start_time": "2022-11-11T14:38:36.651Z"
   },
   {
    "duration": 7,
    "start_time": "2022-11-11T14:38:36.819Z"
   },
   {
    "duration": 5,
    "start_time": "2022-11-11T14:38:37.098Z"
   },
   {
    "duration": 15,
    "start_time": "2022-11-11T14:38:37.412Z"
   },
   {
    "duration": 15,
    "start_time": "2022-11-11T14:38:37.698Z"
   },
   {
    "duration": 10,
    "start_time": "2022-11-11T14:38:38.018Z"
   },
   {
    "duration": 6,
    "start_time": "2022-11-11T14:38:38.322Z"
   },
   {
    "duration": 5,
    "start_time": "2022-11-11T14:38:38.618Z"
   },
   {
    "duration": 11,
    "start_time": "2022-11-11T14:38:38.938Z"
   },
   {
    "duration": 4,
    "start_time": "2022-11-11T14:38:39.243Z"
   },
   {
    "duration": 4,
    "start_time": "2022-11-11T14:38:39.546Z"
   },
   {
    "duration": 4,
    "start_time": "2022-11-11T14:38:39.706Z"
   },
   {
    "duration": 5,
    "start_time": "2022-11-11T14:38:40.026Z"
   },
   {
    "duration": 11,
    "start_time": "2022-11-11T14:38:40.373Z"
   },
   {
    "duration": 9,
    "start_time": "2022-11-11T14:38:40.578Z"
   },
   {
    "duration": 4,
    "start_time": "2022-11-11T14:38:41.946Z"
   },
   {
    "duration": 6,
    "start_time": "2022-11-11T14:38:42.434Z"
   },
   {
    "duration": 5,
    "start_time": "2022-11-11T14:38:42.986Z"
   },
   {
    "duration": 788,
    "start_time": "2022-11-11T14:38:43.572Z"
   },
   {
    "duration": 94,
    "start_time": "2022-11-11T14:38:44.366Z"
   },
   {
    "duration": 13,
    "start_time": "2022-11-11T14:39:10.394Z"
   },
   {
    "duration": 3,
    "start_time": "2022-11-11T14:39:13.913Z"
   },
   {
    "duration": 58,
    "start_time": "2022-11-11T14:39:14.050Z"
   },
   {
    "duration": 13,
    "start_time": "2022-11-11T14:39:14.337Z"
   },
   {
    "duration": 7,
    "start_time": "2022-11-11T14:39:14.489Z"
   },
   {
    "duration": 7,
    "start_time": "2022-11-11T14:39:14.753Z"
   },
   {
    "duration": 16,
    "start_time": "2022-11-11T14:39:15.017Z"
   },
   {
    "duration": 15,
    "start_time": "2022-11-11T14:39:15.313Z"
   },
   {
    "duration": 12,
    "start_time": "2022-11-11T14:39:15.600Z"
   },
   {
    "duration": 6,
    "start_time": "2022-11-11T14:39:15.889Z"
   },
   {
    "duration": 4,
    "start_time": "2022-11-11T14:39:16.177Z"
   },
   {
    "duration": 12,
    "start_time": "2022-11-11T14:39:16.441Z"
   },
   {
    "duration": 5,
    "start_time": "2022-11-11T14:39:16.914Z"
   },
   {
    "duration": 17,
    "start_time": "2022-11-11T14:39:17.456Z"
   },
   {
    "duration": 5,
    "start_time": "2022-11-11T14:39:17.904Z"
   },
   {
    "duration": 5,
    "start_time": "2022-11-11T14:39:18.425Z"
   },
   {
    "duration": 13,
    "start_time": "2022-11-11T14:39:18.985Z"
   },
   {
    "duration": 129,
    "start_time": "2022-11-11T14:46:56.140Z"
   },
   {
    "duration": 677,
    "start_time": "2022-11-11T14:47:23.194Z"
   },
   {
    "duration": 4,
    "start_time": "2022-11-11T14:47:42.770Z"
   },
   {
    "duration": 1519,
    "start_time": "2022-11-11T14:47:48.545Z"
   },
   {
    "duration": 135,
    "start_time": "2022-11-11T14:48:04.426Z"
   },
   {
    "duration": 6,
    "start_time": "2022-11-11T14:48:45.167Z"
   },
   {
    "duration": 6,
    "start_time": "2022-11-11T14:48:46.311Z"
   },
   {
    "duration": 385,
    "start_time": "2022-11-11T14:48:46.888Z"
   },
   {
    "duration": 128,
    "start_time": "2022-11-11T14:50:04.540Z"
   },
   {
    "duration": 319,
    "start_time": "2022-11-11T14:50:08.445Z"
   },
   {
    "duration": 1097,
    "start_time": "2022-11-14T07:22:09.851Z"
   },
   {
    "duration": 180,
    "start_time": "2022-11-14T07:22:10.952Z"
   },
   {
    "duration": 18,
    "start_time": "2022-11-14T07:22:12.299Z"
   },
   {
    "duration": 9,
    "start_time": "2022-11-14T07:22:12.592Z"
   },
   {
    "duration": 5,
    "start_time": "2022-11-14T07:22:13.197Z"
   },
   {
    "duration": 17,
    "start_time": "2022-11-14T07:22:13.707Z"
   },
   {
    "duration": 16,
    "start_time": "2022-11-14T07:22:14.251Z"
   },
   {
    "duration": 11,
    "start_time": "2022-11-14T07:22:14.859Z"
   },
   {
    "duration": 6,
    "start_time": "2022-11-14T07:22:15.507Z"
   },
   {
    "duration": 6,
    "start_time": "2022-11-14T07:22:16.154Z"
   },
   {
    "duration": 20,
    "start_time": "2022-11-14T07:22:16.650Z"
   },
   {
    "duration": 5,
    "start_time": "2022-11-14T07:22:17.122Z"
   },
   {
    "duration": 10,
    "start_time": "2022-11-14T07:22:17.578Z"
   },
   {
    "duration": 4,
    "start_time": "2022-11-14T07:22:17.818Z"
   },
   {
    "duration": 4,
    "start_time": "2022-11-14T07:22:18.066Z"
   },
   {
    "duration": 10,
    "start_time": "2022-11-14T07:22:18.302Z"
   },
   {
    "duration": 11,
    "start_time": "2022-11-14T07:22:19.154Z"
   },
   {
    "duration": 4,
    "start_time": "2022-11-14T07:22:19.898Z"
   },
   {
    "duration": 7,
    "start_time": "2022-11-14T07:22:20.626Z"
   },
   {
    "duration": 102,
    "start_time": "2022-11-14T07:22:21.249Z"
   },
   {
    "duration": 146,
    "start_time": "2022-11-14T07:22:23.338Z"
   },
   {
    "duration": 568,
    "start_time": "2022-11-14T07:22:59.113Z"
   },
   {
    "duration": 6,
    "start_time": "2022-11-14T07:25:00.630Z"
   },
   {
    "duration": 7,
    "start_time": "2022-11-14T07:25:15.101Z"
   },
   {
    "duration": 12,
    "start_time": "2022-11-14T07:25:28.772Z"
   },
   {
    "duration": 332,
    "start_time": "2022-11-14T07:25:41.356Z"
   },
   {
    "duration": 6,
    "start_time": "2022-11-14T07:29:37.653Z"
   },
   {
    "duration": 6,
    "start_time": "2022-11-14T07:29:41.764Z"
   },
   {
    "duration": 12,
    "start_time": "2022-11-14T08:14:49.053Z"
   },
   {
    "duration": 23,
    "start_time": "2022-11-14T08:15:07.350Z"
   },
   {
    "duration": 52,
    "start_time": "2022-11-14T08:15:12.269Z"
   },
   {
    "duration": 53,
    "start_time": "2022-11-14T08:15:42.653Z"
   },
   {
    "duration": 50,
    "start_time": "2022-11-14T08:15:46.932Z"
   },
   {
    "duration": 53,
    "start_time": "2022-11-14T08:15:51.323Z"
   },
   {
    "duration": 221,
    "start_time": "2022-11-14T08:21:27.178Z"
   },
   {
    "duration": 226,
    "start_time": "2022-11-14T08:21:43.433Z"
   },
   {
    "duration": 220,
    "start_time": "2022-11-14T08:22:51.479Z"
   },
   {
    "duration": 243,
    "start_time": "2022-11-14T08:23:03.527Z"
   },
   {
    "duration": 662,
    "start_time": "2022-11-14T08:23:10.582Z"
   },
   {
    "duration": 884,
    "start_time": "2022-11-14T08:23:15.670Z"
   },
   {
    "duration": 4438,
    "start_time": "2022-11-14T08:23:19.846Z"
   },
   {
    "duration": 42,
    "start_time": "2022-11-14T08:24:28.651Z"
   },
   {
    "duration": 11,
    "start_time": "2022-11-14T08:32:04.556Z"
   },
   {
    "duration": 57669,
    "start_time": "2022-11-14T08:32:58.755Z"
   },
   {
    "duration": 570108,
    "start_time": "2022-11-14T08:34:19.232Z"
   },
   {
    "duration": 198,
    "start_time": "2022-11-14T08:44:56.374Z"
   },
   {
    "duration": 124,
    "start_time": "2022-11-14T09:07:04.559Z"
   },
   {
    "duration": 8,
    "start_time": "2022-11-14T09:10:20.211Z"
   },
   {
    "duration": 9,
    "start_time": "2022-11-14T09:10:23.363Z"
   },
   {
    "duration": 4,
    "start_time": "2022-11-14T09:10:25.020Z"
   },
   {
    "duration": 7,
    "start_time": "2022-11-14T09:10:26.269Z"
   },
   {
    "duration": 6,
    "start_time": "2022-11-14T09:10:28.091Z"
   },
   {
    "duration": 7,
    "start_time": "2022-11-14T09:10:28.675Z"
   },
   {
    "duration": 7,
    "start_time": "2022-11-14T09:10:29.203Z"
   },
   {
    "duration": 79,
    "start_time": "2022-11-14T09:10:31.403Z"
   },
   {
    "duration": 42,
    "start_time": "2022-11-14T09:10:36.444Z"
   },
   {
    "duration": 175,
    "start_time": "2022-11-14T09:10:37.307Z"
   },
   {
    "duration": 8,
    "start_time": "2022-11-14T09:11:54.328Z"
   },
   {
    "duration": 4,
    "start_time": "2022-11-14T09:11:57.992Z"
   },
   {
    "duration": 59,
    "start_time": "2022-11-14T09:11:58.305Z"
   },
   {
    "duration": 14,
    "start_time": "2022-11-14T09:11:58.928Z"
   },
   {
    "duration": 8,
    "start_time": "2022-11-14T09:11:59.186Z"
   },
   {
    "duration": 6,
    "start_time": "2022-11-14T09:11:59.560Z"
   },
   {
    "duration": 25,
    "start_time": "2022-11-14T09:11:59.889Z"
   },
   {
    "duration": 24,
    "start_time": "2022-11-14T09:12:00.253Z"
   },
   {
    "duration": 10,
    "start_time": "2022-11-14T09:12:00.592Z"
   },
   {
    "duration": 7,
    "start_time": "2022-11-14T09:12:00.936Z"
   },
   {
    "duration": 5,
    "start_time": "2022-11-14T09:12:01.320Z"
   },
   {
    "duration": 13,
    "start_time": "2022-11-14T09:12:01.784Z"
   },
   {
    "duration": 6,
    "start_time": "2022-11-14T09:12:02.200Z"
   },
   {
    "duration": 6,
    "start_time": "2022-11-14T09:12:02.584Z"
   },
   {
    "duration": 4,
    "start_time": "2022-11-14T09:12:02.808Z"
   },
   {
    "duration": 5,
    "start_time": "2022-11-14T09:12:03.000Z"
   },
   {
    "duration": 10,
    "start_time": "2022-11-14T09:12:03.209Z"
   },
   {
    "duration": 8,
    "start_time": "2022-11-14T09:12:03.672Z"
   },
   {
    "duration": 10,
    "start_time": "2022-11-14T09:12:33.957Z"
   },
   {
    "duration": 5,
    "start_time": "2022-11-14T09:12:43.663Z"
   },
   {
    "duration": 8,
    "start_time": "2022-11-14T09:13:00.479Z"
   },
   {
    "duration": 7,
    "start_time": "2022-11-14T09:13:01.591Z"
   },
   {
    "duration": 8,
    "start_time": "2022-11-14T09:13:02.008Z"
   },
   {
    "duration": 8,
    "start_time": "2022-11-14T09:13:02.375Z"
   },
   {
    "duration": 17,
    "start_time": "2022-11-14T09:13:27.693Z"
   },
   {
    "duration": 12,
    "start_time": "2022-11-14T09:13:34.997Z"
   },
   {
    "duration": 20,
    "start_time": "2022-11-14T09:14:46.842Z"
   },
   {
    "duration": 4,
    "start_time": "2022-11-14T09:14:51.474Z"
   },
   {
    "duration": 48,
    "start_time": "2022-11-14T09:14:51.714Z"
   },
   {
    "duration": 13,
    "start_time": "2022-11-14T09:14:52.275Z"
   },
   {
    "duration": 10,
    "start_time": "2022-11-14T09:14:52.643Z"
   },
   {
    "duration": 7,
    "start_time": "2022-11-14T09:14:53.378Z"
   },
   {
    "duration": 24,
    "start_time": "2022-11-14T09:14:54.131Z"
   },
   {
    "duration": 15,
    "start_time": "2022-11-14T09:14:54.857Z"
   },
   {
    "duration": 14,
    "start_time": "2022-11-14T09:14:55.716Z"
   },
   {
    "duration": 6,
    "start_time": "2022-11-14T09:14:56.762Z"
   },
   {
    "duration": 5,
    "start_time": "2022-11-14T09:14:57.634Z"
   },
   {
    "duration": 12,
    "start_time": "2022-11-14T09:14:58.886Z"
   },
   {
    "duration": 6,
    "start_time": "2022-11-14T09:14:59.956Z"
   },
   {
    "duration": 6,
    "start_time": "2022-11-14T09:15:01.058Z"
   },
   {
    "duration": 4,
    "start_time": "2022-11-14T09:15:01.562Z"
   },
   {
    "duration": 5,
    "start_time": "2022-11-14T09:15:01.978Z"
   },
   {
    "duration": 6,
    "start_time": "2022-11-14T09:15:02.515Z"
   },
   {
    "duration": 10,
    "start_time": "2022-11-14T09:15:04.938Z"
   },
   {
    "duration": 12,
    "start_time": "2022-11-14T09:15:05.906Z"
   },
   {
    "duration": 12,
    "start_time": "2022-11-14T09:15:07.082Z"
   },
   {
    "duration": 11,
    "start_time": "2022-11-14T09:15:19.801Z"
   },
   {
    "duration": 4,
    "start_time": "2022-11-14T09:15:21.226Z"
   },
   {
    "duration": 10,
    "start_time": "2022-11-14T09:15:26.026Z"
   },
   {
    "duration": 7,
    "start_time": "2022-11-14T09:15:27.563Z"
   },
   {
    "duration": 7,
    "start_time": "2022-11-14T09:15:29.970Z"
   },
   {
    "duration": 7,
    "start_time": "2022-11-14T09:15:33.218Z"
   },
   {
    "duration": 43,
    "start_time": "2022-11-14T09:15:35.244Z"
   },
   {
    "duration": 35,
    "start_time": "2022-11-14T09:15:36.337Z"
   },
   {
    "duration": 199,
    "start_time": "2022-11-14T09:15:37.146Z"
   },
   {
    "duration": 17,
    "start_time": "2022-11-14T09:16:28.356Z"
   },
   {
    "duration": 15,
    "start_time": "2022-11-14T09:16:52.453Z"
   },
   {
    "duration": 9,
    "start_time": "2022-11-14T09:25:17.574Z"
   },
   {
    "duration": 4,
    "start_time": "2022-11-14T09:25:18.519Z"
   },
   {
    "duration": 10,
    "start_time": "2022-11-14T09:25:19.408Z"
   },
   {
    "duration": 9,
    "start_time": "2022-11-14T09:25:19.967Z"
   },
   {
    "duration": 8,
    "start_time": "2022-11-14T09:25:20.159Z"
   },
   {
    "duration": 9,
    "start_time": "2022-11-14T09:25:20.366Z"
   },
   {
    "duration": 22,
    "start_time": "2022-11-14T09:25:20.926Z"
   },
   {
    "duration": 32,
    "start_time": "2022-11-14T09:25:21.526Z"
   },
   {
    "duration": 172,
    "start_time": "2022-11-14T09:25:22.710Z"
   },
   {
    "duration": 201,
    "start_time": "2022-11-14T09:27:27.380Z"
   },
   {
    "duration": 24,
    "start_time": "2022-11-14T09:38:01.743Z"
   },
   {
    "duration": 64,
    "start_time": "2022-11-14T09:39:45.625Z"
   },
   {
    "duration": 32,
    "start_time": "2022-11-14T09:44:56.641Z"
   },
   {
    "duration": 161,
    "start_time": "2022-11-14T09:45:21.490Z"
   },
   {
    "duration": 183,
    "start_time": "2022-11-14T09:46:26.471Z"
   },
   {
    "duration": 3774,
    "start_time": "2022-11-14T09:46:34.911Z"
   },
   {
    "duration": 3415,
    "start_time": "2022-11-14T09:46:56.046Z"
   },
   {
    "duration": 175,
    "start_time": "2022-11-14T09:47:22.142Z"
   },
   {
    "duration": 31,
    "start_time": "2022-11-14T09:47:28.568Z"
   },
   {
    "duration": 3684,
    "start_time": "2022-11-14T09:48:06.597Z"
   },
   {
    "duration": 136,
    "start_time": "2022-11-14T09:57:30.746Z"
   },
   {
    "duration": 5,
    "start_time": "2022-11-14T09:57:47.234Z"
   },
   {
    "duration": 121,
    "start_time": "2022-11-14T09:57:52.359Z"
   },
   {
    "duration": 21,
    "start_time": "2022-11-14T09:58:36.688Z"
   },
   {
    "duration": 32,
    "start_time": "2022-11-14T09:58:54.496Z"
   },
   {
    "duration": 186,
    "start_time": "2022-11-14T09:59:21.479Z"
   },
   {
    "duration": 188,
    "start_time": "2022-11-14T09:59:27.270Z"
   },
   {
    "duration": 32,
    "start_time": "2022-11-14T09:59:31.214Z"
   },
   {
    "duration": 81,
    "start_time": "2022-11-14T09:59:55.806Z"
   },
   {
    "duration": 88,
    "start_time": "2022-11-14T10:00:09.101Z"
   },
   {
    "duration": 25,
    "start_time": "2022-11-14T10:00:13.828Z"
   },
   {
    "duration": 67,
    "start_time": "2022-11-14T10:00:31.028Z"
   },
   {
    "duration": 34,
    "start_time": "2022-11-14T10:00:34.710Z"
   },
   {
    "duration": 185,
    "start_time": "2022-11-14T10:00:52.189Z"
   },
   {
    "duration": 69,
    "start_time": "2022-11-14T10:01:23.163Z"
   },
   {
    "duration": 53,
    "start_time": "2022-11-14T10:01:42.884Z"
   },
   {
    "duration": 5,
    "start_time": "2022-11-14T10:04:56.468Z"
   },
   {
    "duration": 24,
    "start_time": "2022-11-14T10:07:17.880Z"
   },
   {
    "duration": 3,
    "start_time": "2022-11-14T10:07:34.079Z"
   },
   {
    "duration": 15,
    "start_time": "2022-11-14T10:07:41.567Z"
   },
   {
    "duration": 48,
    "start_time": "2022-11-14T10:08:37.613Z"
   },
   {
    "duration": 36,
    "start_time": "2022-11-14T10:09:04.666Z"
   },
   {
    "duration": 171,
    "start_time": "2022-11-14T10:09:07.161Z"
   },
   {
    "duration": 21,
    "start_time": "2022-11-14T10:09:10.979Z"
   },
   {
    "duration": 57,
    "start_time": "2022-11-14T10:09:32.541Z"
   },
   {
    "duration": 12,
    "start_time": "2022-11-14T10:11:01.662Z"
   },
   {
    "duration": 23,
    "start_time": "2022-11-14T10:11:50.168Z"
   },
   {
    "duration": 2,
    "start_time": "2022-11-14T10:31:39.769Z"
   },
   {
    "duration": 56,
    "start_time": "2022-11-14T10:35:43.745Z"
   },
   {
    "duration": 45,
    "start_time": "2022-11-14T10:35:46.409Z"
   },
   {
    "duration": 42,
    "start_time": "2022-11-14T10:36:41.678Z"
   },
   {
    "duration": 64,
    "start_time": "2022-11-14T10:37:16.565Z"
   },
   {
    "duration": 22,
    "start_time": "2022-11-14T10:37:22.269Z"
   },
   {
    "duration": 66,
    "start_time": "2022-11-14T10:37:25.734Z"
   },
   {
    "duration": 156,
    "start_time": "2022-11-14T10:37:38.025Z"
   },
   {
    "duration": 33,
    "start_time": "2022-11-14T10:38:00.189Z"
   },
   {
    "duration": 33,
    "start_time": "2022-11-14T10:38:39.379Z"
   },
   {
    "duration": 166,
    "start_time": "2022-11-14T10:39:13.810Z"
   },
   {
    "duration": 167,
    "start_time": "2022-11-14T10:40:15.792Z"
   },
   {
    "duration": 54,
    "start_time": "2022-11-14T10:41:02.376Z"
   },
   {
    "duration": 82,
    "start_time": "2022-11-14T10:41:11.847Z"
   },
   {
    "duration": 107,
    "start_time": "2022-11-14T10:41:37.358Z"
   },
   {
    "duration": 79,
    "start_time": "2022-11-14T10:41:52.933Z"
   },
   {
    "duration": 80,
    "start_time": "2022-11-14T10:42:54.379Z"
   },
   {
    "duration": 49,
    "start_time": "2022-11-14T10:42:58.971Z"
   },
   {
    "duration": 172,
    "start_time": "2022-11-14T10:43:19.459Z"
   },
   {
    "duration": 44,
    "start_time": "2022-11-14T10:43:45.538Z"
   },
   {
    "duration": 56772,
    "start_time": "2022-11-14T10:44:28.593Z"
   },
   {
    "duration": 59,
    "start_time": "2022-11-14T10:46:57.325Z"
   },
   {
    "duration": 54169,
    "start_time": "2022-11-14T10:47:08.147Z"
   },
   {
    "duration": 66525,
    "start_time": "2022-11-14T10:52:37.307Z"
   },
   {
    "duration": 49,
    "start_time": "2022-11-14T10:54:19.903Z"
   },
   {
    "duration": 123,
    "start_time": "2022-11-14T10:54:25.526Z"
   },
   {
    "duration": 47,
    "start_time": "2022-11-14T10:54:39.733Z"
   },
   {
    "duration": 68,
    "start_time": "2022-11-14T10:54:47.812Z"
   },
   {
    "duration": 58077,
    "start_time": "2022-11-14T10:54:54.828Z"
   },
   {
    "duration": 32,
    "start_time": "2022-11-14T10:57:02.839Z"
   },
   {
    "duration": 26,
    "start_time": "2022-11-14T10:57:13.793Z"
   },
   {
    "duration": 27,
    "start_time": "2022-11-14T10:57:29.376Z"
   },
   {
    "duration": 26,
    "start_time": "2022-11-14T10:57:36.919Z"
   },
   {
    "duration": 22,
    "start_time": "2022-11-14T10:57:53.286Z"
   },
   {
    "duration": 32,
    "start_time": "2022-11-14T10:58:17.982Z"
   },
   {
    "duration": 61,
    "start_time": "2022-11-14T10:58:24.051Z"
   },
   {
    "duration": 79,
    "start_time": "2022-11-14T10:58:48.764Z"
   },
   {
    "duration": 12,
    "start_time": "2022-11-14T10:58:50.750Z"
   },
   {
    "duration": 18,
    "start_time": "2022-11-14T10:59:34.059Z"
   },
   {
    "duration": 390,
    "start_time": "2022-11-14T10:59:59.346Z"
   },
   {
    "duration": 1071,
    "start_time": "2022-11-14T11:00:04.674Z"
   },
   {
    "duration": 1567,
    "start_time": "2022-11-14T11:00:21.410Z"
   },
   {
    "duration": 201,
    "start_time": "2022-11-14T11:00:33.707Z"
   },
   {
    "duration": 251,
    "start_time": "2022-11-14T11:01:26.225Z"
   },
   {
    "duration": 328,
    "start_time": "2022-11-14T11:01:52.136Z"
   },
   {
    "duration": 293,
    "start_time": "2022-11-14T11:02:21.063Z"
   },
   {
    "duration": 283,
    "start_time": "2022-11-14T11:02:34.423Z"
   },
   {
    "duration": 13,
    "start_time": "2022-11-14T11:08:40.659Z"
   },
   {
    "duration": 103,
    "start_time": "2022-11-14T11:08:52.994Z"
   },
   {
    "duration": 116,
    "start_time": "2022-11-14T11:10:41.782Z"
   },
   {
    "duration": 125,
    "start_time": "2022-11-14T11:11:13.158Z"
   },
   {
    "duration": 131,
    "start_time": "2022-11-14T11:16:47.139Z"
   },
   {
    "duration": 56,
    "start_time": "2022-11-14T11:28:36.243Z"
   },
   {
    "duration": 205,
    "start_time": "2022-11-14T11:28:56.915Z"
   },
   {
    "duration": 3952,
    "start_time": "2022-11-14T11:29:02.242Z"
   },
   {
    "duration": 4280,
    "start_time": "2022-11-14T11:30:20.976Z"
   },
   {
    "duration": 3831,
    "start_time": "2022-11-14T11:33:07.759Z"
   },
   {
    "duration": 62,
    "start_time": "2022-11-14T11:34:55.567Z"
   },
   {
    "duration": 64,
    "start_time": "2022-11-14T11:35:30.264Z"
   },
   {
    "duration": 51,
    "start_time": "2022-11-14T11:35:54.920Z"
   },
   {
    "duration": 71,
    "start_time": "2022-11-14T11:36:18.476Z"
   },
   {
    "duration": 67,
    "start_time": "2022-11-14T11:36:46.059Z"
   },
   {
    "duration": 64,
    "start_time": "2022-11-14T11:37:56.377Z"
   },
   {
    "duration": 3961,
    "start_time": "2022-11-14T11:38:10.464Z"
   },
   {
    "duration": 4035,
    "start_time": "2022-11-14T11:38:34.416Z"
   },
   {
    "duration": 3830,
    "start_time": "2022-11-14T11:40:03.583Z"
   },
   {
    "duration": 3950,
    "start_time": "2022-11-14T11:41:01.308Z"
   },
   {
    "duration": 3918,
    "start_time": "2022-11-14T11:41:50.221Z"
   },
   {
    "duration": 51,
    "start_time": "2022-11-14T11:42:17.008Z"
   },
   {
    "duration": 3924,
    "start_time": "2022-11-14T11:42:29.647Z"
   },
   {
    "duration": 41662,
    "start_time": "2022-11-14T11:42:40.865Z"
   },
   {
    "duration": 226,
    "start_time": "2022-11-14T11:43:53.903Z"
   },
   {
    "duration": 3886,
    "start_time": "2022-11-14T11:44:20.748Z"
   },
   {
    "duration": 5873,
    "start_time": "2022-11-14T11:44:31.964Z"
   },
   {
    "duration": 1929,
    "start_time": "2022-11-14T11:44:41.477Z"
   },
   {
    "duration": 1439,
    "start_time": "2022-11-14T11:44:54.111Z"
   },
   {
    "duration": 1050,
    "start_time": "2022-11-14T11:44:58.076Z"
   },
   {
    "duration": 635,
    "start_time": "2022-11-14T11:45:01.955Z"
   },
   {
    "duration": 669,
    "start_time": "2022-11-14T11:45:07.131Z"
   },
   {
    "duration": 970,
    "start_time": "2022-11-14T11:45:10.698Z"
   },
   {
    "duration": 989,
    "start_time": "2022-11-14T11:45:12.651Z"
   },
   {
    "duration": 961,
    "start_time": "2022-11-14T11:45:15.706Z"
   },
   {
    "duration": 975,
    "start_time": "2022-11-14T11:45:26.570Z"
   },
   {
    "duration": 888,
    "start_time": "2022-11-14T11:45:30.602Z"
   },
   {
    "duration": 862,
    "start_time": "2022-11-14T11:45:33.370Z"
   },
   {
    "duration": 821,
    "start_time": "2022-11-14T11:45:38.754Z"
   },
   {
    "duration": 792,
    "start_time": "2022-11-14T11:45:43.097Z"
   },
   {
    "duration": 740,
    "start_time": "2022-11-14T11:45:47.770Z"
   },
   {
    "duration": 727,
    "start_time": "2022-11-14T11:45:50.721Z"
   },
   {
    "duration": 653,
    "start_time": "2022-11-14T11:45:55.858Z"
   },
   {
    "duration": 703,
    "start_time": "2022-11-14T11:46:07.539Z"
   },
   {
    "duration": 712,
    "start_time": "2022-11-14T11:46:19.305Z"
   },
   {
    "duration": 761,
    "start_time": "2022-11-14T11:46:21.464Z"
   },
   {
    "duration": 755,
    "start_time": "2022-11-14T11:46:37.168Z"
   },
   {
    "duration": 729,
    "start_time": "2022-11-14T11:46:50.673Z"
   },
   {
    "duration": 721,
    "start_time": "2022-11-14T11:46:59.319Z"
   },
   {
    "duration": 870,
    "start_time": "2022-11-14T11:47:06.553Z"
   },
   {
    "duration": 1820,
    "start_time": "2022-11-14T11:47:10.222Z"
   },
   {
    "duration": 3910,
    "start_time": "2022-11-14T11:47:16.055Z"
   },
   {
    "duration": 712,
    "start_time": "2022-11-14T11:47:23.764Z"
   },
   {
    "duration": 57540,
    "start_time": "2022-11-14T11:50:29.026Z"
   },
   {
    "duration": 63204,
    "start_time": "2022-11-14T11:51:55.460Z"
   },
   {
    "duration": 50,
    "start_time": "2022-11-14T14:12:05.741Z"
   },
   {
    "duration": 1570,
    "start_time": "2022-11-14T14:12:11.137Z"
   },
   {
    "duration": 89,
    "start_time": "2022-11-14T14:12:12.710Z"
   },
   {
    "duration": 18,
    "start_time": "2022-11-14T14:12:13.104Z"
   },
   {
    "duration": 7,
    "start_time": "2022-11-14T14:12:13.369Z"
   },
   {
    "duration": 5,
    "start_time": "2022-11-14T14:12:13.873Z"
   },
   {
    "duration": 21,
    "start_time": "2022-11-14T14:12:14.297Z"
   },
   {
    "duration": 18,
    "start_time": "2022-11-14T14:12:14.713Z"
   },
   {
    "duration": 11,
    "start_time": "2022-11-14T14:12:15.097Z"
   },
   {
    "duration": 7,
    "start_time": "2022-11-14T14:12:15.488Z"
   },
   {
    "duration": 5,
    "start_time": "2022-11-14T14:12:15.913Z"
   },
   {
    "duration": 13,
    "start_time": "2022-11-14T14:12:16.307Z"
   },
   {
    "duration": 6,
    "start_time": "2022-11-14T14:12:16.721Z"
   },
   {
    "duration": 4,
    "start_time": "2022-11-14T14:12:17.153Z"
   },
   {
    "duration": 4,
    "start_time": "2022-11-14T14:12:17.361Z"
   },
   {
    "duration": 5,
    "start_time": "2022-11-14T14:12:17.561Z"
   },
   {
    "duration": 6,
    "start_time": "2022-11-14T14:12:17.768Z"
   },
   {
    "duration": 13,
    "start_time": "2022-11-14T14:12:18.184Z"
   },
   {
    "duration": 14,
    "start_time": "2022-11-14T14:12:18.592Z"
   },
   {
    "duration": 12,
    "start_time": "2022-11-14T14:12:19.013Z"
   },
   {
    "duration": 5,
    "start_time": "2022-11-14T14:12:19.432Z"
   },
   {
    "duration": 8,
    "start_time": "2022-11-14T14:12:19.848Z"
   },
   {
    "duration": 6,
    "start_time": "2022-11-14T14:12:20.288Z"
   },
   {
    "duration": 7,
    "start_time": "2022-11-14T14:12:20.504Z"
   },
   {
    "duration": 6,
    "start_time": "2022-11-14T14:12:20.705Z"
   },
   {
    "duration": 76,
    "start_time": "2022-11-14T14:12:21.549Z"
   },
   {
    "duration": 33,
    "start_time": "2022-11-14T14:12:22.368Z"
   },
   {
    "duration": 167,
    "start_time": "2022-11-14T14:12:23.280Z"
   },
   {
    "duration": 270,
    "start_time": "2022-11-14T14:12:24.808Z"
   },
   {
    "duration": 47,
    "start_time": "2022-11-14T14:12:26.288Z"
   },
   {
    "duration": 643,
    "start_time": "2022-11-14T14:12:27.297Z"
   },
   {
    "duration": 123,
    "start_time": "2022-11-15T06:52:06.279Z"
   },
   {
    "duration": 1778,
    "start_time": "2022-11-15T06:52:11.868Z"
   },
   {
    "duration": 110,
    "start_time": "2022-11-15T06:52:13.650Z"
   },
   {
    "duration": 25,
    "start_time": "2022-11-15T06:52:13.763Z"
   },
   {
    "duration": 11,
    "start_time": "2022-11-15T06:52:13.791Z"
   },
   {
    "duration": 8,
    "start_time": "2022-11-15T06:52:13.804Z"
   },
   {
    "duration": 58,
    "start_time": "2022-11-15T06:52:13.815Z"
   },
   {
    "duration": 20,
    "start_time": "2022-11-15T06:52:14.133Z"
   },
   {
    "duration": 17,
    "start_time": "2022-11-15T06:52:14.548Z"
   },
   {
    "duration": 8,
    "start_time": "2022-11-15T06:52:14.956Z"
   },
   {
    "duration": 8,
    "start_time": "2022-11-15T06:52:15.387Z"
   },
   {
    "duration": 20,
    "start_time": "2022-11-15T06:52:15.805Z"
   },
   {
    "duration": 7,
    "start_time": "2022-11-15T06:52:16.229Z"
   },
   {
    "duration": 5,
    "start_time": "2022-11-15T06:52:16.644Z"
   },
   {
    "duration": 5,
    "start_time": "2022-11-15T06:52:16.852Z"
   },
   {
    "duration": 5,
    "start_time": "2022-11-15T06:52:17.059Z"
   },
   {
    "duration": 6,
    "start_time": "2022-11-15T06:52:17.252Z"
   },
   {
    "duration": 14,
    "start_time": "2022-11-15T06:52:17.660Z"
   },
   {
    "duration": 13,
    "start_time": "2022-11-15T06:52:18.108Z"
   },
   {
    "duration": 11,
    "start_time": "2022-11-15T06:52:18.548Z"
   },
   {
    "duration": 5,
    "start_time": "2022-11-15T06:52:18.988Z"
   },
   {
    "duration": 8,
    "start_time": "2022-11-15T06:52:19.436Z"
   },
   {
    "duration": 7,
    "start_time": "2022-11-15T06:52:19.867Z"
   },
   {
    "duration": 7,
    "start_time": "2022-11-15T06:52:20.092Z"
   },
   {
    "duration": 7,
    "start_time": "2022-11-15T06:52:20.331Z"
   },
   {
    "duration": 85,
    "start_time": "2022-11-15T06:52:21.067Z"
   },
   {
    "duration": 47,
    "start_time": "2022-11-15T06:52:21.820Z"
   },
   {
    "duration": 194,
    "start_time": "2022-11-15T06:52:22.420Z"
   },
   {
    "duration": 257,
    "start_time": "2022-11-15T06:52:23.667Z"
   },
   {
    "duration": 88,
    "start_time": "2022-11-15T06:52:25.164Z"
   },
   {
    "duration": 60,
    "start_time": "2022-11-15T06:52:36.291Z"
   },
   {
    "duration": 106,
    "start_time": "2022-11-15T06:52:38.452Z"
   },
   {
    "duration": 727,
    "start_time": "2022-11-15T06:52:40.852Z"
   },
   {
    "duration": 467153,
    "start_time": "2022-11-15T06:52:41.852Z"
   },
   {
    "duration": 92837,
    "start_time": "2022-11-15T07:01:19.843Z"
   },
   {
    "duration": 30700,
    "start_time": "2022-11-15T07:03:36.966Z"
   },
   {
    "duration": 8304,
    "start_time": "2022-11-15T07:05:13.436Z"
   },
   {
    "duration": 2105,
    "start_time": "2022-11-15T07:05:46.210Z"
   },
   {
    "duration": 8491,
    "start_time": "2022-11-15T07:06:08.929Z"
   },
   {
    "duration": 8599,
    "start_time": "2022-11-15T07:06:44.888Z"
   },
   {
    "duration": 8585,
    "start_time": "2022-11-15T07:10:38.026Z"
   },
   {
    "duration": 1216,
    "start_time": "2022-11-15T07:21:58.558Z"
   },
   {
    "duration": 3161,
    "start_time": "2022-11-15T07:22:24.019Z"
   },
   {
    "duration": 3088,
    "start_time": "2022-11-15T07:31:00.290Z"
   },
   {
    "duration": 3220,
    "start_time": "2022-11-15T07:31:14.898Z"
   },
   {
    "duration": 14536,
    "start_time": "2022-11-15T07:33:41.224Z"
   },
   {
    "duration": 14128,
    "start_time": "2022-11-15T07:34:37.941Z"
   },
   {
    "duration": 26,
    "start_time": "2022-11-15T07:45:10.350Z"
   },
   {
    "duration": 70,
    "start_time": "2022-11-15T07:46:46.932Z"
   },
   {
    "duration": 78,
    "start_time": "2022-11-15T07:46:56.731Z"
   },
   {
    "duration": 150,
    "start_time": "2022-11-15T07:47:18.603Z"
   },
   {
    "duration": 5,
    "start_time": "2022-11-15T07:47:30.706Z"
   },
   {
    "duration": 119,
    "start_time": "2022-11-15T07:48:18.937Z"
   },
   {
    "duration": 39,
    "start_time": "2022-11-15T07:48:48.041Z"
   },
   {
    "duration": 202,
    "start_time": "2022-11-15T07:49:06.552Z"
   },
   {
    "duration": 205,
    "start_time": "2022-11-15T07:49:23.069Z"
   },
   {
    "duration": 116,
    "start_time": "2022-11-15T07:49:44.440Z"
   },
   {
    "duration": 79,
    "start_time": "2022-11-15T07:50:14.773Z"
   },
   {
    "duration": 39,
    "start_time": "2022-11-15T07:50:17.581Z"
   },
   {
    "duration": 203,
    "start_time": "2022-11-15T07:50:20.669Z"
   },
   {
    "duration": 139,
    "start_time": "2022-11-15T07:50:23.613Z"
   },
   {
    "duration": 79,
    "start_time": "2022-11-15T07:50:37.676Z"
   },
   {
    "duration": 805,
    "start_time": "2022-11-15T07:52:48.145Z"
   },
   {
    "duration": 9540,
    "start_time": "2022-11-15T07:53:32.040Z"
   },
   {
    "duration": 3155,
    "start_time": "2022-11-15T07:54:31.918Z"
   },
   {
    "duration": 14812,
    "start_time": "2022-11-15T07:55:13.603Z"
   },
   {
    "duration": 832,
    "start_time": "2022-11-15T08:06:30.813Z"
   },
   {
    "duration": 44,
    "start_time": "2022-11-15T08:09:50.170Z"
   },
   {
    "duration": 4,
    "start_time": "2022-11-15T08:10:15.974Z"
   },
   {
    "duration": 95,
    "start_time": "2022-11-15T08:10:23.158Z"
   },
   {
    "duration": 7,
    "start_time": "2022-11-15T08:10:36.405Z"
   },
   {
    "duration": 223,
    "start_time": "2022-11-15T08:10:40.246Z"
   },
   {
    "duration": 392,
    "start_time": "2022-11-15T08:11:24.820Z"
   },
   {
    "duration": 250,
    "start_time": "2022-11-15T08:11:40.547Z"
   },
   {
    "duration": 230,
    "start_time": "2022-11-15T08:11:51.644Z"
   },
   {
    "duration": 219,
    "start_time": "2022-11-15T08:12:12.635Z"
   },
   {
    "duration": 231,
    "start_time": "2022-11-15T08:12:26.234Z"
   },
   {
    "duration": 214,
    "start_time": "2022-11-15T08:12:37.346Z"
   },
   {
    "duration": 52,
    "start_time": "2022-11-15T11:27:39.601Z"
   },
   {
    "duration": 1687,
    "start_time": "2022-11-15T11:27:44.021Z"
   },
   {
    "duration": 86,
    "start_time": "2022-11-15T11:27:45.710Z"
   },
   {
    "duration": 27,
    "start_time": "2022-11-15T11:27:45.797Z"
   },
   {
    "duration": 9,
    "start_time": "2022-11-15T11:27:45.827Z"
   },
   {
    "duration": 37,
    "start_time": "2022-11-15T11:27:45.838Z"
   },
   {
    "duration": 48,
    "start_time": "2022-11-15T11:27:45.877Z"
   },
   {
    "duration": 17,
    "start_time": "2022-11-15T11:27:45.927Z"
   },
   {
    "duration": 10,
    "start_time": "2022-11-15T11:27:46.149Z"
   },
   {
    "duration": 6,
    "start_time": "2022-11-15T11:27:46.468Z"
   },
   {
    "duration": 6,
    "start_time": "2022-11-15T11:27:46.799Z"
   },
   {
    "duration": 19,
    "start_time": "2022-11-15T11:27:47.124Z"
   },
   {
    "duration": 7,
    "start_time": "2022-11-15T11:27:47.540Z"
   },
   {
    "duration": 5,
    "start_time": "2022-11-15T11:27:48.012Z"
   },
   {
    "duration": 5,
    "start_time": "2022-11-15T11:27:48.340Z"
   },
   {
    "duration": 4,
    "start_time": "2022-11-15T11:27:48.609Z"
   },
   {
    "duration": 6,
    "start_time": "2022-11-15T11:27:48.820Z"
   },
   {
    "duration": 15,
    "start_time": "2022-11-15T11:27:49.216Z"
   },
   {
    "duration": 12,
    "start_time": "2022-11-15T11:27:49.572Z"
   },
   {
    "duration": 10,
    "start_time": "2022-11-15T11:27:50.044Z"
   },
   {
    "duration": 4,
    "start_time": "2022-11-15T11:27:50.516Z"
   },
   {
    "duration": 8,
    "start_time": "2022-11-15T11:27:50.915Z"
   },
   {
    "duration": 6,
    "start_time": "2022-11-15T11:27:51.501Z"
   },
   {
    "duration": 6,
    "start_time": "2022-11-15T11:27:51.732Z"
   },
   {
    "duration": 8,
    "start_time": "2022-11-15T11:27:52.052Z"
   },
   {
    "duration": 345,
    "start_time": "2022-11-15T11:27:53.748Z"
   },
   {
    "duration": 239,
    "start_time": "2022-11-15T11:28:11.916Z"
   },
   {
    "duration": 249,
    "start_time": "2022-11-15T11:28:27.394Z"
   },
   {
    "duration": 371,
    "start_time": "2022-11-15T11:28:48.720Z"
   },
   {
    "duration": 352,
    "start_time": "2022-11-15T11:29:24.727Z"
   },
   {
    "duration": 340,
    "start_time": "2022-11-15T11:29:33.109Z"
   },
   {
    "duration": 346,
    "start_time": "2022-11-15T11:29:35.281Z"
   },
   {
    "duration": 76,
    "start_time": "2022-11-15T11:34:14.534Z"
   },
   {
    "duration": 17,
    "start_time": "2022-11-15T11:35:05.822Z"
   },
   {
    "duration": 6,
    "start_time": "2022-11-15T11:35:46.505Z"
   },
   {
    "duration": 197,
    "start_time": "2022-11-15T11:36:51.467Z"
   },
   {
    "duration": 214,
    "start_time": "2022-11-15T11:36:58.842Z"
   },
   {
    "duration": 199,
    "start_time": "2022-11-15T11:37:19.835Z"
   },
   {
    "duration": 199,
    "start_time": "2022-11-15T11:37:35.358Z"
   },
   {
    "duration": 233,
    "start_time": "2022-11-15T11:37:44.629Z"
   },
   {
    "duration": 353,
    "start_time": "2022-11-15T11:38:07.223Z"
   },
   {
    "duration": 413,
    "start_time": "2022-11-15T11:38:15.528Z"
   },
   {
    "duration": 195,
    "start_time": "2022-11-15T11:38:38.063Z"
   },
   {
    "duration": 322,
    "start_time": "2022-11-15T11:56:19.046Z"
   },
   {
    "duration": 391,
    "start_time": "2022-11-15T11:56:26.182Z"
   },
   {
    "duration": 353,
    "start_time": "2022-11-15T11:56:39.618Z"
   },
   {
    "duration": 350,
    "start_time": "2022-11-15T11:56:45.024Z"
   },
   {
    "duration": 339,
    "start_time": "2022-11-15T11:56:51.132Z"
   },
   {
    "duration": 372,
    "start_time": "2022-11-15T11:57:25.514Z"
   },
   {
    "duration": 144,
    "start_time": "2022-11-15T11:57:59.579Z"
   },
   {
    "duration": 119,
    "start_time": "2022-11-15T11:58:07.010Z"
   },
   {
    "duration": 700,
    "start_time": "2022-11-15T11:59:08.614Z"
   },
   {
    "duration": 8555,
    "start_time": "2022-11-15T11:59:28.873Z"
   },
   {
    "duration": 2869,
    "start_time": "2022-11-15T12:00:18.111Z"
   },
   {
    "duration": 742,
    "start_time": "2022-11-15T12:01:01.766Z"
   },
   {
    "duration": 13546,
    "start_time": "2022-11-15T12:04:40.382Z"
   },
   {
    "duration": 756,
    "start_time": "2022-11-15T12:10:09.980Z"
   },
   {
    "duration": 129,
    "start_time": "2022-11-15T12:10:56.315Z"
   },
   {
    "duration": 1442,
    "start_time": "2022-11-15T12:11:22.361Z"
   },
   {
    "duration": 13435,
    "start_time": "2022-11-15T12:12:14.224Z"
   },
   {
    "duration": 762,
    "start_time": "2022-11-15T12:12:34.970Z"
   },
   {
    "duration": 139,
    "start_time": "2022-11-15T12:12:41.807Z"
   },
   {
    "duration": 3696,
    "start_time": "2022-11-15T12:12:50.566Z"
   },
   {
    "duration": 2863,
    "start_time": "2022-11-15T12:13:10.182Z"
   },
   {
    "duration": 338,
    "start_time": "2022-11-15T12:13:24.812Z"
   },
   {
    "duration": 8557,
    "start_time": "2022-11-15T12:13:47.272Z"
   },
   {
    "duration": 725,
    "start_time": "2022-11-15T12:14:21.147Z"
   },
   {
    "duration": 45,
    "start_time": "2022-11-15T12:17:28.581Z"
   },
   {
    "duration": 77,
    "start_time": "2022-11-15T12:19:31.161Z"
   },
   {
    "duration": 78,
    "start_time": "2022-11-15T12:19:36.569Z"
   },
   {
    "duration": 70,
    "start_time": "2022-11-15T12:19:40.614Z"
   },
   {
    "duration": 706,
    "start_time": "2022-11-15T12:19:44.624Z"
   },
   {
    "duration": 709,
    "start_time": "2022-11-15T12:19:57.616Z"
   },
   {
    "duration": 763,
    "start_time": "2022-11-15T12:20:03.953Z"
   },
   {
    "duration": 76,
    "start_time": "2022-11-15T12:20:45.776Z"
   },
   {
    "duration": 80,
    "start_time": "2022-11-15T12:20:58.918Z"
   },
   {
    "duration": 76,
    "start_time": "2022-11-15T12:21:15.870Z"
   },
   {
    "duration": 87,
    "start_time": "2022-11-15T12:21:34.380Z"
   },
   {
    "duration": 693,
    "start_time": "2022-11-15T12:21:44.772Z"
   },
   {
    "duration": 731,
    "start_time": "2022-11-15T12:21:53.813Z"
   },
   {
    "duration": 690,
    "start_time": "2022-11-15T12:21:57.556Z"
   },
   {
    "duration": 8483,
    "start_time": "2022-11-15T12:22:13.620Z"
   },
   {
    "duration": 54,
    "start_time": "2022-11-15T13:12:11.891Z"
   },
   {
    "duration": 1739,
    "start_time": "2022-11-15T13:12:16.605Z"
   },
   {
    "duration": 92,
    "start_time": "2022-11-15T13:12:18.346Z"
   },
   {
    "duration": 19,
    "start_time": "2022-11-15T13:12:18.441Z"
   },
   {
    "duration": 9,
    "start_time": "2022-11-15T13:12:18.462Z"
   },
   {
    "duration": 6,
    "start_time": "2022-11-15T13:12:18.473Z"
   },
   {
    "duration": 35,
    "start_time": "2022-11-15T13:12:18.481Z"
   },
   {
    "duration": 17,
    "start_time": "2022-11-15T13:12:18.820Z"
   },
   {
    "duration": 16,
    "start_time": "2022-11-15T13:12:19.260Z"
   },
   {
    "duration": 7,
    "start_time": "2022-11-15T13:12:19.755Z"
   },
   {
    "duration": 5,
    "start_time": "2022-11-15T13:12:20.331Z"
   },
   {
    "duration": 14,
    "start_time": "2022-11-15T13:12:20.731Z"
   },
   {
    "duration": 6,
    "start_time": "2022-11-15T13:12:21.192Z"
   },
   {
    "duration": 4,
    "start_time": "2022-11-15T13:12:21.636Z"
   },
   {
    "duration": 5,
    "start_time": "2022-11-15T13:12:21.931Z"
   },
   {
    "duration": 11,
    "start_time": "2022-11-15T13:12:22.180Z"
   },
   {
    "duration": 8,
    "start_time": "2022-11-15T13:12:22.379Z"
   },
   {
    "duration": 12,
    "start_time": "2022-11-15T13:12:22.932Z"
   },
   {
    "duration": 13,
    "start_time": "2022-11-15T13:12:23.444Z"
   },
   {
    "duration": 16,
    "start_time": "2022-11-15T13:12:24.475Z"
   },
   {
    "duration": 5,
    "start_time": "2022-11-15T13:12:25.164Z"
   },
   {
    "duration": 14,
    "start_time": "2022-11-15T13:12:26.180Z"
   },
   {
    "duration": 6,
    "start_time": "2022-11-15T13:12:26.715Z"
   },
   {
    "duration": 8,
    "start_time": "2022-11-15T13:12:27.011Z"
   },
   {
    "duration": 6,
    "start_time": "2022-11-15T13:12:27.363Z"
   },
   {
    "duration": 253,
    "start_time": "2022-11-15T13:12:29.341Z"
   },
   {
    "duration": 61,
    "start_time": "2022-11-15T13:12:32.370Z"
   },
   {
    "duration": 63,
    "start_time": "2022-11-15T13:12:41.651Z"
   },
   {
    "duration": 230,
    "start_time": "2022-11-15T13:13:18.391Z"
   },
   {
    "duration": 3,
    "start_time": "2022-11-15T13:16:37.308Z"
   },
   {
    "duration": 103,
    "start_time": "2022-11-15T13:17:03.890Z"
   },
   {
    "duration": 4,
    "start_time": "2022-11-15T13:17:15.645Z"
   },
   {
    "duration": 9,
    "start_time": "2022-11-15T13:17:27.202Z"
   },
   {
    "duration": 8,
    "start_time": "2022-11-15T13:18:34.057Z"
   },
   {
    "duration": 24,
    "start_time": "2022-11-15T13:19:16.064Z"
   },
   {
    "duration": 11,
    "start_time": "2022-11-15T13:19:52.614Z"
   },
   {
    "duration": 13,
    "start_time": "2022-11-15T13:20:12.741Z"
   },
   {
    "duration": 16,
    "start_time": "2022-11-15T13:20:19.374Z"
   },
   {
    "duration": 12,
    "start_time": "2022-11-15T13:21:36.043Z"
   },
   {
    "duration": 14,
    "start_time": "2022-11-15T13:25:33.890Z"
   },
   {
    "duration": 10,
    "start_time": "2022-11-15T13:26:28.649Z"
   },
   {
    "duration": 18,
    "start_time": "2022-11-15T13:26:42.977Z"
   },
   {
    "duration": 11,
    "start_time": "2022-11-15T13:26:53.824Z"
   },
   {
    "duration": 19,
    "start_time": "2022-11-15T13:27:02.672Z"
   },
   {
    "duration": 11,
    "start_time": "2022-11-15T13:27:09.216Z"
   },
   {
    "duration": 12,
    "start_time": "2022-11-15T13:27:14.839Z"
   },
   {
    "duration": 11,
    "start_time": "2022-11-15T13:27:21.903Z"
   },
   {
    "duration": 12,
    "start_time": "2022-11-15T13:27:27.567Z"
   },
   {
    "duration": 4,
    "start_time": "2022-11-15T13:28:11.526Z"
   },
   {
    "duration": 45,
    "start_time": "2022-11-15T13:28:12.413Z"
   },
   {
    "duration": 13,
    "start_time": "2022-11-15T13:28:13.358Z"
   },
   {
    "duration": 8,
    "start_time": "2022-11-15T13:28:13.821Z"
   },
   {
    "duration": 5,
    "start_time": "2022-11-15T13:28:14.545Z"
   },
   {
    "duration": 19,
    "start_time": "2022-11-15T13:28:15.036Z"
   },
   {
    "duration": 17,
    "start_time": "2022-11-15T13:28:15.491Z"
   },
   {
    "duration": 10,
    "start_time": "2022-11-15T13:28:15.995Z"
   },
   {
    "duration": 6,
    "start_time": "2022-11-15T13:28:16.461Z"
   },
   {
    "duration": 6,
    "start_time": "2022-11-15T13:28:16.972Z"
   },
   {
    "duration": 13,
    "start_time": "2022-11-15T13:28:17.613Z"
   },
   {
    "duration": 5,
    "start_time": "2022-11-15T13:28:18.220Z"
   },
   {
    "duration": 5,
    "start_time": "2022-11-15T13:28:18.990Z"
   },
   {
    "duration": 5,
    "start_time": "2022-11-15T13:28:19.348Z"
   },
   {
    "duration": 5,
    "start_time": "2022-11-15T13:28:19.653Z"
   },
   {
    "duration": 6,
    "start_time": "2022-11-15T13:28:20.061Z"
   },
   {
    "duration": 12,
    "start_time": "2022-11-15T13:28:20.765Z"
   },
   {
    "duration": 13,
    "start_time": "2022-11-15T13:28:21.501Z"
   },
   {
    "duration": 10,
    "start_time": "2022-11-15T13:28:22.236Z"
   },
   {
    "duration": 5,
    "start_time": "2022-11-15T13:28:23.132Z"
   },
   {
    "duration": 20,
    "start_time": "2022-11-15T13:28:23.676Z"
   },
   {
    "duration": 7,
    "start_time": "2022-11-15T13:28:24.661Z"
   },
   {
    "duration": 23,
    "start_time": "2022-11-15T13:28:25.236Z"
   },
   {
    "duration": 16,
    "start_time": "2022-11-15T13:28:54.382Z"
   },
   {
    "duration": 13,
    "start_time": "2022-11-15T13:29:08.204Z"
   },
   {
    "duration": 4,
    "start_time": "2022-11-15T13:29:11.924Z"
   },
   {
    "duration": 55,
    "start_time": "2022-11-15T13:29:12.347Z"
   },
   {
    "duration": 16,
    "start_time": "2022-11-15T13:29:13.003Z"
   },
   {
    "duration": 7,
    "start_time": "2022-11-15T13:29:13.300Z"
   },
   {
    "duration": 5,
    "start_time": "2022-11-15T13:29:13.890Z"
   },
   {
    "duration": 17,
    "start_time": "2022-11-15T13:29:14.492Z"
   },
   {
    "duration": 16,
    "start_time": "2022-11-15T13:29:15.090Z"
   },
   {
    "duration": 11,
    "start_time": "2022-11-15T13:29:15.690Z"
   },
   {
    "duration": 6,
    "start_time": "2022-11-15T13:29:16.290Z"
   },
   {
    "duration": 5,
    "start_time": "2022-11-15T13:29:16.900Z"
   },
   {
    "duration": 12,
    "start_time": "2022-11-15T13:29:17.522Z"
   },
   {
    "duration": 8,
    "start_time": "2022-11-15T13:29:18.178Z"
   },
   {
    "duration": 4,
    "start_time": "2022-11-15T13:29:18.818Z"
   },
   {
    "duration": 6,
    "start_time": "2022-11-15T13:29:19.144Z"
   },
   {
    "duration": 4,
    "start_time": "2022-11-15T13:29:19.467Z"
   },
   {
    "duration": 5,
    "start_time": "2022-11-15T13:29:19.802Z"
   },
   {
    "duration": 12,
    "start_time": "2022-11-15T13:29:20.514Z"
   },
   {
    "duration": 13,
    "start_time": "2022-11-15T13:29:21.322Z"
   },
   {
    "duration": 11,
    "start_time": "2022-11-15T13:29:22.002Z"
   },
   {
    "duration": 7,
    "start_time": "2022-11-15T13:29:22.779Z"
   },
   {
    "duration": 12,
    "start_time": "2022-11-15T13:29:23.322Z"
   },
   {
    "duration": 8,
    "start_time": "2022-11-15T13:29:24.132Z"
   },
   {
    "duration": 21,
    "start_time": "2022-11-15T13:29:24.669Z"
   },
   {
    "duration": 7,
    "start_time": "2022-11-15T13:29:27.211Z"
   },
   {
    "duration": 6,
    "start_time": "2022-11-15T13:29:28.028Z"
   },
   {
    "duration": 6,
    "start_time": "2022-11-15T13:29:28.650Z"
   },
   {
    "duration": 262,
    "start_time": "2022-11-15T13:29:31.762Z"
   },
   {
    "duration": 366,
    "start_time": "2022-11-15T13:29:48.658Z"
   },
   {
    "duration": 277,
    "start_time": "2022-11-15T13:30:07.753Z"
   },
   {
    "duration": 224,
    "start_time": "2022-11-15T13:30:11.418Z"
   },
   {
    "duration": 218,
    "start_time": "2022-11-15T13:30:21.283Z"
   },
   {
    "duration": 385,
    "start_time": "2022-11-15T13:30:41.132Z"
   },
   {
    "duration": 34,
    "start_time": "2022-11-15T13:30:51.152Z"
   },
   {
    "duration": 24,
    "start_time": "2022-11-15T13:30:57.136Z"
   },
   {
    "duration": 20,
    "start_time": "2022-11-15T13:31:06.903Z"
   },
   {
    "duration": 555,
    "start_time": "2022-11-15T13:31:10.671Z"
   },
   {
    "duration": 9239,
    "start_time": "2022-11-15T13:31:15.880Z"
   },
   {
    "duration": 20,
    "start_time": "2022-11-15T13:31:29.519Z"
   },
   {
    "duration": 12,
    "start_time": "2022-11-15T13:31:32.015Z"
   },
   {
    "duration": 20,
    "start_time": "2022-11-15T13:31:35.838Z"
   },
   {
    "duration": 9175,
    "start_time": "2022-11-15T13:35:46.946Z"
   },
   {
    "duration": 9007,
    "start_time": "2022-11-15T13:36:24.448Z"
   },
   {
    "duration": 43386,
    "start_time": "2022-11-15T13:36:46.390Z"
   },
   {
    "duration": 222,
    "start_time": "2022-11-15T13:38:51.649Z"
   },
   {
    "duration": 1256,
    "start_time": "2022-11-15T13:39:16.394Z"
   },
   {
    "duration": 84,
    "start_time": "2022-11-15T13:39:33.895Z"
   },
   {
    "duration": 22,
    "start_time": "2022-11-15T13:39:36.760Z"
   },
   {
    "duration": 20,
    "start_time": "2022-11-15T13:45:41.907Z"
   },
   {
    "duration": 18,
    "start_time": "2022-11-15T13:47:45.647Z"
   },
   {
    "duration": 25,
    "start_time": "2022-11-15T13:48:09.174Z"
   },
   {
    "duration": 20,
    "start_time": "2022-11-15T13:48:24.336Z"
   },
   {
    "duration": 22,
    "start_time": "2022-11-15T13:49:25.844Z"
   },
   {
    "duration": 25,
    "start_time": "2022-11-15T13:49:34.006Z"
   },
   {
    "duration": 11,
    "start_time": "2022-11-15T13:50:18.458Z"
   },
   {
    "duration": 7,
    "start_time": "2022-11-15T13:50:24.491Z"
   },
   {
    "duration": 15,
    "start_time": "2022-11-15T13:50:25.418Z"
   },
   {
    "duration": 19,
    "start_time": "2022-11-15T13:50:38.242Z"
   },
   {
    "duration": 5,
    "start_time": "2022-11-15T13:54:45.790Z"
   },
   {
    "duration": 25,
    "start_time": "2022-11-15T13:56:07.607Z"
   },
   {
    "duration": 9,
    "start_time": "2022-11-15T14:01:08.252Z"
   },
   {
    "duration": 3,
    "start_time": "2022-11-15T14:02:40.059Z"
   },
   {
    "duration": 5,
    "start_time": "2022-11-15T14:02:44.158Z"
   },
   {
    "duration": 3,
    "start_time": "2022-11-15T14:02:44.698Z"
   },
   {
    "duration": 15,
    "start_time": "2022-11-15T14:02:45.298Z"
   },
   {
    "duration": 4,
    "start_time": "2022-11-15T14:05:31.690Z"
   },
   {
    "duration": 17,
    "start_time": "2022-11-15T14:05:32.565Z"
   },
   {
    "duration": 3,
    "start_time": "2022-11-15T14:05:44.323Z"
   },
   {
    "duration": 13,
    "start_time": "2022-11-15T14:05:44.692Z"
   },
   {
    "duration": 15,
    "start_time": "2022-11-15T14:10:03.132Z"
   },
   {
    "duration": 20,
    "start_time": "2022-11-15T14:10:12.579Z"
   },
   {
    "duration": 17,
    "start_time": "2022-11-15T14:10:18.546Z"
   },
   {
    "duration": 3,
    "start_time": "2022-11-15T14:11:27.537Z"
   },
   {
    "duration": 3,
    "start_time": "2022-11-15T14:11:29.696Z"
   },
   {
    "duration": 18,
    "start_time": "2022-11-15T14:11:44.035Z"
   },
   {
    "duration": 6,
    "start_time": "2022-11-15T14:11:47.975Z"
   },
   {
    "duration": 55,
    "start_time": "2022-11-15T14:11:48.342Z"
   },
   {
    "duration": 17,
    "start_time": "2022-11-15T14:11:48.967Z"
   },
   {
    "duration": 8,
    "start_time": "2022-11-15T14:11:49.257Z"
   },
   {
    "duration": 6,
    "start_time": "2022-11-15T14:11:49.798Z"
   },
   {
    "duration": 17,
    "start_time": "2022-11-15T14:11:50.328Z"
   },
   {
    "duration": 18,
    "start_time": "2022-11-15T14:11:50.823Z"
   },
   {
    "duration": 19,
    "start_time": "2022-11-15T14:11:51.396Z"
   },
   {
    "duration": 9,
    "start_time": "2022-11-15T14:11:51.968Z"
   },
   {
    "duration": 9,
    "start_time": "2022-11-15T14:11:52.640Z"
   },
   {
    "duration": 27,
    "start_time": "2022-11-15T14:11:53.264Z"
   },
   {
    "duration": 8,
    "start_time": "2022-11-15T14:11:53.839Z"
   },
   {
    "duration": 7,
    "start_time": "2022-11-15T14:11:54.461Z"
   },
   {
    "duration": 5,
    "start_time": "2022-11-15T14:11:54.769Z"
   },
   {
    "duration": 12,
    "start_time": "2022-11-15T14:11:55.063Z"
   },
   {
    "duration": 7,
    "start_time": "2022-11-15T14:11:55.359Z"
   },
   {
    "duration": 13,
    "start_time": "2022-11-15T14:11:55.951Z"
   },
   {
    "duration": 12,
    "start_time": "2022-11-15T14:11:56.528Z"
   },
   {
    "duration": 10,
    "start_time": "2022-11-15T14:11:57.290Z"
   },
   {
    "duration": 4,
    "start_time": "2022-11-15T14:11:58.143Z"
   },
   {
    "duration": 13,
    "start_time": "2022-11-15T14:11:58.623Z"
   },
   {
    "duration": 7,
    "start_time": "2022-11-15T14:11:59.594Z"
   },
   {
    "duration": 3,
    "start_time": "2022-11-15T14:12:00.045Z"
   },
   {
    "duration": 20,
    "start_time": "2022-11-15T14:12:00.599Z"
   },
   {
    "duration": 9,
    "start_time": "2022-11-15T14:12:12.135Z"
   },
   {
    "duration": 7,
    "start_time": "2022-11-15T14:12:12.639Z"
   },
   {
    "duration": 8,
    "start_time": "2022-11-15T14:12:13.055Z"
   },
   {
    "duration": 302,
    "start_time": "2022-11-15T14:13:30.592Z"
   },
   {
    "duration": 233,
    "start_time": "2022-11-15T14:13:57.012Z"
   },
   {
    "duration": 1243,
    "start_time": "2022-11-15T14:14:12.772Z"
   },
   {
    "duration": 187,
    "start_time": "2022-11-15T14:14:36.193Z"
   },
   {
    "duration": 4,
    "start_time": "2022-11-15T14:14:54.491Z"
   },
   {
    "duration": 3,
    "start_time": "2022-11-15T14:14:55.721Z"
   },
   {
    "duration": 20,
    "start_time": "2022-11-15T14:14:56.770Z"
   },
   {
    "duration": 13,
    "start_time": "2022-11-15T14:15:04.250Z"
   },
   {
    "duration": 4,
    "start_time": "2022-11-15T14:15:50.495Z"
   },
   {
    "duration": 2,
    "start_time": "2022-11-15T14:15:51.023Z"
   },
   {
    "duration": 13,
    "start_time": "2022-11-15T14:15:51.496Z"
   },
   {
    "duration": 4,
    "start_time": "2022-11-15T14:16:08.751Z"
   },
   {
    "duration": 53,
    "start_time": "2022-11-15T14:16:08.981Z"
   },
   {
    "duration": 15,
    "start_time": "2022-11-15T14:16:09.366Z"
   },
   {
    "duration": 8,
    "start_time": "2022-11-15T14:16:09.551Z"
   },
   {
    "duration": 6,
    "start_time": "2022-11-15T14:16:09.910Z"
   },
   {
    "duration": 16,
    "start_time": "2022-11-15T14:16:10.223Z"
   },
   {
    "duration": 17,
    "start_time": "2022-11-15T14:16:10.606Z"
   },
   {
    "duration": 10,
    "start_time": "2022-11-15T14:16:10.974Z"
   },
   {
    "duration": 5,
    "start_time": "2022-11-15T14:16:11.335Z"
   },
   {
    "duration": 5,
    "start_time": "2022-11-15T14:16:11.910Z"
   },
   {
    "duration": 14,
    "start_time": "2022-11-15T14:16:12.287Z"
   },
   {
    "duration": 6,
    "start_time": "2022-11-15T14:16:12.670Z"
   },
   {
    "duration": 6,
    "start_time": "2022-11-15T14:16:13.046Z"
   },
   {
    "duration": 5,
    "start_time": "2022-11-15T14:16:13.238Z"
   },
   {
    "duration": 5,
    "start_time": "2022-11-15T14:16:13.414Z"
   },
   {
    "duration": 6,
    "start_time": "2022-11-15T14:16:13.614Z"
   },
   {
    "duration": 16,
    "start_time": "2022-11-15T14:16:14.002Z"
   },
   {
    "duration": 12,
    "start_time": "2022-11-15T14:16:14.375Z"
   },
   {
    "duration": 10,
    "start_time": "2022-11-15T14:16:14.758Z"
   },
   {
    "duration": 5,
    "start_time": "2022-11-15T14:16:15.150Z"
   },
   {
    "duration": 14,
    "start_time": "2022-11-15T14:16:15.342Z"
   },
   {
    "duration": 8,
    "start_time": "2022-11-15T14:16:15.742Z"
   },
   {
    "duration": 2,
    "start_time": "2022-11-15T14:16:15.943Z"
   },
   {
    "duration": 16,
    "start_time": "2022-11-15T14:16:16.134Z"
   },
   {
    "duration": 6,
    "start_time": "2022-11-15T14:16:16.510Z"
   },
   {
    "duration": 7,
    "start_time": "2022-11-15T14:16:16.702Z"
   },
   {
    "duration": 7,
    "start_time": "2022-11-15T14:16:16.894Z"
   },
   {
    "duration": 298,
    "start_time": "2022-11-15T14:16:17.486Z"
   },
   {
    "duration": 210,
    "start_time": "2022-11-15T14:16:18.095Z"
   },
   {
    "duration": 1100,
    "start_time": "2022-11-15T14:16:19.678Z"
   },
   {
    "duration": 33,
    "start_time": "2022-11-15T14:16:22.854Z"
   },
   {
    "duration": 4,
    "start_time": "2022-11-15T14:16:24.399Z"
   },
   {
    "duration": 2,
    "start_time": "2022-11-15T14:16:25.166Z"
   },
   {
    "duration": 17,
    "start_time": "2022-11-15T14:16:25.678Z"
   },
   {
    "duration": 3,
    "start_time": "2022-11-15T14:16:32.999Z"
   },
   {
    "duration": 18,
    "start_time": "2022-11-15T14:16:34.055Z"
   },
   {
    "duration": 20,
    "start_time": "2022-11-15T14:18:34.994Z"
   },
   {
    "duration": 5,
    "start_time": "2022-11-15T14:33:53.991Z"
   },
   {
    "duration": 13,
    "start_time": "2022-11-15T14:33:55.219Z"
   },
   {
    "duration": 4,
    "start_time": "2022-11-15T14:34:27.123Z"
   },
   {
    "duration": 45,
    "start_time": "2022-11-15T14:34:27.466Z"
   },
   {
    "duration": 13,
    "start_time": "2022-11-15T14:34:27.923Z"
   },
   {
    "duration": 8,
    "start_time": "2022-11-15T14:34:28.098Z"
   },
   {
    "duration": 5,
    "start_time": "2022-11-15T14:34:28.402Z"
   },
   {
    "duration": 19,
    "start_time": "2022-11-15T14:34:28.699Z"
   },
   {
    "duration": 18,
    "start_time": "2022-11-15T14:34:29.019Z"
   },
   {
    "duration": 11,
    "start_time": "2022-11-15T14:34:29.330Z"
   },
   {
    "duration": 7,
    "start_time": "2022-11-15T14:34:29.666Z"
   },
   {
    "duration": 5,
    "start_time": "2022-11-15T14:34:30.003Z"
   },
   {
    "duration": 13,
    "start_time": "2022-11-15T14:34:30.354Z"
   },
   {
    "duration": 5,
    "start_time": "2022-11-15T14:34:30.682Z"
   },
   {
    "duration": 4,
    "start_time": "2022-11-15T14:34:31.027Z"
   },
   {
    "duration": 5,
    "start_time": "2022-11-15T14:34:31.203Z"
   },
   {
    "duration": 4,
    "start_time": "2022-11-15T14:34:31.370Z"
   },
   {
    "duration": 5,
    "start_time": "2022-11-15T14:34:31.570Z"
   },
   {
    "duration": 11,
    "start_time": "2022-11-15T14:34:32.003Z"
   },
   {
    "duration": 13,
    "start_time": "2022-11-15T14:34:32.499Z"
   },
   {
    "duration": 12,
    "start_time": "2022-11-15T14:34:33.138Z"
   },
   {
    "duration": 4,
    "start_time": "2022-11-15T14:34:33.650Z"
   },
   {
    "duration": 2,
    "start_time": "2022-11-15T14:34:33.866Z"
   },
   {
    "duration": 17,
    "start_time": "2022-11-15T14:34:34.115Z"
   },
   {
    "duration": 7,
    "start_time": "2022-11-15T14:34:35.082Z"
   },
   {
    "duration": 3,
    "start_time": "2022-11-15T14:34:35.514Z"
   },
   {
    "duration": 16,
    "start_time": "2022-11-15T14:34:36.195Z"
   },
   {
    "duration": 7,
    "start_time": "2022-11-15T14:34:37.674Z"
   },
   {
    "duration": 6,
    "start_time": "2022-11-15T14:34:38.898Z"
   },
   {
    "duration": 6,
    "start_time": "2022-11-15T14:34:39.250Z"
   },
   {
    "duration": 327,
    "start_time": "2022-11-15T14:34:40.754Z"
   },
   {
    "duration": 216,
    "start_time": "2022-11-15T14:34:44.395Z"
   },
   {
    "duration": 1187,
    "start_time": "2022-11-15T14:34:46.074Z"
   },
   {
    "duration": 23,
    "start_time": "2022-11-15T14:34:49.258Z"
   },
   {
    "duration": 11,
    "start_time": "2022-11-15T14:34:51.009Z"
   },
   {
    "duration": 3,
    "start_time": "2022-11-15T14:34:51.514Z"
   },
   {
    "duration": 15,
    "start_time": "2022-11-15T14:34:52.066Z"
   },
   {
    "duration": 4,
    "start_time": "2022-11-15T14:35:01.170Z"
   },
   {
    "duration": 3,
    "start_time": "2022-11-15T14:35:01.602Z"
   },
   {
    "duration": 15,
    "start_time": "2022-11-15T14:35:02.017Z"
   },
   {
    "duration": 4,
    "start_time": "2022-11-15T14:35:12.706Z"
   },
   {
    "duration": 51,
    "start_time": "2022-11-15T14:35:12.864Z"
   },
   {
    "duration": 13,
    "start_time": "2022-11-15T14:35:13.194Z"
   },
   {
    "duration": 8,
    "start_time": "2022-11-15T14:35:13.345Z"
   },
   {
    "duration": 5,
    "start_time": "2022-11-15T14:35:13.660Z"
   },
   {
    "duration": 20,
    "start_time": "2022-11-15T14:35:13.978Z"
   },
   {
    "duration": 16,
    "start_time": "2022-11-15T14:35:14.305Z"
   },
   {
    "duration": 10,
    "start_time": "2022-11-15T14:35:14.617Z"
   },
   {
    "duration": 6,
    "start_time": "2022-11-15T14:35:14.969Z"
   },
   {
    "duration": 5,
    "start_time": "2022-11-15T14:35:15.305Z"
   },
   {
    "duration": 13,
    "start_time": "2022-11-15T14:35:15.632Z"
   },
   {
    "duration": 4,
    "start_time": "2022-11-15T14:35:15.985Z"
   },
   {
    "duration": 5,
    "start_time": "2022-11-15T14:35:16.329Z"
   },
   {
    "duration": 5,
    "start_time": "2022-11-15T14:35:16.497Z"
   },
   {
    "duration": 5,
    "start_time": "2022-11-15T14:35:16.656Z"
   },
   {
    "duration": 5,
    "start_time": "2022-11-15T14:35:16.841Z"
   },
   {
    "duration": 13,
    "start_time": "2022-11-15T14:35:17.169Z"
   },
   {
    "duration": 13,
    "start_time": "2022-11-15T14:35:17.521Z"
   },
   {
    "duration": 9,
    "start_time": "2022-11-15T14:35:18.041Z"
   },
   {
    "duration": 5,
    "start_time": "2022-11-15T14:35:18.392Z"
   },
   {
    "duration": 2,
    "start_time": "2022-11-15T14:35:18.521Z"
   },
   {
    "duration": 13,
    "start_time": "2022-11-15T14:35:18.721Z"
   },
   {
    "duration": 7,
    "start_time": "2022-11-15T14:35:19.185Z"
   },
   {
    "duration": 3,
    "start_time": "2022-11-15T14:35:19.432Z"
   },
   {
    "duration": 15,
    "start_time": "2022-11-15T14:35:19.673Z"
   },
   {
    "duration": 6,
    "start_time": "2022-11-15T14:35:20.169Z"
   },
   {
    "duration": 7,
    "start_time": "2022-11-15T14:35:20.489Z"
   },
   {
    "duration": 7,
    "start_time": "2022-11-15T14:35:20.728Z"
   },
   {
    "duration": 260,
    "start_time": "2022-11-15T14:35:21.430Z"
   },
   {
    "duration": 210,
    "start_time": "2022-11-15T14:35:22.201Z"
   },
   {
    "duration": 1204,
    "start_time": "2022-11-15T14:35:22.753Z"
   },
   {
    "duration": 118,
    "start_time": "2022-11-15T14:35:23.960Z"
   },
   {
    "duration": 5,
    "start_time": "2022-11-15T14:35:24.793Z"
   },
   {
    "duration": 3,
    "start_time": "2022-11-15T14:35:25.112Z"
   },
   {
    "duration": 16,
    "start_time": "2022-11-15T14:35:25.441Z"
   },
   {
    "duration": 153,
    "start_time": "2022-11-15T14:35:26.625Z"
   },
   {
    "duration": 239,
    "start_time": "2022-11-15T14:35:27.440Z"
   },
   {
    "duration": 244,
    "start_time": "2022-11-15T14:35:46.737Z"
   },
   {
    "duration": 102,
    "start_time": "2022-11-15T14:35:58.185Z"
   },
   {
    "duration": 739,
    "start_time": "2022-11-15T14:36:11.232Z"
   },
   {
    "duration": 9147,
    "start_time": "2022-11-15T14:36:21.258Z"
   },
   {
    "duration": 369,
    "start_time": "2022-11-15T14:36:35.846Z"
   },
   {
    "duration": 145,
    "start_time": "2022-11-15T14:36:47.246Z"
   },
   {
    "duration": 4,
    "start_time": "2022-11-15T14:39:56.401Z"
   },
   {
    "duration": 60,
    "start_time": "2022-11-15T14:39:56.632Z"
   },
   {
    "duration": 14,
    "start_time": "2022-11-15T14:39:57.040Z"
   },
   {
    "duration": 8,
    "start_time": "2022-11-15T14:39:57.240Z"
   },
   {
    "duration": 5,
    "start_time": "2022-11-15T14:39:57.640Z"
   },
   {
    "duration": 16,
    "start_time": "2022-11-15T14:39:58.032Z"
   },
   {
    "duration": 24,
    "start_time": "2022-11-15T14:39:58.433Z"
   },
   {
    "duration": 15,
    "start_time": "2022-11-15T14:39:58.840Z"
   },
   {
    "duration": 6,
    "start_time": "2022-11-15T14:39:59.424Z"
   },
   {
    "duration": 5,
    "start_time": "2022-11-15T14:39:59.911Z"
   },
   {
    "duration": 13,
    "start_time": "2022-11-15T14:40:00.344Z"
   },
   {
    "duration": 5,
    "start_time": "2022-11-15T14:40:00.760Z"
   },
   {
    "duration": 4,
    "start_time": "2022-11-15T14:40:01.199Z"
   },
   {
    "duration": 5,
    "start_time": "2022-11-15T14:40:01.415Z"
   },
   {
    "duration": 4,
    "start_time": "2022-11-15T14:40:01.632Z"
   },
   {
    "duration": 5,
    "start_time": "2022-11-15T14:40:01.871Z"
   },
   {
    "duration": 12,
    "start_time": "2022-11-15T14:40:02.296Z"
   },
   {
    "duration": 13,
    "start_time": "2022-11-15T14:40:02.744Z"
   },
   {
    "duration": 11,
    "start_time": "2022-11-15T14:40:03.231Z"
   },
   {
    "duration": 4,
    "start_time": "2022-11-15T14:40:03.752Z"
   },
   {
    "duration": 5,
    "start_time": "2022-11-15T14:40:04.015Z"
   },
   {
    "duration": 12,
    "start_time": "2022-11-15T14:40:04.321Z"
   },
   {
    "duration": 8,
    "start_time": "2022-11-15T14:40:05.026Z"
   },
   {
    "duration": 4,
    "start_time": "2022-11-15T14:40:05.415Z"
   },
   {
    "duration": 18,
    "start_time": "2022-11-15T14:40:05.960Z"
   },
   {
    "duration": 6,
    "start_time": "2022-11-15T14:40:06.959Z"
   },
   {
    "duration": 6,
    "start_time": "2022-11-15T14:40:07.384Z"
   },
   {
    "duration": 8,
    "start_time": "2022-11-15T14:40:07.799Z"
   },
   {
    "duration": 308,
    "start_time": "2022-11-15T14:40:09.183Z"
   },
   {
    "duration": 214,
    "start_time": "2022-11-15T14:40:12.136Z"
   },
   {
    "duration": 1055,
    "start_time": "2022-11-15T14:40:14.032Z"
   },
   {
    "duration": 146,
    "start_time": "2022-11-15T14:40:17.336Z"
   },
   {
    "duration": 23,
    "start_time": "2022-11-15T14:40:19.144Z"
   },
   {
    "duration": 46,
    "start_time": "2022-11-15T14:40:42.334Z"
   },
   {
    "duration": 18,
    "start_time": "2022-11-15T14:40:58.295Z"
   },
   {
    "duration": 628,
    "start_time": "2022-11-15T14:41:01.406Z"
   },
   {
    "duration": 8985,
    "start_time": "2022-11-15T14:41:08.174Z"
   },
   {
    "duration": 20,
    "start_time": "2022-11-15T14:41:21.207Z"
   },
   {
    "duration": 25,
    "start_time": "2022-11-15T14:41:29.901Z"
   },
   {
    "duration": 19,
    "start_time": "2022-11-15T14:41:33.850Z"
   },
   {
    "duration": 4,
    "start_time": "2022-11-15T14:42:11.589Z"
   },
   {
    "duration": 50,
    "start_time": "2022-11-15T14:42:12.004Z"
   },
   {
    "duration": 13,
    "start_time": "2022-11-15T14:42:12.645Z"
   },
   {
    "duration": 9,
    "start_time": "2022-11-15T14:42:12.892Z"
   },
   {
    "duration": 4,
    "start_time": "2022-11-15T14:42:13.356Z"
   },
   {
    "duration": 16,
    "start_time": "2022-11-15T14:42:13.797Z"
   },
   {
    "duration": 18,
    "start_time": "2022-11-15T14:42:14.284Z"
   },
   {
    "duration": 11,
    "start_time": "2022-11-15T14:42:14.771Z"
   },
   {
    "duration": 7,
    "start_time": "2022-11-15T14:42:15.195Z"
   },
   {
    "duration": 6,
    "start_time": "2022-11-15T14:42:15.655Z"
   },
   {
    "duration": 13,
    "start_time": "2022-11-15T14:42:16.139Z"
   },
   {
    "duration": 5,
    "start_time": "2022-11-15T14:42:16.628Z"
   },
   {
    "duration": 5,
    "start_time": "2022-11-15T14:42:17.147Z"
   },
   {
    "duration": 5,
    "start_time": "2022-11-15T14:42:17.411Z"
   },
   {
    "duration": 5,
    "start_time": "2022-11-15T14:42:17.675Z"
   },
   {
    "duration": 6,
    "start_time": "2022-11-15T14:42:17.931Z"
   },
   {
    "duration": 12,
    "start_time": "2022-11-15T14:42:18.523Z"
   },
   {
    "duration": 15,
    "start_time": "2022-11-15T14:42:19.051Z"
   },
   {
    "duration": 10,
    "start_time": "2022-11-15T14:42:19.659Z"
   },
   {
    "duration": 4,
    "start_time": "2022-11-15T14:42:20.235Z"
   },
   {
    "duration": 6,
    "start_time": "2022-11-15T14:42:20.499Z"
   },
   {
    "duration": 13,
    "start_time": "2022-11-15T14:42:20.843Z"
   },
   {
    "duration": 8,
    "start_time": "2022-11-15T14:42:22.475Z"
   },
   {
    "duration": 3,
    "start_time": "2022-11-15T14:42:23.588Z"
   },
   {
    "duration": 19,
    "start_time": "2022-11-15T14:42:23.987Z"
   },
   {
    "duration": 16,
    "start_time": "2022-11-15T14:42:33.139Z"
   },
   {
    "duration": 6,
    "start_time": "2022-11-15T14:42:35.460Z"
   },
   {
    "duration": 7,
    "start_time": "2022-11-15T14:42:35.941Z"
   },
   {
    "duration": 6,
    "start_time": "2022-11-15T14:42:36.301Z"
   },
   {
    "duration": 42,
    "start_time": "2022-11-15T14:42:37.620Z"
   },
   {
    "duration": 43,
    "start_time": "2022-11-15T14:43:05.249Z"
   },
   {
    "duration": 19,
    "start_time": "2022-11-15T14:43:55.529Z"
   },
   {
    "duration": 4,
    "start_time": "2022-11-15T14:44:00.216Z"
   },
   {
    "duration": 47,
    "start_time": "2022-11-15T14:44:00.399Z"
   },
   {
    "duration": 14,
    "start_time": "2022-11-15T14:44:00.776Z"
   },
   {
    "duration": 8,
    "start_time": "2022-11-15T14:44:00.974Z"
   },
   {
    "duration": 6,
    "start_time": "2022-11-15T14:44:01.335Z"
   },
   {
    "duration": 27,
    "start_time": "2022-11-15T14:44:01.704Z"
   },
   {
    "duration": 16,
    "start_time": "2022-11-15T14:44:02.080Z"
   },
   {
    "duration": 10,
    "start_time": "2022-11-15T14:44:02.440Z"
   },
   {
    "duration": 6,
    "start_time": "2022-11-15T14:44:02.800Z"
   },
   {
    "duration": 5,
    "start_time": "2022-11-15T14:44:03.168Z"
   },
   {
    "duration": 13,
    "start_time": "2022-11-15T14:44:03.545Z"
   },
   {
    "duration": 5,
    "start_time": "2022-11-15T14:44:03.920Z"
   },
   {
    "duration": 5,
    "start_time": "2022-11-15T14:44:04.296Z"
   },
   {
    "duration": 5,
    "start_time": "2022-11-15T14:44:04.495Z"
   },
   {
    "duration": 5,
    "start_time": "2022-11-15T14:44:04.687Z"
   },
   {
    "duration": 8,
    "start_time": "2022-11-15T14:44:04.880Z"
   },
   {
    "duration": 11,
    "start_time": "2022-11-15T14:44:05.255Z"
   },
   {
    "duration": 15,
    "start_time": "2022-11-15T14:44:05.688Z"
   },
   {
    "duration": 10,
    "start_time": "2022-11-15T14:44:06.152Z"
   },
   {
    "duration": 4,
    "start_time": "2022-11-15T14:44:06.552Z"
   },
   {
    "duration": 14,
    "start_time": "2022-11-15T14:44:07.047Z"
   },
   {
    "duration": 7,
    "start_time": "2022-11-15T14:44:07.567Z"
   },
   {
    "duration": 3,
    "start_time": "2022-11-15T14:44:07.840Z"
   },
   {
    "duration": 16,
    "start_time": "2022-11-15T14:44:08.119Z"
   },
   {
    "duration": 7,
    "start_time": "2022-11-15T14:44:08.704Z"
   },
   {
    "duration": 7,
    "start_time": "2022-11-15T14:44:09.031Z"
   },
   {
    "duration": 6,
    "start_time": "2022-11-15T14:44:09.304Z"
   },
   {
    "duration": 390,
    "start_time": "2022-11-15T14:44:10.208Z"
   },
   {
    "duration": 219,
    "start_time": "2022-11-15T14:44:12.272Z"
   },
   {
    "duration": 925,
    "start_time": "2022-11-15T14:44:13.793Z"
   },
   {
    "duration": 31,
    "start_time": "2022-11-15T14:44:16.448Z"
   },
   {
    "duration": 20,
    "start_time": "2022-11-15T14:44:18.911Z"
   },
   {
    "duration": 422,
    "start_time": "2022-11-15T14:44:24.337Z"
   },
   {
    "duration": 8238,
    "start_time": "2022-11-15T14:44:27.567Z"
   },
   {
    "duration": 23,
    "start_time": "2022-11-15T14:44:38.375Z"
   },
   {
    "duration": 25,
    "start_time": "2022-11-15T14:44:43.599Z"
   },
   {
    "duration": 22,
    "start_time": "2022-11-15T14:44:44.400Z"
   },
   {
    "duration": 1593,
    "start_time": "2022-11-16T06:59:35.610Z"
   },
   {
    "duration": 90,
    "start_time": "2022-11-16T06:59:37.809Z"
   },
   {
    "duration": 18,
    "start_time": "2022-11-16T06:59:38.709Z"
   },
   {
    "duration": 9,
    "start_time": "2022-11-16T06:59:38.929Z"
   },
   {
    "duration": 5,
    "start_time": "2022-11-16T06:59:39.649Z"
   },
   {
    "duration": 18,
    "start_time": "2022-11-16T06:59:40.250Z"
   },
   {
    "duration": 18,
    "start_time": "2022-11-16T06:59:41.094Z"
   },
   {
    "duration": 12,
    "start_time": "2022-11-16T06:59:41.712Z"
   },
   {
    "duration": 6,
    "start_time": "2022-11-16T06:59:42.336Z"
   },
   {
    "duration": 5,
    "start_time": "2022-11-16T06:59:43.017Z"
   },
   {
    "duration": 14,
    "start_time": "2022-11-16T06:59:43.729Z"
   },
   {
    "duration": 5,
    "start_time": "2022-11-16T06:59:44.400Z"
   },
   {
    "duration": 5,
    "start_time": "2022-11-16T06:59:45.009Z"
   },
   {
    "duration": 4,
    "start_time": "2022-11-16T06:59:45.553Z"
   },
   {
    "duration": 4,
    "start_time": "2022-11-16T06:59:45.929Z"
   },
   {
    "duration": 7,
    "start_time": "2022-11-16T06:59:46.313Z"
   },
   {
    "duration": 14,
    "start_time": "2022-11-16T06:59:46.929Z"
   },
   {
    "duration": 14,
    "start_time": "2022-11-16T06:59:47.505Z"
   },
   {
    "duration": 9,
    "start_time": "2022-11-16T06:59:48.082Z"
   },
   {
    "duration": 5,
    "start_time": "2022-11-16T06:59:48.790Z"
   },
   {
    "duration": 12,
    "start_time": "2022-11-16T06:59:49.490Z"
   },
   {
    "duration": 7,
    "start_time": "2022-11-16T06:59:50.545Z"
   },
   {
    "duration": 2,
    "start_time": "2022-11-16T06:59:50.944Z"
   },
   {
    "duration": 19,
    "start_time": "2022-11-16T06:59:51.404Z"
   },
   {
    "duration": 7,
    "start_time": "2022-11-16T06:59:53.409Z"
   },
   {
    "duration": 10,
    "start_time": "2022-11-16T06:59:53.903Z"
   },
   {
    "duration": 6,
    "start_time": "2022-11-16T06:59:54.274Z"
   },
   {
    "duration": 330,
    "start_time": "2022-11-16T06:59:55.419Z"
   },
   {
    "duration": 207,
    "start_time": "2022-11-16T06:59:57.521Z"
   },
   {
    "duration": 871,
    "start_time": "2022-11-16T06:59:59.090Z"
   },
   {
    "duration": 45,
    "start_time": "2022-11-16T07:00:02.736Z"
   },
   {
    "duration": 125,
    "start_time": "2022-11-16T07:00:09.618Z"
   },
   {
    "duration": 433,
    "start_time": "2022-11-16T07:00:22.841Z"
   },
   {
    "duration": 8201,
    "start_time": "2022-11-16T07:00:25.307Z"
   },
   {
    "duration": 23,
    "start_time": "2022-11-16T07:00:40.943Z"
   },
   {
    "duration": 14,
    "start_time": "2022-11-16T07:00:58.687Z"
   },
   {
    "duration": 23,
    "start_time": "2022-11-16T07:02:17.452Z"
   },
   {
    "duration": 20,
    "start_time": "2022-11-16T07:02:27.035Z"
   },
   {
    "duration": 27,
    "start_time": "2022-11-16T07:20:03.148Z"
   },
   {
    "duration": 19,
    "start_time": "2022-11-16T07:20:21.270Z"
   },
   {
    "duration": 22,
    "start_time": "2022-11-16T07:20:27.873Z"
   },
   {
    "duration": 6,
    "start_time": "2022-11-16T07:23:34.115Z"
   },
   {
    "duration": 58,
    "start_time": "2022-11-16T07:23:34.474Z"
   },
   {
    "duration": 19,
    "start_time": "2022-11-16T07:23:34.810Z"
   },
   {
    "duration": 8,
    "start_time": "2022-11-16T07:23:34.994Z"
   },
   {
    "duration": 5,
    "start_time": "2022-11-16T07:23:35.338Z"
   },
   {
    "duration": 21,
    "start_time": "2022-11-16T07:23:35.698Z"
   },
   {
    "duration": 24,
    "start_time": "2022-11-16T07:23:36.074Z"
   },
   {
    "duration": 15,
    "start_time": "2022-11-16T07:23:36.425Z"
   },
   {
    "duration": 7,
    "start_time": "2022-11-16T07:23:36.794Z"
   },
   {
    "duration": 6,
    "start_time": "2022-11-16T07:23:37.179Z"
   },
   {
    "duration": 17,
    "start_time": "2022-11-16T07:23:37.574Z"
   },
   {
    "duration": 6,
    "start_time": "2022-11-16T07:23:37.937Z"
   },
   {
    "duration": 5,
    "start_time": "2022-11-16T07:23:38.322Z"
   },
   {
    "duration": 5,
    "start_time": "2022-11-16T07:23:38.545Z"
   },
   {
    "duration": 6,
    "start_time": "2022-11-16T07:23:38.746Z"
   },
   {
    "duration": 6,
    "start_time": "2022-11-16T07:23:38.937Z"
   },
   {
    "duration": 16,
    "start_time": "2022-11-16T07:23:39.401Z"
   },
   {
    "duration": 12,
    "start_time": "2022-11-16T07:24:26.874Z"
   },
   {
    "duration": 14,
    "start_time": "2022-11-16T07:24:53.491Z"
   },
   {
    "duration": 4,
    "start_time": "2022-11-16T07:25:04.512Z"
   },
   {
    "duration": 47,
    "start_time": "2022-11-16T07:25:04.880Z"
   },
   {
    "duration": 14,
    "start_time": "2022-11-16T07:25:05.474Z"
   },
   {
    "duration": 9,
    "start_time": "2022-11-16T07:25:05.778Z"
   },
   {
    "duration": 5,
    "start_time": "2022-11-16T07:25:06.343Z"
   },
   {
    "duration": 20,
    "start_time": "2022-11-16T07:25:07.023Z"
   },
   {
    "duration": 23,
    "start_time": "2022-11-16T07:25:07.631Z"
   },
   {
    "duration": 14,
    "start_time": "2022-11-16T07:25:08.182Z"
   },
   {
    "duration": 7,
    "start_time": "2022-11-16T07:25:08.667Z"
   },
   {
    "duration": 6,
    "start_time": "2022-11-16T07:25:09.126Z"
   },
   {
    "duration": 17,
    "start_time": "2022-11-16T07:25:09.583Z"
   },
   {
    "duration": 6,
    "start_time": "2022-11-16T07:25:10.086Z"
   },
   {
    "duration": 5,
    "start_time": "2022-11-16T07:25:10.703Z"
   },
   {
    "duration": 6,
    "start_time": "2022-11-16T07:25:11.014Z"
   },
   {
    "duration": 5,
    "start_time": "2022-11-16T07:25:11.373Z"
   },
   {
    "duration": 5,
    "start_time": "2022-11-16T07:25:11.711Z"
   },
   {
    "duration": 13,
    "start_time": "2022-11-16T07:25:12.694Z"
   },
   {
    "duration": 12,
    "start_time": "2022-11-16T07:25:13.207Z"
   },
   {
    "duration": 3,
    "start_time": "2022-11-16T07:25:46.198Z"
   },
   {
    "duration": 12,
    "start_time": "2022-11-16T07:25:48.880Z"
   },
   {
    "duration": 12,
    "start_time": "2022-11-16T07:26:18.845Z"
   },
   {
    "duration": 5,
    "start_time": "2022-11-16T07:26:26.717Z"
   },
   {
    "duration": 13,
    "start_time": "2022-11-16T07:26:27.493Z"
   },
   {
    "duration": 16,
    "start_time": "2022-11-16T07:26:28.339Z"
   },
   {
    "duration": 23,
    "start_time": "2022-11-16T07:26:50.900Z"
   },
   {
    "duration": 8,
    "start_time": "2022-11-16T07:26:57.899Z"
   },
   {
    "duration": 7,
    "start_time": "2022-11-16T07:26:58.484Z"
   },
   {
    "duration": 8,
    "start_time": "2022-11-16T07:26:58.870Z"
   },
   {
    "duration": 13,
    "start_time": "2022-11-16T07:27:33.667Z"
   },
   {
    "duration": 10,
    "start_time": "2022-11-16T07:28:08.906Z"
   },
   {
    "duration": 10,
    "start_time": "2022-11-16T07:28:41.743Z"
   },
   {
    "duration": 5,
    "start_time": "2022-11-16T07:28:44.624Z"
   },
   {
    "duration": 11,
    "start_time": "2022-11-16T07:29:55.581Z"
   },
   {
    "duration": 5,
    "start_time": "2022-11-16T07:29:59.926Z"
   },
   {
    "duration": 36,
    "start_time": "2022-11-16T07:30:34.679Z"
   },
   {
    "duration": 13,
    "start_time": "2022-11-16T07:30:43.692Z"
   },
   {
    "duration": 414,
    "start_time": "2022-11-16T07:31:04.788Z"
   },
   {
    "duration": 470,
    "start_time": "2022-11-16T07:31:19.011Z"
   },
   {
    "duration": 396,
    "start_time": "2022-11-16T07:31:33.355Z"
   },
   {
    "duration": 210,
    "start_time": "2022-11-16T07:31:40.386Z"
   },
   {
    "duration": 912,
    "start_time": "2022-11-16T07:31:44.011Z"
   },
   {
    "duration": 113,
    "start_time": "2022-11-16T07:31:49.275Z"
   },
   {
    "duration": 27,
    "start_time": "2022-11-16T07:31:53.565Z"
   },
   {
    "duration": 206,
    "start_time": "2022-11-16T07:32:12.172Z"
   },
   {
    "duration": 113,
    "start_time": "2022-11-16T07:32:30.872Z"
   },
   {
    "duration": 706,
    "start_time": "2022-11-16T07:32:37.632Z"
   },
   {
    "duration": 9035,
    "start_time": "2022-11-16T07:32:45.792Z"
   },
   {
    "duration": 367,
    "start_time": "2022-11-16T07:33:00.176Z"
   },
   {
    "duration": 3925,
    "start_time": "2022-11-16T07:33:26.031Z"
   },
   {
    "duration": 170,
    "start_time": "2022-11-16T07:33:33.881Z"
   },
   {
    "duration": 55,
    "start_time": "2022-11-16T07:36:08.157Z"
   },
   {
    "duration": 52,
    "start_time": "2022-11-16T07:36:26.689Z"
   },
   {
    "duration": 55,
    "start_time": "2022-11-16T07:37:02.172Z"
   },
   {
    "duration": 78,
    "start_time": "2022-11-16T07:37:29.767Z"
   },
   {
    "duration": 56,
    "start_time": "2022-11-16T07:37:35.423Z"
   },
   {
    "duration": 86,
    "start_time": "2022-11-16T07:39:02.886Z"
   },
   {
    "duration": 106,
    "start_time": "2022-11-16T07:40:11.282Z"
   },
   {
    "duration": 246,
    "start_time": "2022-11-16T07:40:42.312Z"
   },
   {
    "duration": 90,
    "start_time": "2022-11-16T07:40:50.770Z"
   },
   {
    "duration": 141,
    "start_time": "2022-11-16T07:41:24.127Z"
   },
   {
    "duration": 36,
    "start_time": "2022-11-16T07:42:10.078Z"
   },
   {
    "duration": 61,
    "start_time": "2022-11-16T07:42:59.030Z"
   },
   {
    "duration": 6,
    "start_time": "2022-11-16T07:50:22.985Z"
   },
   {
    "duration": 70,
    "start_time": "2022-11-16T07:55:07.302Z"
   },
   {
    "duration": 6,
    "start_time": "2022-11-16T07:55:25.492Z"
   },
   {
    "duration": 167,
    "start_time": "2022-11-16T07:55:33.213Z"
   },
   {
    "duration": 10,
    "start_time": "2022-11-16T07:55:51.180Z"
   },
   {
    "duration": 159,
    "start_time": "2022-11-16T07:56:57.626Z"
   },
   {
    "duration": 9,
    "start_time": "2022-11-16T07:57:09.066Z"
   },
   {
    "duration": 304,
    "start_time": "2022-11-16T07:57:32.775Z"
   },
   {
    "duration": 205,
    "start_time": "2022-11-16T07:57:42.274Z"
   },
   {
    "duration": 160,
    "start_time": "2022-11-16T07:58:36.519Z"
   },
   {
    "duration": 51,
    "start_time": "2022-11-16T08:00:10.623Z"
   },
   {
    "duration": 859,
    "start_time": "2022-11-16T08:00:28.109Z"
   },
   {
    "duration": 63,
    "start_time": "2022-11-16T08:01:18.491Z"
   },
   {
    "duration": 55,
    "start_time": "2022-11-16T08:01:43.017Z"
   },
   {
    "duration": 4,
    "start_time": "2022-11-16T08:02:44.577Z"
   },
   {
    "duration": 380,
    "start_time": "2022-11-16T08:03:32.032Z"
   },
   {
    "duration": 351,
    "start_time": "2022-11-16T08:03:50.255Z"
   },
   {
    "duration": 350,
    "start_time": "2022-11-16T08:04:25.140Z"
   },
   {
    "duration": 82,
    "start_time": "2022-11-16T08:05:10.210Z"
   },
   {
    "duration": 364,
    "start_time": "2022-11-16T08:05:37.235Z"
   },
   {
    "duration": 279,
    "start_time": "2022-11-16T08:06:29.616Z"
   },
   {
    "duration": 329,
    "start_time": "2022-11-16T08:06:37.273Z"
   },
   {
    "duration": 310,
    "start_time": "2022-11-16T08:06:44.590Z"
   },
   {
    "duration": 382,
    "start_time": "2022-11-16T08:07:09.719Z"
   },
   {
    "duration": 291,
    "start_time": "2022-11-16T08:07:30.000Z"
   },
   {
    "duration": 353,
    "start_time": "2022-11-16T08:07:58.341Z"
   },
   {
    "duration": 859,
    "start_time": "2022-11-16T08:09:40.410Z"
   },
   {
    "duration": 203,
    "start_time": "2022-11-16T08:10:44.975Z"
   },
   {
    "duration": 95,
    "start_time": "2022-11-16T08:12:17.989Z"
   },
   {
    "duration": 150,
    "start_time": "2022-11-16T08:13:48.937Z"
   },
   {
    "duration": 91,
    "start_time": "2022-11-16T08:14:17.297Z"
   },
   {
    "duration": 54,
    "start_time": "2022-11-16T08:14:27.632Z"
   },
   {
    "duration": 50,
    "start_time": "2022-11-16T08:15:20.870Z"
   },
   {
    "duration": 848,
    "start_time": "2022-11-16T08:16:33.364Z"
   },
   {
    "duration": 114,
    "start_time": "2022-11-16T08:17:09.668Z"
   },
   {
    "duration": 207,
    "start_time": "2022-11-16T08:17:29.073Z"
   },
   {
    "duration": 208,
    "start_time": "2022-11-16T08:17:40.969Z"
   },
   {
    "duration": 52,
    "start_time": "2022-11-16T08:17:55.360Z"
   },
   {
    "duration": 853,
    "start_time": "2022-11-16T08:18:10.609Z"
   },
   {
    "duration": 91,
    "start_time": "2022-11-16T08:19:22.181Z"
   },
   {
    "duration": 133,
    "start_time": "2022-11-16T08:21:04.690Z"
   },
   {
    "duration": 60,
    "start_time": "2022-11-16T08:23:32.614Z"
   },
   {
    "duration": 11,
    "start_time": "2022-11-16T08:23:43.158Z"
   },
   {
    "duration": 9,
    "start_time": "2022-11-16T08:25:19.226Z"
   },
   {
    "duration": 11,
    "start_time": "2022-11-16T08:25:32.289Z"
   },
   {
    "duration": 11,
    "start_time": "2022-11-16T08:25:39.705Z"
   },
   {
    "duration": 11,
    "start_time": "2022-11-16T08:26:02.984Z"
   },
   {
    "duration": 4,
    "start_time": "2022-11-16T08:27:35.949Z"
   },
   {
    "duration": 46,
    "start_time": "2022-11-16T08:27:36.397Z"
   },
   {
    "duration": 13,
    "start_time": "2022-11-16T08:27:36.781Z"
   },
   {
    "duration": 7,
    "start_time": "2022-11-16T08:27:36.983Z"
   },
   {
    "duration": 5,
    "start_time": "2022-11-16T08:27:37.365Z"
   },
   {
    "duration": 16,
    "start_time": "2022-11-16T08:27:37.741Z"
   },
   {
    "duration": 16,
    "start_time": "2022-11-16T08:27:38.101Z"
   },
   {
    "duration": 10,
    "start_time": "2022-11-16T08:27:38.469Z"
   },
   {
    "duration": 7,
    "start_time": "2022-11-16T08:27:38.861Z"
   },
   {
    "duration": 5,
    "start_time": "2022-11-16T08:27:39.252Z"
   },
   {
    "duration": 12,
    "start_time": "2022-11-16T08:27:39.638Z"
   },
   {
    "duration": 6,
    "start_time": "2022-11-16T08:27:40.004Z"
   },
   {
    "duration": 4,
    "start_time": "2022-11-16T08:27:40.388Z"
   },
   {
    "duration": 4,
    "start_time": "2022-11-16T08:27:40.574Z"
   },
   {
    "duration": 5,
    "start_time": "2022-11-16T08:27:40.749Z"
   },
   {
    "duration": 5,
    "start_time": "2022-11-16T08:27:40.941Z"
   },
   {
    "duration": 12,
    "start_time": "2022-11-16T08:27:41.314Z"
   },
   {
    "duration": 3,
    "start_time": "2022-11-16T08:27:41.494Z"
   },
   {
    "duration": 12,
    "start_time": "2022-11-16T08:27:41.869Z"
   },
   {
    "duration": 9,
    "start_time": "2022-11-16T08:27:42.244Z"
   },
   {
    "duration": 4,
    "start_time": "2022-11-16T08:27:42.621Z"
   },
   {
    "duration": 13,
    "start_time": "2022-11-16T08:27:42.997Z"
   },
   {
    "duration": 40,
    "start_time": "2022-11-16T08:27:43.389Z"
   },
   {
    "duration": 6,
    "start_time": "2022-11-16T08:27:43.773Z"
   },
   {
    "duration": 8,
    "start_time": "2022-11-16T08:27:43.975Z"
   },
   {
    "duration": 8,
    "start_time": "2022-11-16T08:27:44.149Z"
   },
   {
    "duration": 13,
    "start_time": "2022-11-16T08:27:44.341Z"
   },
   {
    "duration": 4,
    "start_time": "2022-11-16T08:27:44.717Z"
   },
   {
    "duration": 310,
    "start_time": "2022-11-16T08:27:45.091Z"
   },
   {
    "duration": 215,
    "start_time": "2022-11-16T08:27:46.373Z"
   },
   {
    "duration": 861,
    "start_time": "2022-11-16T08:27:47.102Z"
   },
   {
    "duration": 164,
    "start_time": "2022-11-16T08:27:48.014Z"
   },
   {
    "duration": 223,
    "start_time": "2022-11-16T08:27:48.861Z"
   },
   {
    "duration": 101,
    "start_time": "2022-11-16T08:27:49.086Z"
   },
   {
    "duration": 51,
    "start_time": "2022-11-16T08:27:49.719Z"
   },
   {
    "duration": 818,
    "start_time": "2022-11-16T08:27:50.197Z"
   },
   {
    "duration": 100,
    "start_time": "2022-11-16T08:27:51.017Z"
   },
   {
    "duration": 129,
    "start_time": "2022-11-16T08:27:51.119Z"
   },
   {
    "duration": 49,
    "start_time": "2022-11-16T08:27:51.250Z"
   },
   {
    "duration": 59,
    "start_time": "2022-11-16T08:27:51.428Z"
   },
   {
    "duration": 10,
    "start_time": "2022-11-16T08:27:51.748Z"
   },
   {
    "duration": 2,
    "start_time": "2022-11-16T08:32:59.872Z"
   },
   {
    "duration": 821,
    "start_time": "2022-11-16T08:38:39.376Z"
   },
   {
    "duration": 2,
    "start_time": "2022-11-16T08:39:07.431Z"
   },
   {
    "duration": 2,
    "start_time": "2022-11-16T08:39:10.031Z"
   },
   {
    "duration": 54597,
    "start_time": "2022-11-16T08:47:56.932Z"
   },
   {
    "duration": 113790,
    "start_time": "2022-11-16T08:50:10.258Z"
   },
   {
    "duration": 217676,
    "start_time": "2022-11-16T08:53:42.685Z"
   },
   {
    "duration": 198,
    "start_time": "2022-11-16T08:57:37.547Z"
   },
   {
    "duration": 193,
    "start_time": "2022-11-16T08:58:26.539Z"
   },
   {
    "duration": 872,
    "start_time": "2022-11-16T08:58:38.018Z"
   },
   {
    "duration": 110,
    "start_time": "2022-11-16T08:58:45.377Z"
   },
   {
    "duration": 78,
    "start_time": "2022-11-16T08:58:51.409Z"
   },
   {
    "duration": 118,
    "start_time": "2022-11-16T08:58:55.265Z"
   },
   {
    "duration": 53,
    "start_time": "2022-11-16T08:58:59.073Z"
   },
   {
    "duration": 838,
    "start_time": "2022-11-16T08:59:06.721Z"
   },
   {
    "duration": 847,
    "start_time": "2022-11-16T08:59:16.144Z"
   },
   {
    "duration": 92,
    "start_time": "2022-11-16T08:59:21.934Z"
   },
   {
    "duration": 619,
    "start_time": "2022-11-16T08:59:28.441Z"
   },
   {
    "duration": 40,
    "start_time": "2022-11-16T08:59:32.908Z"
   },
   {
    "duration": 172,
    "start_time": "2022-11-16T08:59:37.473Z"
   },
   {
    "duration": 13351,
    "start_time": "2022-11-16T09:00:19.924Z"
   },
   {
    "duration": 261203,
    "start_time": "2022-11-16T09:02:30.107Z"
   },
   {
    "duration": 67,
    "start_time": "2022-11-16T10:14:40.712Z"
   },
   {
    "duration": 52,
    "start_time": "2022-11-16T13:27:20.625Z"
   },
   {
    "duration": 1647,
    "start_time": "2022-11-16T13:27:23.177Z"
   },
   {
    "duration": 96,
    "start_time": "2022-11-16T13:27:24.826Z"
   },
   {
    "duration": 27,
    "start_time": "2022-11-16T13:27:24.925Z"
   },
   {
    "duration": 9,
    "start_time": "2022-11-16T13:27:24.956Z"
   },
   {
    "duration": 8,
    "start_time": "2022-11-16T13:27:24.968Z"
   },
   {
    "duration": 18,
    "start_time": "2022-11-16T13:27:25.593Z"
   },
   {
    "duration": 17,
    "start_time": "2022-11-16T13:27:26.233Z"
   },
   {
    "duration": 12,
    "start_time": "2022-11-16T13:27:26.697Z"
   },
   {
    "duration": 7,
    "start_time": "2022-11-16T13:27:27.144Z"
   },
   {
    "duration": 7,
    "start_time": "2022-11-16T13:27:27.568Z"
   },
   {
    "duration": 14,
    "start_time": "2022-11-16T13:27:27.976Z"
   },
   {
    "duration": 6,
    "start_time": "2022-11-16T13:27:28.353Z"
   },
   {
    "duration": 5,
    "start_time": "2022-11-16T13:27:28.744Z"
   },
   {
    "duration": 6,
    "start_time": "2022-11-16T13:27:28.945Z"
   },
   {
    "duration": 9,
    "start_time": "2022-11-16T13:27:29.152Z"
   },
   {
    "duration": 6,
    "start_time": "2022-11-16T13:27:29.352Z"
   },
   {
    "duration": 18,
    "start_time": "2022-11-16T13:27:29.753Z"
   },
   {
    "duration": 5,
    "start_time": "2022-11-16T13:27:29.957Z"
   },
   {
    "duration": 13,
    "start_time": "2022-11-16T13:27:30.361Z"
   },
   {
    "duration": 15,
    "start_time": "2022-11-16T13:27:30.784Z"
   },
   {
    "duration": 5,
    "start_time": "2022-11-16T13:27:31.208Z"
   },
   {
    "duration": 20,
    "start_time": "2022-11-16T13:27:31.601Z"
   },
   {
    "duration": 49,
    "start_time": "2022-11-16T13:27:32.005Z"
   },
   {
    "duration": 8,
    "start_time": "2022-11-16T13:27:32.408Z"
   },
   {
    "duration": 8,
    "start_time": "2022-11-16T13:27:32.561Z"
   },
   {
    "duration": 7,
    "start_time": "2022-11-16T13:27:32.793Z"
   },
   {
    "duration": 15,
    "start_time": "2022-11-16T13:27:33.023Z"
   },
   {
    "duration": 5,
    "start_time": "2022-11-16T13:27:33.440Z"
   },
   {
    "duration": 126,
    "start_time": "2022-11-16T13:27:33.848Z"
   },
   {
    "duration": 20,
    "start_time": "2022-11-16T13:27:34.705Z"
   },
   {
    "duration": 19,
    "start_time": "2022-11-16T13:27:35.297Z"
   },
   {
    "duration": 17,
    "start_time": "2022-11-16T13:28:04.376Z"
   },
   {
    "duration": 338,
    "start_time": "2022-11-16T13:28:10.847Z"
   },
   {
    "duration": 243,
    "start_time": "2022-11-16T13:28:22.789Z"
   },
   {
    "duration": 1124,
    "start_time": "2022-11-16T13:28:30.415Z"
   },
   {
    "duration": 43,
    "start_time": "2022-11-16T13:28:35.424Z"
   },
   {
    "duration": 248,
    "start_time": "2022-11-16T13:28:37.710Z"
   },
   {
    "duration": 113,
    "start_time": "2022-11-16T13:28:39.648Z"
   },
   {
    "duration": 70,
    "start_time": "2022-11-16T13:28:41.791Z"
   },
   {
    "duration": 830,
    "start_time": "2022-11-16T13:28:43.390Z"
   },
   {
    "duration": 115,
    "start_time": "2022-11-16T13:28:45.751Z"
   },
   {
    "duration": 18,
    "start_time": "2022-11-16T13:28:53.127Z"
   },
   {
    "duration": 2038,
    "start_time": "2022-11-16T13:29:28.742Z"
   },
   {
    "duration": 54,
    "start_time": "2022-11-16T13:29:38.238Z"
   },
   {
    "duration": 29,
    "start_time": "2022-11-16T13:29:43.405Z"
   },
   {
    "duration": 563,
    "start_time": "2022-11-16T13:29:53.948Z"
   },
   {
    "duration": 18,
    "start_time": "2022-11-16T13:30:03.221Z"
   },
   {
    "duration": 6,
    "start_time": "2022-11-16T13:34:38.258Z"
   },
   {
    "duration": 1600,
    "start_time": "2022-11-16T13:39:39.416Z"
   },
   {
    "duration": 55,
    "start_time": "2022-11-16T13:40:25.063Z"
   },
   {
    "duration": 17,
    "start_time": "2022-11-16T13:40:41.405Z"
   },
   {
    "duration": 6,
    "start_time": "2022-11-16T13:40:58.005Z"
   },
   {
    "duration": 451,
    "start_time": "2022-11-16T13:40:59.877Z"
   },
   {
    "duration": 330,
    "start_time": "2022-11-16T13:41:01.382Z"
   },
   {
    "duration": 1374,
    "start_time": "2022-11-16T13:41:02.959Z"
   },
   {
    "duration": 101,
    "start_time": "2022-11-16T13:41:05.671Z"
   },
   {
    "duration": 448,
    "start_time": "2022-11-16T13:41:08.910Z"
   },
   {
    "duration": 216,
    "start_time": "2022-11-16T13:41:10.734Z"
   },
   {
    "duration": 76,
    "start_time": "2022-11-16T13:41:13.581Z"
   },
   {
    "duration": 1097,
    "start_time": "2022-11-16T13:41:15.661Z"
   },
   {
    "duration": 123,
    "start_time": "2022-11-16T13:41:18.398Z"
   },
   {
    "duration": 1653,
    "start_time": "2022-11-16T13:41:19.965Z"
   },
   {
    "duration": 57,
    "start_time": "2022-11-16T13:41:21.829Z"
   },
   {
    "duration": 412,
    "start_time": "2022-11-16T13:41:23.589Z"
   },
   {
    "duration": 14,
    "start_time": "2022-11-16T13:41:24.877Z"
   },
   {
    "duration": 98,
    "start_time": "2022-11-16T13:48:39.327Z"
   },
   {
    "duration": 1841,
    "start_time": "2022-11-16T13:49:53.845Z"
   },
   {
    "duration": 48,
    "start_time": "2022-11-16T14:02:34.292Z"
   },
   {
    "duration": 15,
    "start_time": "2022-11-16T14:02:37.299Z"
   },
   {
    "duration": 38,
    "start_time": "2022-11-16T14:26:57.679Z"
   },
   {
    "duration": 2798,
    "start_time": "2022-11-16T14:27:15.779Z"
   },
   {
    "duration": 2840,
    "start_time": "2022-11-16T14:27:57.794Z"
   },
   {
    "duration": 4904,
    "start_time": "2022-11-16T14:28:16.782Z"
   },
   {
    "duration": 74,
    "start_time": "2022-11-16T14:29:41.335Z"
   },
   {
    "duration": 79,
    "start_time": "2022-11-16T14:29:53.829Z"
   },
   {
    "duration": 13004,
    "start_time": "2022-11-16T14:31:48.367Z"
   },
   {
    "duration": 128,
    "start_time": "2022-11-16T14:33:16.135Z"
   },
   {
    "duration": 13973,
    "start_time": "2022-11-16T14:40:14.648Z"
   },
   {
    "duration": 15093,
    "start_time": "2022-11-16T14:41:00.989Z"
   },
   {
    "duration": 1956864,
    "start_time": "2022-11-16T14:41:33.504Z"
   },
   {
    "duration": 53,
    "start_time": "2022-11-17T06:47:24.967Z"
   },
   {
    "duration": 1607,
    "start_time": "2022-11-17T06:47:31.133Z"
   },
   {
    "duration": 98,
    "start_time": "2022-11-17T06:47:32.742Z"
   },
   {
    "duration": 18,
    "start_time": "2022-11-17T06:47:33.499Z"
   },
   {
    "duration": 7,
    "start_time": "2022-11-17T06:47:33.877Z"
   },
   {
    "duration": 5,
    "start_time": "2022-11-17T06:47:34.572Z"
   },
   {
    "duration": 22,
    "start_time": "2022-11-17T06:47:35.077Z"
   },
   {
    "duration": 17,
    "start_time": "2022-11-17T06:47:35.508Z"
   },
   {
    "duration": 11,
    "start_time": "2022-11-17T06:47:35.933Z"
   },
   {
    "duration": 9,
    "start_time": "2022-11-17T06:47:36.333Z"
   },
   {
    "duration": 5,
    "start_time": "2022-11-17T06:47:36.724Z"
   },
   {
    "duration": 13,
    "start_time": "2022-11-17T06:47:37.100Z"
   },
   {
    "duration": 5,
    "start_time": "2022-11-17T06:47:37.492Z"
   },
   {
    "duration": 5,
    "start_time": "2022-11-17T06:47:37.875Z"
   },
   {
    "duration": 5,
    "start_time": "2022-11-17T06:47:38.062Z"
   },
   {
    "duration": 4,
    "start_time": "2022-11-17T06:47:38.245Z"
   },
   {
    "duration": 5,
    "start_time": "2022-11-17T06:47:38.436Z"
   },
   {
    "duration": 12,
    "start_time": "2022-11-17T06:47:38.802Z"
   },
   {
    "duration": 3,
    "start_time": "2022-11-17T06:47:38.997Z"
   },
   {
    "duration": 12,
    "start_time": "2022-11-17T06:47:39.381Z"
   },
   {
    "duration": 11,
    "start_time": "2022-11-17T06:47:39.775Z"
   },
   {
    "duration": 5,
    "start_time": "2022-11-17T06:47:40.148Z"
   },
   {
    "duration": 11,
    "start_time": "2022-11-17T06:47:40.541Z"
   },
   {
    "duration": 33,
    "start_time": "2022-11-17T06:47:40.932Z"
   },
   {
    "duration": 7,
    "start_time": "2022-11-17T06:47:41.316Z"
   },
   {
    "duration": 5,
    "start_time": "2022-11-17T06:47:41.515Z"
   },
   {
    "duration": 6,
    "start_time": "2022-11-17T06:47:41.699Z"
   },
   {
    "duration": 14,
    "start_time": "2022-11-17T06:47:41.909Z"
   },
   {
    "duration": 5,
    "start_time": "2022-11-17T06:47:42.299Z"
   },
   {
    "duration": 357,
    "start_time": "2022-11-17T06:47:42.708Z"
   },
   {
    "duration": 212,
    "start_time": "2022-11-17T06:47:43.121Z"
   },
   {
    "duration": 1035,
    "start_time": "2022-11-17T06:47:43.556Z"
   },
   {
    "duration": 158,
    "start_time": "2022-11-17T06:47:44.593Z"
   },
   {
    "duration": 185,
    "start_time": "2022-11-17T06:47:44.867Z"
   },
   {
    "duration": 203,
    "start_time": "2022-11-17T06:47:45.348Z"
   },
   {
    "duration": 61,
    "start_time": "2022-11-17T06:47:45.860Z"
   },
   {
    "duration": 802,
    "start_time": "2022-11-17T06:47:46.500Z"
   },
   {
    "duration": 117,
    "start_time": "2022-11-17T06:47:47.304Z"
   },
   {
    "duration": 1463,
    "start_time": "2022-11-17T06:47:47.709Z"
   },
   {
    "duration": 46,
    "start_time": "2022-11-17T06:47:49.174Z"
   },
   {
    "duration": 420,
    "start_time": "2022-11-17T06:47:49.222Z"
   },
   {
    "duration": 11,
    "start_time": "2022-11-17T06:47:50.754Z"
   },
   {
    "duration": 543,
    "start_time": "2022-11-17T06:47:54.675Z"
   },
   {
    "duration": 544,
    "start_time": "2022-11-17T06:53:36.640Z"
   },
   {
    "duration": 25200,
    "start_time": "2022-11-17T06:55:49.332Z"
   },
   {
    "duration": 20,
    "start_time": "2022-11-17T06:56:47.137Z"
   },
   {
    "duration": 100,
    "start_time": "2022-11-17T06:58:19.772Z"
   },
   {
    "duration": 1552,
    "start_time": "2022-11-17T06:58:29.000Z"
   },
   {
    "duration": 33,
    "start_time": "2022-11-17T06:58:49.823Z"
   },
   {
    "duration": 356,
    "start_time": "2022-11-17T06:58:55.799Z"
   },
   {
    "duration": 24,
    "start_time": "2022-11-17T06:58:58.717Z"
   },
   {
    "duration": 5,
    "start_time": "2022-11-17T07:00:17.916Z"
   },
   {
    "duration": 321,
    "start_time": "2022-11-17T07:00:18.756Z"
   },
   {
    "duration": 277,
    "start_time": "2022-11-17T07:00:19.540Z"
   },
   {
    "duration": 991,
    "start_time": "2022-11-17T07:00:20.028Z"
   },
   {
    "duration": 132,
    "start_time": "2022-11-17T07:00:21.021Z"
   },
   {
    "duration": 155,
    "start_time": "2022-11-17T07:00:21.405Z"
   },
   {
    "duration": 118,
    "start_time": "2022-11-17T07:00:22.237Z"
   },
   {
    "duration": 53,
    "start_time": "2022-11-17T07:00:23.299Z"
   },
   {
    "duration": 817,
    "start_time": "2022-11-17T07:00:24.043Z"
   },
   {
    "duration": 90,
    "start_time": "2022-11-17T07:00:24.861Z"
   },
   {
    "duration": 1483,
    "start_time": "2022-11-17T07:00:25.492Z"
   },
   {
    "duration": 30,
    "start_time": "2022-11-17T07:00:26.977Z"
   },
   {
    "duration": 357,
    "start_time": "2022-11-17T07:00:27.031Z"
   },
   {
    "duration": 11,
    "start_time": "2022-11-17T07:00:28.875Z"
   },
   {
    "duration": 518,
    "start_time": "2022-11-17T07:00:39.818Z"
   },
   {
    "duration": 25058,
    "start_time": "2022-11-17T07:00:42.884Z"
   },
   {
    "duration": 20,
    "start_time": "2022-11-17T07:01:59.945Z"
   },
   {
    "duration": 41190,
    "start_time": "2022-11-17T07:02:43.151Z"
   },
   {
    "duration": 14,
    "start_time": "2022-11-17T07:03:32.030Z"
   },
   {
    "duration": 30963,
    "start_time": "2022-11-17T07:03:54.221Z"
   },
   {
    "duration": 20,
    "start_time": "2022-11-17T07:08:50.084Z"
   },
   {
    "duration": 78,
    "start_time": "2022-11-17T07:09:08.548Z"
   },
   {
    "duration": 20,
    "start_time": "2022-11-17T07:09:24.851Z"
   },
   {
    "duration": 37975,
    "start_time": "2022-11-17T07:11:14.680Z"
   },
   {
    "duration": 24,
    "start_time": "2022-11-17T07:12:04.455Z"
   },
   {
    "duration": 230528,
    "start_time": "2022-11-17T07:12:43.325Z"
   },
   {
    "duration": 21,
    "start_time": "2022-11-17T07:17:10.333Z"
   },
   {
    "duration": 116442,
    "start_time": "2022-11-17T07:18:13.730Z"
   },
   {
    "duration": 21,
    "start_time": "2022-11-17T07:20:58.165Z"
   },
   {
    "duration": 146770,
    "start_time": "2022-11-17T07:22:10.404Z"
   },
   {
    "duration": 22,
    "start_time": "2022-11-17T07:25:08.565Z"
   },
   {
    "duration": 59410,
    "start_time": "2022-11-17T07:25:45.277Z"
   },
   {
    "duration": 15,
    "start_time": "2022-11-17T07:26:47.337Z"
   },
   {
    "duration": 57045,
    "start_time": "2022-11-17T07:26:57.745Z"
   },
   {
    "duration": 14,
    "start_time": "2022-11-17T07:28:02.815Z"
   },
   {
    "duration": 32681,
    "start_time": "2022-11-17T07:29:02.821Z"
   },
   {
    "duration": 13,
    "start_time": "2022-11-17T07:29:38.574Z"
   },
   {
    "duration": 14226,
    "start_time": "2022-11-17T07:30:06.196Z"
   },
   {
    "duration": 13,
    "start_time": "2022-11-17T07:30:28.539Z"
   },
   {
    "duration": 55657,
    "start_time": "2022-11-17T07:30:45.818Z"
   },
   {
    "duration": 135802,
    "start_time": "2022-11-17T07:31:52.896Z"
   },
   {
    "duration": 14,
    "start_time": "2022-11-17T07:34:08.700Z"
   },
   {
    "duration": 2821,
    "start_time": "2022-11-17T07:35:11.010Z"
   },
   {
    "duration": 3255,
    "start_time": "2022-11-17T07:35:19.905Z"
   },
   {
    "duration": 16,
    "start_time": "2022-11-17T08:11:42.006Z"
   },
   {
    "duration": 17,
    "start_time": "2022-11-17T08:13:00.541Z"
   },
   {
    "duration": 4,
    "start_time": "2022-11-17T08:13:08.038Z"
   },
   {
    "duration": 53,
    "start_time": "2022-11-17T08:13:09.158Z"
   },
   {
    "duration": 18,
    "start_time": "2022-11-17T08:13:09.750Z"
   },
   {
    "duration": 10,
    "start_time": "2022-11-17T08:13:09.972Z"
   },
   {
    "duration": 5,
    "start_time": "2022-11-17T08:13:10.414Z"
   },
   {
    "duration": 16,
    "start_time": "2022-11-17T08:13:10.813Z"
   },
   {
    "duration": 17,
    "start_time": "2022-11-17T08:13:11.277Z"
   },
   {
    "duration": 12,
    "start_time": "2022-11-17T08:13:11.764Z"
   },
   {
    "duration": 7,
    "start_time": "2022-11-17T08:13:12.430Z"
   },
   {
    "duration": 5,
    "start_time": "2022-11-17T08:13:13.100Z"
   },
   {
    "duration": 13,
    "start_time": "2022-11-17T08:13:13.668Z"
   },
   {
    "duration": 5,
    "start_time": "2022-11-17T08:13:14.200Z"
   },
   {
    "duration": 5,
    "start_time": "2022-11-17T08:13:14.813Z"
   },
   {
    "duration": 5,
    "start_time": "2022-11-17T08:13:15.132Z"
   },
   {
    "duration": 5,
    "start_time": "2022-11-17T08:13:15.388Z"
   },
   {
    "duration": 7,
    "start_time": "2022-11-17T08:13:15.636Z"
   },
   {
    "duration": 12,
    "start_time": "2022-11-17T08:13:19.308Z"
   },
   {
    "duration": 4,
    "start_time": "2022-11-17T08:13:26.444Z"
   },
   {
    "duration": 16,
    "start_time": "2022-11-17T08:13:27.708Z"
   },
   {
    "duration": 10,
    "start_time": "2022-11-17T08:13:29.581Z"
   },
   {
    "duration": 5,
    "start_time": "2022-11-17T08:13:30.083Z"
   },
   {
    "duration": 17,
    "start_time": "2022-11-17T08:13:30.548Z"
   },
   {
    "duration": 44,
    "start_time": "2022-11-17T08:13:32.124Z"
   },
   {
    "duration": 7,
    "start_time": "2022-11-17T08:13:32.699Z"
   },
   {
    "duration": 8,
    "start_time": "2022-11-17T08:13:32.947Z"
   },
   {
    "duration": 7,
    "start_time": "2022-11-17T08:13:33.196Z"
   },
   {
    "duration": 13,
    "start_time": "2022-11-17T08:13:33.460Z"
   },
   {
    "duration": 5,
    "start_time": "2022-11-17T08:13:34.027Z"
   },
   {
    "duration": 370,
    "start_time": "2022-11-17T08:13:34.707Z"
   },
   {
    "duration": 244,
    "start_time": "2022-11-17T08:13:35.223Z"
   },
   {
    "duration": 986,
    "start_time": "2022-11-17T08:13:35.668Z"
   },
   {
    "duration": 203,
    "start_time": "2022-11-17T08:13:36.656Z"
   },
   {
    "duration": 272,
    "start_time": "2022-11-17T08:13:36.980Z"
   },
   {
    "duration": 156,
    "start_time": "2022-11-17T08:13:37.404Z"
   },
   {
    "duration": 55,
    "start_time": "2022-11-17T08:13:37.907Z"
   },
   {
    "duration": 801,
    "start_time": "2022-11-17T08:13:38.428Z"
   },
   {
    "duration": 90,
    "start_time": "2022-11-17T08:13:39.232Z"
   },
   {
    "duration": 1532,
    "start_time": "2022-11-17T08:13:39.708Z"
   },
   {
    "duration": 35,
    "start_time": "2022-11-17T08:13:41.242Z"
   },
   {
    "duration": 385,
    "start_time": "2022-11-17T08:13:41.279Z"
   },
   {
    "duration": 11,
    "start_time": "2022-11-17T08:13:41.666Z"
   },
   {
    "duration": 55587,
    "start_time": "2022-11-17T08:13:54.860Z"
   },
   {
    "duration": 14,
    "start_time": "2022-11-17T08:14:54.737Z"
   },
   {
    "duration": 5,
    "start_time": "2022-11-17T08:15:25.632Z"
   },
   {
    "duration": 49,
    "start_time": "2022-11-17T08:15:25.992Z"
   },
   {
    "duration": 13,
    "start_time": "2022-11-17T08:15:26.672Z"
   },
   {
    "duration": 10,
    "start_time": "2022-11-17T08:15:26.888Z"
   },
   {
    "duration": 6,
    "start_time": "2022-11-17T08:15:27.288Z"
   },
   {
    "duration": 21,
    "start_time": "2022-11-17T08:15:27.689Z"
   },
   {
    "duration": 23,
    "start_time": "2022-11-17T08:15:28.063Z"
   },
   {
    "duration": 15,
    "start_time": "2022-11-17T08:15:28.464Z"
   },
   {
    "duration": 7,
    "start_time": "2022-11-17T08:15:28.855Z"
   },
   {
    "duration": 5,
    "start_time": "2022-11-17T08:15:29.272Z"
   },
   {
    "duration": 21,
    "start_time": "2022-11-17T08:15:29.680Z"
   },
   {
    "duration": 6,
    "start_time": "2022-11-17T08:15:30.120Z"
   },
   {
    "duration": 5,
    "start_time": "2022-11-17T08:15:30.512Z"
   },
   {
    "duration": 5,
    "start_time": "2022-11-17T08:15:30.703Z"
   },
   {
    "duration": 4,
    "start_time": "2022-11-17T08:15:30.920Z"
   },
   {
    "duration": 10,
    "start_time": "2022-11-17T08:15:31.312Z"
   },
   {
    "duration": 12,
    "start_time": "2022-11-17T08:15:32.472Z"
   },
   {
    "duration": 3,
    "start_time": "2022-11-17T08:15:32.703Z"
   },
   {
    "duration": 17,
    "start_time": "2022-11-17T08:15:33.327Z"
   },
   {
    "duration": 12,
    "start_time": "2022-11-17T08:15:34.153Z"
   },
   {
    "duration": 4,
    "start_time": "2022-11-17T08:15:34.792Z"
   },
   {
    "duration": 12,
    "start_time": "2022-11-17T08:15:35.335Z"
   },
   {
    "duration": 18,
    "start_time": "2022-11-17T08:15:36.295Z"
   },
   {
    "duration": 6,
    "start_time": "2022-11-17T08:15:37.143Z"
   },
   {
    "duration": 3,
    "start_time": "2022-11-17T08:15:52.263Z"
   },
   {
    "duration": 13,
    "start_time": "2022-11-17T08:15:53.295Z"
   },
   {
    "duration": 9,
    "start_time": "2022-11-17T08:15:54.032Z"
   },
   {
    "duration": 4,
    "start_time": "2022-11-17T08:15:54.831Z"
   },
   {
    "duration": 12,
    "start_time": "2022-11-17T08:15:55.527Z"
   },
   {
    "duration": 31,
    "start_time": "2022-11-17T08:15:56.343Z"
   },
   {
    "duration": 6,
    "start_time": "2022-11-17T08:15:57.255Z"
   },
   {
    "duration": 7,
    "start_time": "2022-11-17T08:15:57.494Z"
   },
   {
    "duration": 6,
    "start_time": "2022-11-17T08:15:57.719Z"
   },
   {
    "duration": 12,
    "start_time": "2022-11-17T08:15:58.263Z"
   },
   {
    "duration": 5,
    "start_time": "2022-11-17T08:15:58.847Z"
   },
   {
    "duration": 481,
    "start_time": "2022-11-17T08:15:59.455Z"
   },
   {
    "duration": 248,
    "start_time": "2022-11-17T08:16:00.056Z"
   },
   {
    "duration": 986,
    "start_time": "2022-11-17T08:16:00.655Z"
   },
   {
    "duration": 210,
    "start_time": "2022-11-17T08:16:01.644Z"
   },
   {
    "duration": 68,
    "start_time": "2022-11-17T08:16:02.895Z"
   },
   {
    "duration": 84,
    "start_time": "2022-11-17T08:16:03.679Z"
   },
   {
    "duration": 54,
    "start_time": "2022-11-17T08:16:04.687Z"
   },
   {
    "duration": 703,
    "start_time": "2022-11-17T08:16:05.742Z"
   },
   {
    "duration": 63,
    "start_time": "2022-11-17T08:16:07.087Z"
   },
   {
    "duration": 1239,
    "start_time": "2022-11-17T08:16:08.206Z"
   },
   {
    "duration": 29,
    "start_time": "2022-11-17T08:16:11.038Z"
   },
   {
    "duration": 344,
    "start_time": "2022-11-17T08:16:12.933Z"
   },
   {
    "duration": 11,
    "start_time": "2022-11-17T08:16:14.030Z"
   },
   {
    "duration": 48847,
    "start_time": "2022-11-17T08:16:28.407Z"
   },
   {
    "duration": 14,
    "start_time": "2022-11-17T08:17:20.333Z"
   },
   {
    "duration": 474271,
    "start_time": "2022-11-17T08:18:26.442Z"
   },
   {
    "duration": 14,
    "start_time": "2022-11-17T09:25:48.078Z"
   },
   {
    "duration": 4,
    "start_time": "2022-11-17T09:26:38.092Z"
   },
   {
    "duration": 46,
    "start_time": "2022-11-17T09:26:38.420Z"
   },
   {
    "duration": 12,
    "start_time": "2022-11-17T09:26:38.956Z"
   },
   {
    "duration": 11,
    "start_time": "2022-11-17T09:26:39.188Z"
   },
   {
    "duration": 6,
    "start_time": "2022-11-17T09:26:39.628Z"
   },
   {
    "duration": 16,
    "start_time": "2022-11-17T09:26:40.092Z"
   },
   {
    "duration": 16,
    "start_time": "2022-11-17T09:26:40.532Z"
   },
   {
    "duration": 10,
    "start_time": "2022-11-17T09:26:40.950Z"
   },
   {
    "duration": 7,
    "start_time": "2022-11-17T09:26:41.364Z"
   },
   {
    "duration": 5,
    "start_time": "2022-11-17T09:26:41.764Z"
   },
   {
    "duration": 14,
    "start_time": "2022-11-17T09:26:42.187Z"
   },
   {
    "duration": 6,
    "start_time": "2022-11-17T09:26:42.603Z"
   },
   {
    "duration": 5,
    "start_time": "2022-11-17T09:26:42.971Z"
   },
   {
    "duration": 4,
    "start_time": "2022-11-17T09:26:43.140Z"
   },
   {
    "duration": 5,
    "start_time": "2022-11-17T09:26:43.339Z"
   },
   {
    "duration": 6,
    "start_time": "2022-11-17T09:26:43.532Z"
   },
   {
    "duration": 12,
    "start_time": "2022-11-17T09:26:43.939Z"
   },
   {
    "duration": 3,
    "start_time": "2022-11-17T09:26:44.139Z"
   },
   {
    "duration": 14,
    "start_time": "2022-11-17T09:26:44.691Z"
   },
   {
    "duration": 9,
    "start_time": "2022-11-17T09:26:45.779Z"
   },
   {
    "duration": 4,
    "start_time": "2022-11-17T09:26:46.340Z"
   },
   {
    "duration": 13,
    "start_time": "2022-11-17T09:26:46.932Z"
   },
   {
    "duration": 31,
    "start_time": "2022-11-17T09:26:47.699Z"
   },
   {
    "duration": 6,
    "start_time": "2022-11-17T09:26:48.243Z"
   },
   {
    "duration": 8,
    "start_time": "2022-11-17T09:26:49.251Z"
   },
   {
    "duration": 9,
    "start_time": "2022-11-17T09:26:49.612Z"
   },
   {
    "duration": 12,
    "start_time": "2022-11-17T09:26:50.236Z"
   },
   {
    "duration": 5,
    "start_time": "2022-11-17T09:26:51.012Z"
   },
   {
    "duration": 343,
    "start_time": "2022-11-17T09:26:51.532Z"
   },
   {
    "duration": 243,
    "start_time": "2022-11-17T09:26:52.141Z"
   },
   {
    "duration": 957,
    "start_time": "2022-11-17T09:26:52.612Z"
   },
   {
    "duration": 94,
    "start_time": "2022-11-17T09:26:53.571Z"
   },
   {
    "duration": 91,
    "start_time": "2022-11-17T09:26:54.572Z"
   },
   {
    "duration": 102,
    "start_time": "2022-11-17T09:26:55.356Z"
   },
   {
    "duration": 50,
    "start_time": "2022-11-17T09:26:56.347Z"
   },
   {
    "duration": 763,
    "start_time": "2022-11-17T09:26:57.187Z"
   },
   {
    "duration": 80,
    "start_time": "2022-11-17T09:26:57.972Z"
   },
   {
    "duration": 1423,
    "start_time": "2022-11-17T09:26:59.155Z"
   },
   {
    "duration": 29,
    "start_time": "2022-11-17T09:27:00.580Z"
   },
   {
    "duration": 380,
    "start_time": "2022-11-17T09:27:01.412Z"
   },
   {
    "duration": 11,
    "start_time": "2022-11-17T09:27:01.854Z"
   },
   {
    "duration": 4,
    "start_time": "2022-11-17T09:27:53.891Z"
   },
   {
    "duration": 45,
    "start_time": "2022-11-17T09:27:54.185Z"
   },
   {
    "duration": 13,
    "start_time": "2022-11-17T09:27:54.619Z"
   },
   {
    "duration": 9,
    "start_time": "2022-11-17T09:27:54.817Z"
   },
   {
    "duration": 6,
    "start_time": "2022-11-17T09:27:55.249Z"
   },
   {
    "duration": 16,
    "start_time": "2022-11-17T09:27:55.682Z"
   },
   {
    "duration": 16,
    "start_time": "2022-11-17T09:27:56.082Z"
   },
   {
    "duration": 12,
    "start_time": "2022-11-17T09:27:56.513Z"
   },
   {
    "duration": 7,
    "start_time": "2022-11-17T09:27:56.937Z"
   },
   {
    "duration": 5,
    "start_time": "2022-11-17T09:27:57.385Z"
   },
   {
    "duration": 13,
    "start_time": "2022-11-17T09:27:57.841Z"
   },
   {
    "duration": 5,
    "start_time": "2022-11-17T09:27:58.282Z"
   },
   {
    "duration": 4,
    "start_time": "2022-11-17T09:27:58.873Z"
   },
   {
    "duration": 5,
    "start_time": "2022-11-17T09:27:59.224Z"
   },
   {
    "duration": 5,
    "start_time": "2022-11-17T09:27:59.785Z"
   },
   {
    "duration": 6,
    "start_time": "2022-11-17T09:28:00.193Z"
   },
   {
    "duration": 12,
    "start_time": "2022-11-17T09:28:01.825Z"
   },
   {
    "duration": 3,
    "start_time": "2022-11-17T09:28:02.593Z"
   },
   {
    "duration": 14,
    "start_time": "2022-11-17T09:28:03.506Z"
   },
   {
    "duration": 8,
    "start_time": "2022-11-17T09:28:05.801Z"
   },
   {
    "duration": 4,
    "start_time": "2022-11-17T09:28:06.226Z"
   },
   {
    "duration": 12,
    "start_time": "2022-11-17T09:28:06.609Z"
   },
   {
    "duration": 29,
    "start_time": "2022-11-17T09:28:07.002Z"
   },
   {
    "duration": 6,
    "start_time": "2022-11-17T09:28:07.385Z"
   },
   {
    "duration": 6,
    "start_time": "2022-11-17T09:28:07.577Z"
   },
   {
    "duration": 7,
    "start_time": "2022-11-17T09:28:07.776Z"
   },
   {
    "duration": 13,
    "start_time": "2022-11-17T09:28:07.970Z"
   },
   {
    "duration": 5,
    "start_time": "2022-11-17T09:28:08.353Z"
   },
   {
    "duration": 301,
    "start_time": "2022-11-17T09:28:08.777Z"
   },
   {
    "duration": 210,
    "start_time": "2022-11-17T09:28:09.177Z"
   },
   {
    "duration": 938,
    "start_time": "2022-11-17T09:28:09.586Z"
   },
   {
    "duration": 137,
    "start_time": "2022-11-17T09:28:10.526Z"
   },
   {
    "duration": 198,
    "start_time": "2022-11-17T09:28:10.754Z"
   },
   {
    "duration": 127,
    "start_time": "2022-11-17T09:28:11.129Z"
   },
   {
    "duration": 45,
    "start_time": "2022-11-17T09:28:11.538Z"
   },
   {
    "duration": 731,
    "start_time": "2022-11-17T09:28:11.938Z"
   },
   {
    "duration": 64,
    "start_time": "2022-11-17T09:28:12.671Z"
   },
   {
    "duration": 1228,
    "start_time": "2022-11-17T09:28:12.760Z"
   },
   {
    "duration": 28,
    "start_time": "2022-11-17T09:28:13.990Z"
   },
   {
    "duration": 360,
    "start_time": "2022-11-17T09:28:15.386Z"
   },
   {
    "duration": 11,
    "start_time": "2022-11-17T09:28:15.964Z"
   },
   {
    "duration": 42322,
    "start_time": "2022-11-17T09:29:37.071Z"
   },
   {
    "duration": 44,
    "start_time": "2022-11-17T11:25:49.207Z"
   },
   {
    "duration": 1516,
    "start_time": "2022-11-17T11:25:54.092Z"
   },
   {
    "duration": 91,
    "start_time": "2022-11-17T11:25:55.611Z"
   },
   {
    "duration": 16,
    "start_time": "2022-11-17T11:25:55.703Z"
   },
   {
    "duration": 7,
    "start_time": "2022-11-17T11:25:56.220Z"
   },
   {
    "duration": 5,
    "start_time": "2022-11-17T11:25:56.684Z"
   },
   {
    "duration": 15,
    "start_time": "2022-11-17T11:25:57.092Z"
   },
   {
    "duration": 16,
    "start_time": "2022-11-17T11:25:57.484Z"
   },
   {
    "duration": 9,
    "start_time": "2022-11-17T11:25:57.868Z"
   },
   {
    "duration": 6,
    "start_time": "2022-11-17T11:25:58.268Z"
   },
   {
    "duration": 5,
    "start_time": "2022-11-17T11:25:58.676Z"
   },
   {
    "duration": 12,
    "start_time": "2022-11-17T11:25:59.059Z"
   },
   {
    "duration": 4,
    "start_time": "2022-11-17T11:25:59.443Z"
   },
   {
    "duration": 3,
    "start_time": "2022-11-17T11:25:59.811Z"
   },
   {
    "duration": 4,
    "start_time": "2022-11-17T11:25:59.996Z"
   },
   {
    "duration": 3,
    "start_time": "2022-11-17T11:26:00.180Z"
   },
   {
    "duration": 5,
    "start_time": "2022-11-17T11:26:00.372Z"
   },
   {
    "duration": 11,
    "start_time": "2022-11-17T11:26:00.771Z"
   },
   {
    "duration": 3,
    "start_time": "2022-11-17T11:26:00.971Z"
   },
   {
    "duration": 13,
    "start_time": "2022-11-17T11:26:01.364Z"
   },
   {
    "duration": 9,
    "start_time": "2022-11-17T11:26:01.748Z"
   },
   {
    "duration": 3,
    "start_time": "2022-11-17T11:26:02.147Z"
   },
   {
    "duration": 12,
    "start_time": "2022-11-17T11:26:02.555Z"
   },
   {
    "duration": 25,
    "start_time": "2022-11-17T11:26:02.939Z"
   },
   {
    "duration": 5,
    "start_time": "2022-11-17T11:26:03.347Z"
   },
   {
    "duration": 6,
    "start_time": "2022-11-17T11:26:03.547Z"
   },
   {
    "duration": 6,
    "start_time": "2022-11-17T11:26:03.731Z"
   },
   {
    "duration": 10,
    "start_time": "2022-11-17T11:26:03.915Z"
   },
   {
    "duration": 5,
    "start_time": "2022-11-17T11:26:04.315Z"
   },
   {
    "duration": 286,
    "start_time": "2022-11-17T11:26:04.731Z"
   },
   {
    "duration": 181,
    "start_time": "2022-11-17T11:26:05.316Z"
   },
   {
    "duration": 746,
    "start_time": "2022-11-17T11:26:05.804Z"
   },
   {
    "duration": 35,
    "start_time": "2022-11-17T11:26:06.787Z"
   },
   {
    "duration": 115,
    "start_time": "2022-11-17T11:26:07.707Z"
   },
   {
    "duration": 30,
    "start_time": "2022-11-17T11:26:08.892Z"
   },
   {
    "duration": 37,
    "start_time": "2022-11-17T11:26:09.827Z"
   },
   {
    "duration": 605,
    "start_time": "2022-11-17T11:26:10.596Z"
   },
   {
    "duration": 51,
    "start_time": "2022-11-17T11:26:11.219Z"
   },
   {
    "duration": 1011,
    "start_time": "2022-11-17T11:26:11.890Z"
   },
   {
    "duration": 27,
    "start_time": "2022-11-17T11:26:12.903Z"
   },
   {
    "duration": 290,
    "start_time": "2022-11-17T11:26:13.308Z"
   },
   {
    "duration": 10,
    "start_time": "2022-11-17T11:26:13.898Z"
   },
   {
    "duration": 35772,
    "start_time": "2022-11-17T11:26:20.547Z"
   },
   {
    "duration": 13,
    "start_time": "2022-11-17T11:27:09.001Z"
   },
   {
    "duration": 92905,
    "start_time": "2022-11-17T11:27:55.898Z"
   },
   {
    "duration": 14,
    "start_time": "2022-11-17T11:30:01.828Z"
   },
   {
    "duration": 159271,
    "start_time": "2022-11-17T11:30:24.092Z"
   },
   {
    "duration": 14,
    "start_time": "2022-11-17T11:36:15.095Z"
   },
   {
    "duration": 320744,
    "start_time": "2022-11-17T11:36:50.462Z"
   },
   {
    "duration": 13,
    "start_time": "2022-11-17T11:42:37.050Z"
   },
   {
    "duration": 42957,
    "start_time": "2022-11-17T11:43:07.674Z"
   },
   {
    "duration": 14,
    "start_time": "2022-11-17T11:44:30.564Z"
   },
   {
    "duration": 194154,
    "start_time": "2022-11-17T11:45:44.646Z"
   },
   {
    "duration": 14,
    "start_time": "2022-11-17T11:49:27.580Z"
   },
   {
    "duration": 12,
    "start_time": "2022-11-17T11:53:51.707Z"
   },
   {
    "duration": 11,
    "start_time": "2022-11-17T11:54:06.092Z"
   },
   {
    "duration": 11,
    "start_time": "2022-11-17T11:54:13.435Z"
   },
   {
    "duration": 1957,
    "start_time": "2022-11-17T12:01:06.526Z"
   },
   {
    "duration": 1974,
    "start_time": "2022-11-17T12:06:43.346Z"
   },
   {
    "duration": 1978,
    "start_time": "2022-11-17T12:08:16.056Z"
   },
   {
    "duration": 2051,
    "start_time": "2022-11-17T12:08:38.382Z"
   },
   {
    "duration": 1953,
    "start_time": "2022-11-17T12:08:53.214Z"
   },
   {
    "duration": 9,
    "start_time": "2022-11-17T12:21:52.892Z"
   },
   {
    "duration": 4,
    "start_time": "2022-11-17T12:22:05.421Z"
   },
   {
    "duration": 5,
    "start_time": "2022-11-17T12:22:11.736Z"
   },
   {
    "duration": 6,
    "start_time": "2022-11-17T12:22:19.083Z"
   },
   {
    "duration": 1969,
    "start_time": "2022-11-17T12:23:08.945Z"
   },
   {
    "duration": 4,
    "start_time": "2022-11-17T12:24:12.455Z"
   },
   {
    "duration": 1917,
    "start_time": "2022-11-17T12:24:20.431Z"
   },
   {
    "duration": 2187,
    "start_time": "2022-11-17T12:24:35.415Z"
   },
   {
    "duration": 2088,
    "start_time": "2022-11-17T12:25:27.269Z"
   },
   {
    "duration": 2138,
    "start_time": "2022-11-17T12:26:37.868Z"
   },
   {
    "duration": 2023,
    "start_time": "2022-11-17T12:27:02.572Z"
   },
   {
    "duration": 2145,
    "start_time": "2022-11-17T12:27:10.898Z"
   },
   {
    "duration": 2073,
    "start_time": "2022-11-17T12:27:38.713Z"
   },
   {
    "duration": 2117,
    "start_time": "2022-11-17T12:28:06.344Z"
   },
   {
    "duration": 2046,
    "start_time": "2022-11-17T12:29:07.422Z"
   },
   {
    "duration": 2,
    "start_time": "2022-11-17T12:38:12.669Z"
   },
   {
    "duration": 71,
    "start_time": "2022-11-17T12:39:39.297Z"
   },
   {
    "duration": 9,
    "start_time": "2022-11-17T12:52:39.720Z"
   },
   {
    "duration": 4,
    "start_time": "2022-11-17T12:52:54.183Z"
   },
   {
    "duration": 2,
    "start_time": "2022-11-17T12:55:16.539Z"
   },
   {
    "duration": 4,
    "start_time": "2022-11-17T12:56:23.232Z"
   },
   {
    "duration": 72,
    "start_time": "2022-11-17T12:56:36.944Z"
   },
   {
    "duration": 4,
    "start_time": "2022-11-17T12:57:53.368Z"
   },
   {
    "duration": 43,
    "start_time": "2022-11-17T12:57:53.749Z"
   },
   {
    "duration": 13,
    "start_time": "2022-11-17T12:57:54.293Z"
   },
   {
    "duration": 7,
    "start_time": "2022-11-17T12:57:54.525Z"
   },
   {
    "duration": 5,
    "start_time": "2022-11-17T12:57:54.976Z"
   },
   {
    "duration": 15,
    "start_time": "2022-11-17T12:57:55.429Z"
   },
   {
    "duration": 14,
    "start_time": "2022-11-17T12:57:56.045Z"
   },
   {
    "duration": 9,
    "start_time": "2022-11-17T12:57:56.540Z"
   },
   {
    "duration": 6,
    "start_time": "2022-11-17T12:57:57.028Z"
   },
   {
    "duration": 5,
    "start_time": "2022-11-17T12:57:57.575Z"
   },
   {
    "duration": 11,
    "start_time": "2022-11-17T12:57:58.101Z"
   },
   {
    "duration": 5,
    "start_time": "2022-11-17T12:57:58.671Z"
   },
   {
    "duration": 5,
    "start_time": "2022-11-17T12:57:59.252Z"
   },
   {
    "duration": 4,
    "start_time": "2022-11-17T12:57:59.500Z"
   },
   {
    "duration": 4,
    "start_time": "2022-11-17T12:57:59.748Z"
   },
   {
    "duration": 5,
    "start_time": "2022-11-17T12:57:59.972Z"
   },
   {
    "duration": 12,
    "start_time": "2022-11-17T12:58:00.437Z"
   },
   {
    "duration": 11,
    "start_time": "2022-11-17T12:58:00.901Z"
   },
   {
    "duration": 9,
    "start_time": "2022-11-17T12:58:01.445Z"
   },
   {
    "duration": 4,
    "start_time": "2022-11-17T12:58:02.237Z"
   },
   {
    "duration": 11,
    "start_time": "2022-11-17T12:58:02.621Z"
   },
   {
    "duration": 28,
    "start_time": "2022-11-17T12:58:03.333Z"
   },
   {
    "duration": 6,
    "start_time": "2022-11-17T12:58:04.368Z"
   },
   {
    "duration": 5,
    "start_time": "2022-11-17T12:58:04.775Z"
   },
   {
    "duration": 6,
    "start_time": "2022-11-17T12:58:05.220Z"
   },
   {
    "duration": 10,
    "start_time": "2022-11-17T12:58:05.477Z"
   },
   {
    "duration": 5,
    "start_time": "2022-11-17T12:58:06.044Z"
   },
   {
    "duration": 326,
    "start_time": "2022-11-17T12:58:06.605Z"
   },
   {
    "duration": 185,
    "start_time": "2022-11-17T12:58:07.829Z"
   },
   {
    "duration": 752,
    "start_time": "2022-11-17T12:58:08.645Z"
   },
   {
    "duration": 79,
    "start_time": "2022-11-17T12:58:09.837Z"
   },
   {
    "duration": 144,
    "start_time": "2022-11-17T12:58:10.973Z"
   },
   {
    "duration": 100,
    "start_time": "2022-11-17T12:58:11.717Z"
   },
   {
    "duration": 37,
    "start_time": "2022-11-17T12:58:12.437Z"
   },
   {
    "duration": 611,
    "start_time": "2022-11-17T12:58:13.189Z"
   },
   {
    "duration": 55,
    "start_time": "2022-11-17T12:58:13.821Z"
   },
   {
    "duration": 1065,
    "start_time": "2022-11-17T12:58:14.397Z"
   },
   {
    "duration": 23,
    "start_time": "2022-11-17T12:58:15.464Z"
   },
   {
    "duration": 310,
    "start_time": "2022-11-17T12:58:15.492Z"
   },
   {
    "duration": 11,
    "start_time": "2022-11-17T12:58:15.870Z"
   },
   {
    "duration": 192760,
    "start_time": "2022-11-17T12:58:17.132Z"
   },
   {
    "duration": 11,
    "start_time": "2022-11-17T13:01:42.830Z"
   },
   {
    "duration": 2212,
    "start_time": "2022-11-17T13:01:50.769Z"
   },
   {
    "duration": 9,
    "start_time": "2022-11-17T13:10:30.366Z"
   },
   {
    "duration": 8,
    "start_time": "2022-11-17T13:11:20.106Z"
   },
   {
    "duration": 7,
    "start_time": "2022-11-17T13:12:10.937Z"
   },
   {
    "duration": 4,
    "start_time": "2022-11-17T13:13:13.735Z"
   },
   {
    "duration": 4,
    "start_time": "2022-11-17T13:26:30.173Z"
   },
   {
    "duration": 44,
    "start_time": "2022-11-17T13:26:30.604Z"
   },
   {
    "duration": 12,
    "start_time": "2022-11-17T13:26:31.292Z"
   },
   {
    "duration": 7,
    "start_time": "2022-11-17T13:26:31.588Z"
   },
   {
    "duration": 5,
    "start_time": "2022-11-17T13:26:32.188Z"
   },
   {
    "duration": 15,
    "start_time": "2022-11-17T13:26:32.780Z"
   },
   {
    "duration": 16,
    "start_time": "2022-11-17T13:26:33.389Z"
   },
   {
    "duration": 10,
    "start_time": "2022-11-17T13:26:34.036Z"
   },
   {
    "duration": 6,
    "start_time": "2022-11-17T13:26:34.782Z"
   },
   {
    "duration": 4,
    "start_time": "2022-11-17T13:26:35.524Z"
   },
   {
    "duration": 12,
    "start_time": "2022-11-17T13:26:36.396Z"
   },
   {
    "duration": 5,
    "start_time": "2022-11-17T13:26:37.332Z"
   },
   {
    "duration": 4,
    "start_time": "2022-11-17T13:26:38.372Z"
   },
   {
    "duration": 5,
    "start_time": "2022-11-17T13:26:38.909Z"
   },
   {
    "duration": 4,
    "start_time": "2022-11-17T13:26:39.299Z"
   },
   {
    "duration": 5,
    "start_time": "2022-11-17T13:26:39.764Z"
   },
   {
    "duration": 12,
    "start_time": "2022-11-17T13:26:40.836Z"
   },
   {
    "duration": 11,
    "start_time": "2022-11-17T13:26:41.444Z"
   },
   {
    "duration": 3,
    "start_time": "2022-11-17T13:27:09.436Z"
   },
   {
    "duration": 47,
    "start_time": "2022-11-17T13:27:09.755Z"
   },
   {
    "duration": 16,
    "start_time": "2022-11-17T13:27:10.195Z"
   },
   {
    "duration": 7,
    "start_time": "2022-11-17T13:27:10.419Z"
   },
   {
    "duration": 4,
    "start_time": "2022-11-17T13:27:10.851Z"
   },
   {
    "duration": 15,
    "start_time": "2022-11-17T13:27:11.282Z"
   },
   {
    "duration": 15,
    "start_time": "2022-11-17T13:27:11.675Z"
   },
   {
    "duration": 9,
    "start_time": "2022-11-17T13:27:12.099Z"
   },
   {
    "duration": 5,
    "start_time": "2022-11-17T13:27:12.643Z"
   },
   {
    "duration": 5,
    "start_time": "2022-11-17T13:27:13.539Z"
   },
   {
    "duration": 12,
    "start_time": "2022-11-17T13:27:14.036Z"
   },
   {
    "duration": 5,
    "start_time": "2022-11-17T13:27:14.730Z"
   },
   {
    "duration": 4,
    "start_time": "2022-11-17T13:27:15.371Z"
   },
   {
    "duration": 5,
    "start_time": "2022-11-17T13:27:15.987Z"
   },
   {
    "duration": 4,
    "start_time": "2022-11-17T13:27:16.270Z"
   },
   {
    "duration": 6,
    "start_time": "2022-11-17T13:27:16.530Z"
   },
   {
    "duration": 11,
    "start_time": "2022-11-17T13:27:17.348Z"
   },
   {
    "duration": 12,
    "start_time": "2022-11-17T13:27:17.794Z"
   },
   {
    "duration": 11,
    "start_time": "2022-11-17T13:28:12.337Z"
   },
   {
    "duration": 2063,
    "start_time": "2022-11-17T13:57:49.983Z"
   },
   {
    "duration": 2078,
    "start_time": "2022-11-17T13:58:08.415Z"
   },
   {
    "duration": 2085,
    "start_time": "2022-11-17T13:58:28.070Z"
   },
   {
    "duration": 2117,
    "start_time": "2022-11-17T13:59:29.372Z"
   },
   {
    "duration": 2217,
    "start_time": "2022-11-17T14:06:58.262Z"
   },
   {
    "duration": 1490,
    "start_time": "2022-11-17T14:28:03.250Z"
   },
   {
    "duration": 99,
    "start_time": "2022-11-17T14:28:04.742Z"
   },
   {
    "duration": 16,
    "start_time": "2022-11-17T14:28:04.843Z"
   },
   {
    "duration": 10,
    "start_time": "2022-11-17T14:28:04.861Z"
   },
   {
    "duration": 8,
    "start_time": "2022-11-17T14:28:04.873Z"
   },
   {
    "duration": 17,
    "start_time": "2022-11-17T14:28:04.882Z"
   },
   {
    "duration": 16,
    "start_time": "2022-11-17T14:28:04.900Z"
   },
   {
    "duration": 10,
    "start_time": "2022-11-17T14:28:04.917Z"
   },
   {
    "duration": 25,
    "start_time": "2022-11-17T14:28:04.928Z"
   },
   {
    "duration": 5,
    "start_time": "2022-11-17T14:28:04.956Z"
   },
   {
    "duration": 24,
    "start_time": "2022-11-17T14:28:04.963Z"
   },
   {
    "duration": 6,
    "start_time": "2022-11-17T14:28:04.989Z"
   },
   {
    "duration": 19,
    "start_time": "2022-11-17T14:28:04.997Z"
   },
   {
    "duration": 19,
    "start_time": "2022-11-17T14:28:05.018Z"
   },
   {
    "duration": 15,
    "start_time": "2022-11-17T14:28:05.039Z"
   },
   {
    "duration": 18,
    "start_time": "2022-11-17T14:28:05.056Z"
   },
   {
    "duration": 19,
    "start_time": "2022-11-17T14:28:05.076Z"
   },
   {
    "duration": 11,
    "start_time": "2022-11-17T14:28:05.097Z"
   },
   {
    "duration": 18,
    "start_time": "2022-11-17T14:28:05.110Z"
   },
   {
    "duration": 5,
    "start_time": "2022-11-17T14:28:05.129Z"
   },
   {
    "duration": 19,
    "start_time": "2022-11-17T14:28:05.136Z"
   },
   {
    "duration": 30,
    "start_time": "2022-11-17T14:28:05.157Z"
   },
   {
    "duration": 7,
    "start_time": "2022-11-17T14:28:05.188Z"
   },
   {
    "duration": 13,
    "start_time": "2022-11-17T14:28:05.196Z"
   },
   {
    "duration": 7,
    "start_time": "2022-11-17T14:28:05.210Z"
   },
   {
    "duration": 10,
    "start_time": "2022-11-17T14:28:05.218Z"
   },
   {
    "duration": 328,
    "start_time": "2022-11-17T14:28:05.230Z"
   },
   {
    "duration": 192,
    "start_time": "2022-11-17T14:28:05.560Z"
   },
   {
    "duration": 761,
    "start_time": "2022-11-17T14:28:05.754Z"
   },
   {
    "duration": 139,
    "start_time": "2022-11-17T14:28:06.517Z"
   },
   {
    "duration": 296,
    "start_time": "2022-11-17T14:28:06.657Z"
   },
   {
    "duration": 204,
    "start_time": "2022-11-17T14:28:06.955Z"
   },
   {
    "duration": 122,
    "start_time": "2022-11-17T14:28:07.161Z"
   },
   {
    "duration": 628,
    "start_time": "2022-11-17T14:28:07.284Z"
   },
   {
    "duration": 64,
    "start_time": "2022-11-17T14:28:07.914Z"
   },
   {
    "duration": 1072,
    "start_time": "2022-11-17T14:28:07.980Z"
   },
   {
    "duration": 23,
    "start_time": "2022-11-17T14:28:09.054Z"
   },
   {
    "duration": 312,
    "start_time": "2022-11-17T14:28:09.079Z"
   },
   {
    "duration": 8,
    "start_time": "2022-11-17T14:28:09.393Z"
   },
   {
    "duration": 200954,
    "start_time": "2022-11-17T14:28:09.403Z"
   },
   {
    "duration": 11,
    "start_time": "2022-11-17T14:31:30.358Z"
   },
   {
    "duration": 2241,
    "start_time": "2022-11-17T14:31:30.371Z"
   },
   {
    "duration": 6,
    "start_time": "2022-11-17T14:31:32.613Z"
   },
   {
    "duration": 50,
    "start_time": "2022-11-18T06:41:46.560Z"
   },
   {
    "duration": 1481,
    "start_time": "2022-11-18T06:41:53.597Z"
   },
   {
    "duration": 83,
    "start_time": "2022-11-18T06:41:55.080Z"
   },
   {
    "duration": 15,
    "start_time": "2022-11-18T06:41:55.229Z"
   },
   {
    "duration": 6,
    "start_time": "2022-11-18T06:41:55.509Z"
   },
   {
    "duration": 4,
    "start_time": "2022-11-18T06:41:56.213Z"
   },
   {
    "duration": 13,
    "start_time": "2022-11-18T06:41:56.661Z"
   },
   {
    "duration": 17,
    "start_time": "2022-11-18T06:41:57.093Z"
   },
   {
    "duration": 10,
    "start_time": "2022-11-18T06:41:57.636Z"
   },
   {
    "duration": 5,
    "start_time": "2022-11-18T06:41:58.708Z"
   },
   {
    "duration": 4,
    "start_time": "2022-11-18T06:41:59.805Z"
   },
   {
    "duration": 11,
    "start_time": "2022-11-18T06:42:00.660Z"
   },
   {
    "duration": 5,
    "start_time": "2022-11-18T06:42:01.316Z"
   },
   {
    "duration": 4,
    "start_time": "2022-11-18T06:42:02.340Z"
   },
   {
    "duration": 3,
    "start_time": "2022-11-18T06:42:02.734Z"
   },
   {
    "duration": 4,
    "start_time": "2022-11-18T06:42:03.131Z"
   },
   {
    "duration": 5,
    "start_time": "2022-11-18T06:42:03.468Z"
   },
   {
    "duration": 10,
    "start_time": "2022-11-18T06:42:04.309Z"
   },
   {
    "duration": 11,
    "start_time": "2022-11-18T06:42:05.548Z"
   },
   {
    "duration": 10,
    "start_time": "2022-11-18T06:42:06.595Z"
   },
   {
    "duration": 4,
    "start_time": "2022-11-18T06:42:07.084Z"
   },
   {
    "duration": 11,
    "start_time": "2022-11-18T06:42:07.364Z"
   },
   {
    "duration": 27,
    "start_time": "2022-11-18T06:42:08.300Z"
   },
   {
    "duration": 6,
    "start_time": "2022-11-18T06:42:09.428Z"
   },
   {
    "duration": 5,
    "start_time": "2022-11-18T06:42:09.780Z"
   },
   {
    "duration": 6,
    "start_time": "2022-11-18T06:42:10.059Z"
   },
   {
    "duration": 4,
    "start_time": "2022-11-18T06:42:10.899Z"
   },
   {
    "duration": 245,
    "start_time": "2022-11-18T06:42:11.916Z"
   },
   {
    "duration": 33,
    "start_time": "2022-11-18T06:42:20.484Z"
   },
   {
    "duration": 280,
    "start_time": "2022-11-18T06:42:33.742Z"
   },
   {
    "duration": 38,
    "start_time": "2022-11-18T06:43:01.003Z"
   },
   {
    "duration": 185,
    "start_time": "2022-11-18T06:43:06.702Z"
   },
   {
    "duration": 826,
    "start_time": "2022-11-18T06:43:29.570Z"
   },
   {
    "duration": 225,
    "start_time": "2022-11-18T06:44:03.592Z"
   },
   {
    "duration": 115,
    "start_time": "2022-11-18T06:44:06.602Z"
   },
   {
    "duration": 48,
    "start_time": "2022-11-18T06:44:35.672Z"
   },
   {
    "duration": 32,
    "start_time": "2022-11-18T06:45:14.590Z"
   },
   {
    "duration": 37,
    "start_time": "2022-11-18T06:45:35.925Z"
   },
   {
    "duration": 600,
    "start_time": "2022-11-18T06:45:58.350Z"
   },
   {
    "duration": 44,
    "start_time": "2022-11-18T06:46:17.380Z"
   },
   {
    "duration": 768,
    "start_time": "2022-11-18T06:46:42.332Z"
   },
   {
    "duration": 25,
    "start_time": "2022-11-18T06:46:59.754Z"
   },
   {
    "duration": 304,
    "start_time": "2022-11-18T06:47:18.282Z"
   },
   {
    "duration": 10,
    "start_time": "2022-11-18T06:47:21.666Z"
   },
   {
    "duration": 145883,
    "start_time": "2022-11-18T06:47:53.713Z"
   },
   {
    "duration": 13,
    "start_time": "2022-11-18T06:51:08.921Z"
   },
   {
    "duration": 53487,
    "start_time": "2022-11-18T06:51:45.961Z"
   },
   {
    "duration": 11,
    "start_time": "2022-11-18T06:54:05.348Z"
   },
   {
    "duration": 156331,
    "start_time": "2022-11-18T06:54:27.874Z"
   },
   {
    "duration": 11,
    "start_time": "2022-11-18T06:57:17.782Z"
   },
   {
    "duration": 448268,
    "start_time": "2022-11-18T06:58:33.228Z"
   },
   {
    "duration": 11,
    "start_time": "2022-11-18T07:06:09.924Z"
   },
   {
    "duration": 479199,
    "start_time": "2022-11-18T07:06:42.187Z"
   },
   {
    "duration": 16,
    "start_time": "2022-11-18T07:14:57.580Z"
   },
   {
    "duration": 174726,
    "start_time": "2022-11-18T07:15:46.033Z"
   },
   {
    "duration": 11,
    "start_time": "2022-11-18T07:19:02.012Z"
   },
   {
    "duration": 242589,
    "start_time": "2022-11-18T07:19:31.579Z"
   },
   {
    "duration": 16,
    "start_time": "2022-11-18T07:23:46.130Z"
   },
   {
    "duration": 1970,
    "start_time": "2022-11-18T07:24:29.049Z"
   },
   {
    "duration": 1919,
    "start_time": "2022-11-18T07:24:52.248Z"
   },
   {
    "duration": 134,
    "start_time": "2022-11-18T07:56:33.938Z"
   },
   {
    "duration": 130,
    "start_time": "2022-11-18T07:57:04.464Z"
   },
   {
    "duration": 5,
    "start_time": "2022-11-18T07:57:20.640Z"
   },
   {
    "duration": 138,
    "start_time": "2022-11-18T08:39:17.997Z"
   },
   {
    "duration": 142,
    "start_time": "2022-11-18T08:39:29.611Z"
   },
   {
    "duration": 274,
    "start_time": "2022-11-18T08:39:50.164Z"
   },
   {
    "duration": 352,
    "start_time": "2022-11-18T08:40:22.214Z"
   },
   {
    "duration": 313,
    "start_time": "2022-11-18T08:40:31.938Z"
   },
   {
    "duration": 121,
    "start_time": "2022-11-18T08:49:27.096Z"
   },
   {
    "duration": 144,
    "start_time": "2022-11-18T08:49:33.472Z"
   },
   {
    "duration": 190,
    "start_time": "2022-11-18T08:49:35.823Z"
   },
   {
    "duration": 190,
    "start_time": "2022-11-18T08:49:38.823Z"
   },
   {
    "duration": 93,
    "start_time": "2022-11-18T08:49:50.921Z"
   },
   {
    "duration": 39,
    "start_time": "2022-11-18T08:49:55.720Z"
   },
   {
    "duration": 635,
    "start_time": "2022-11-18T08:49:57.591Z"
   },
   {
    "duration": 43,
    "start_time": "2022-11-18T08:49:59.615Z"
   },
   {
    "duration": 811,
    "start_time": "2022-11-18T08:50:01.039Z"
   },
   {
    "duration": 26,
    "start_time": "2022-11-18T08:50:03.023Z"
   },
   {
    "duration": 348,
    "start_time": "2022-11-18T08:50:04.512Z"
   },
   {
    "duration": 11,
    "start_time": "2022-11-18T08:50:08.239Z"
   },
   {
    "duration": 337,
    "start_time": "2022-11-18T08:50:16.006Z"
   },
   {
    "duration": 189,
    "start_time": "2022-11-18T08:50:18.830Z"
   },
   {
    "duration": 770,
    "start_time": "2022-11-18T08:50:20.902Z"
   },
   {
    "duration": 58,
    "start_time": "2022-11-18T08:50:30.262Z"
   },
   {
    "duration": 72,
    "start_time": "2022-11-18T08:50:31.750Z"
   },
   {
    "duration": 71,
    "start_time": "2022-11-18T08:50:33.246Z"
   },
   {
    "duration": 41,
    "start_time": "2022-11-18T08:50:34.750Z"
   },
   {
    "duration": 634,
    "start_time": "2022-11-18T08:50:36.158Z"
   },
   {
    "duration": 42,
    "start_time": "2022-11-18T08:50:37.870Z"
   },
   {
    "duration": 793,
    "start_time": "2022-11-18T08:50:39.157Z"
   },
   {
    "duration": 24,
    "start_time": "2022-11-18T08:50:40.741Z"
   },
   {
    "duration": 325,
    "start_time": "2022-11-18T08:50:42.213Z"
   },
   {
    "duration": 13,
    "start_time": "2022-11-18T08:50:44.741Z"
   },
   {
    "duration": 5,
    "start_time": "2022-11-18T08:50:56.405Z"
   },
   {
    "duration": 297,
    "start_time": "2022-11-18T08:50:57.749Z"
   },
   {
    "duration": 199,
    "start_time": "2022-11-18T08:50:59.414Z"
   },
   {
    "duration": 877,
    "start_time": "2022-11-18T08:50:59.838Z"
   },
   {
    "duration": 122,
    "start_time": "2022-11-18T08:51:00.993Z"
   },
   {
    "duration": 200,
    "start_time": "2022-11-18T08:51:01.814Z"
   },
   {
    "duration": 174,
    "start_time": "2022-11-18T08:51:02.445Z"
   },
   {
    "duration": 52,
    "start_time": "2022-11-18T08:51:03.414Z"
   },
   {
    "duration": 645,
    "start_time": "2022-11-18T08:51:04.133Z"
   },
   {
    "duration": 47,
    "start_time": "2022-11-18T08:51:04.869Z"
   },
   {
    "duration": 855,
    "start_time": "2022-11-18T08:51:05.789Z"
   },
   {
    "duration": 26,
    "start_time": "2022-11-18T08:51:06.646Z"
   },
   {
    "duration": 373,
    "start_time": "2022-11-18T08:51:07.444Z"
   },
   {
    "duration": 10,
    "start_time": "2022-11-18T08:51:07.940Z"
   },
   {
    "duration": 170587,
    "start_time": "2022-11-18T08:51:19.588Z"
   },
   {
    "duration": 15,
    "start_time": "2022-11-18T08:54:43.094Z"
   },
   {
    "duration": 1897,
    "start_time": "2022-11-18T08:54:51.708Z"
   },
   {
    "duration": 5,
    "start_time": "2022-11-18T08:55:04.526Z"
   },
   {
    "duration": 1452,
    "start_time": "2022-11-18T21:19:15.421Z"
   },
   {
    "duration": 95,
    "start_time": "2022-11-18T21:19:16.875Z"
   },
   {
    "duration": 15,
    "start_time": "2022-11-18T21:19:16.972Z"
   },
   {
    "duration": 7,
    "start_time": "2022-11-18T21:19:16.990Z"
   },
   {
    "duration": 5,
    "start_time": "2022-11-18T21:19:16.998Z"
   },
   {
    "duration": 16,
    "start_time": "2022-11-18T21:19:17.004Z"
   },
   {
    "duration": 15,
    "start_time": "2022-11-18T21:19:17.021Z"
   },
   {
    "duration": 9,
    "start_time": "2022-11-18T21:19:17.038Z"
   },
   {
    "duration": 5,
    "start_time": "2022-11-18T21:19:17.049Z"
   },
   {
    "duration": 8,
    "start_time": "2022-11-18T21:19:17.056Z"
   },
   {
    "duration": 14,
    "start_time": "2022-11-18T21:19:17.065Z"
   },
   {
    "duration": 4,
    "start_time": "2022-11-18T21:19:17.080Z"
   },
   {
    "duration": 37,
    "start_time": "2022-11-18T21:19:17.085Z"
   },
   {
    "duration": 4,
    "start_time": "2022-11-18T21:19:17.123Z"
   },
   {
    "duration": 8,
    "start_time": "2022-11-18T21:19:17.128Z"
   },
   {
    "duration": 7,
    "start_time": "2022-11-18T21:19:17.138Z"
   },
   {
    "duration": 13,
    "start_time": "2022-11-18T21:19:17.146Z"
   },
   {
    "duration": 15,
    "start_time": "2022-11-18T21:19:17.161Z"
   },
   {
    "duration": 10,
    "start_time": "2022-11-18T21:19:17.177Z"
   },
   {
    "duration": 8,
    "start_time": "2022-11-18T21:19:17.189Z"
   },
   {
    "duration": 28,
    "start_time": "2022-11-18T21:19:17.198Z"
   },
   {
    "duration": 31,
    "start_time": "2022-11-18T21:19:17.227Z"
   },
   {
    "duration": 6,
    "start_time": "2022-11-18T21:19:17.259Z"
   },
   {
    "duration": 144,
    "start_time": "2022-11-18T21:19:17.266Z"
   },
   {
    "duration": 11,
    "start_time": "2022-11-18T21:19:17.412Z"
   },
   {
    "duration": 132,
    "start_time": "2022-11-18T21:19:17.425Z"
   },
   {
    "duration": 6,
    "start_time": "2022-11-18T21:19:17.559Z"
   },
   {
    "duration": 140,
    "start_time": "2022-11-18T21:19:17.568Z"
   },
   {
    "duration": 5,
    "start_time": "2022-11-18T21:19:17.710Z"
   },
   {
    "duration": 328,
    "start_time": "2022-11-18T21:19:17.720Z"
   },
   {
    "duration": 210,
    "start_time": "2022-11-18T21:19:18.049Z"
   },
   {
    "duration": 786,
    "start_time": "2022-11-18T21:19:18.261Z"
   },
   {
    "duration": 180,
    "start_time": "2022-11-18T21:19:19.048Z"
   },
   {
    "duration": 295,
    "start_time": "2022-11-18T21:19:19.230Z"
   },
   {
    "duration": 202,
    "start_time": "2022-11-18T21:19:19.527Z"
   },
   {
    "duration": 38,
    "start_time": "2022-11-18T21:19:19.822Z"
   },
   {
    "duration": 630,
    "start_time": "2022-11-18T21:19:19.862Z"
   },
   {
    "duration": 53,
    "start_time": "2022-11-18T21:19:20.494Z"
   },
   {
    "duration": 803,
    "start_time": "2022-11-18T21:19:20.549Z"
   },
   {
    "duration": 26,
    "start_time": "2022-11-18T21:19:21.354Z"
   },
   {
    "duration": 346,
    "start_time": "2022-11-18T21:19:21.382Z"
   },
   {
    "duration": 9,
    "start_time": "2022-11-18T21:19:21.730Z"
   },
   {
    "duration": 170847,
    "start_time": "2022-11-18T21:19:21.741Z"
   },
   {
    "duration": 13,
    "start_time": "2022-11-18T21:22:12.589Z"
   },
   {
    "duration": 1908,
    "start_time": "2022-11-18T21:22:12.603Z"
   },
   {
    "duration": 4,
    "start_time": "2022-11-18T21:22:14.521Z"
   }
  ],
  "kernelspec": {
   "display_name": "Python 3 (ipykernel)",
   "language": "python",
   "name": "python3"
  },
  "language_info": {
   "codemirror_mode": {
    "name": "ipython",
    "version": 3
   },
   "file_extension": ".py",
   "mimetype": "text/x-python",
   "name": "python",
   "nbconvert_exporter": "python",
   "pygments_lexer": "ipython3",
   "version": "3.9.5"
  },
  "toc": {
   "base_numbering": 1,
   "nav_menu": {},
   "number_sections": true,
   "sideBar": true,
   "skip_h1_title": true,
   "title_cell": "Содержание",
   "title_sidebar": "Contents",
   "toc_cell": true,
   "toc_position": {
    "height": "calc(100% - 180px)",
    "left": "10px",
    "top": "150px",
    "width": "165px"
   },
   "toc_section_display": true,
   "toc_window_display": true
  }
 },
 "nbformat": 4,
 "nbformat_minor": 2
}
